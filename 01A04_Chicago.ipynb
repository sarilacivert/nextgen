{
 "cells": [
  {
   "cell_type": "markdown",
   "metadata": {
    "id": "jBBc1b1HD-Tv"
   },
   "source": [
    "# Assignment 04 LSTM Time Series Chicago\n"
   ]
  },
  {
   "cell_type": "code",
   "execution_count": 1,
   "metadata": {
    "executionInfo": {
     "elapsed": 2570,
     "status": "ok",
     "timestamp": 1647215213509,
     "user": {
      "displayName": "John Foxworthy",
      "photoUrl": "https://lh3.googleusercontent.com/a-/AOh14Gjn2D58SbCMnKjb3yLpkAdgVtfzuDgZkA7M3OtH_Q=s64",
      "userId": "06565867259952209038"
     },
     "user_tz": 420
    },
    "id": "3iYx_Oh4Fl2U"
   },
   "outputs": [],
   "source": [
    "# Data Analysis Libraries\n",
    "import numpy \n",
    "import pandas \n",
    "import math\n",
    "\n",
    "# Data Visualization\n",
    "import matplotlib.pyplot as plt\n",
    "\n",
    "# Data Preprocessing\n",
    "from sklearn.preprocessing import MinMaxScaler\n",
    "\n",
    "# Deep Learning Libraries\n",
    "import tensorflow as tf\n",
    "from keras.models import Sequential\n",
    "from keras.layers import Dense\n",
    "from keras.layers import LSTM\n",
    "\n",
    "# Assessment Libraries\n",
    "from sklearn.metrics import mean_squared_error"
   ]
  },
  {
   "cell_type": "code",
   "execution_count": 2,
   "metadata": {
    "executionInfo": {
     "elapsed": 17,
     "status": "ok",
     "timestamp": 1647215213510,
     "user": {
      "displayName": "John Foxworthy",
      "photoUrl": "https://lh3.googleusercontent.com/a-/AOh14Gjn2D58SbCMnKjb3yLpkAdgVtfzuDgZkA7M3OtH_Q=s64",
      "userId": "06565867259952209038"
     },
     "user_tz": 420
    },
    "id": "RwVHxLqAFnLl"
   },
   "outputs": [],
   "source": [
    "# fix random seed for reproducibility\n",
    "numpy.random.seed(7)"
   ]
  },
  {
   "cell_type": "code",
   "execution_count": 3,
   "metadata": {
    "executionInfo": {
     "elapsed": 17,
     "status": "ok",
     "timestamp": 1647215213511,
     "user": {
      "displayName": "John Foxworthy",
      "photoUrl": "https://lh3.googleusercontent.com/a-/AOh14Gjn2D58SbCMnKjb3yLpkAdgVtfzuDgZkA7M3OtH_Q=s64",
      "userId": "06565867259952209038"
     },
     "user_tz": 420
    },
    "id": "kWHSKSjNFsws"
   },
   "outputs": [],
   "source": [
    "dataframe = pandas.read_csv('/content/sample_data/chi.csv', usecols=[1], engine='python')\n",
    "dataset = dataframe.values\n",
    "dataset = dataset.astype('float32')"
   ]
  },
  {
   "cell_type": "code",
   "execution_count": 4,
   "metadata": {
    "colab": {
     "base_uri": "https://localhost:8080/"
    },
    "executionInfo": {
     "elapsed": 15,
     "status": "ok",
     "timestamp": 1647215213511,
     "user": {
      "displayName": "John Foxworthy",
      "photoUrl": "https://lh3.googleusercontent.com/a-/AOh14Gjn2D58SbCMnKjb3yLpkAdgVtfzuDgZkA7M3OtH_Q=s64",
      "userId": "06565867259952209038"
     },
     "user_tz": 420
    },
    "id": "WrbR7CuGOjWG",
    "outputId": "8c69c5e5-52e2-487a-e6c5-8cff44335dd9"
   },
   "outputs": [
    {
     "name": "stdout",
     "output_type": "stream",
     "text": [
      "<class 'pandas.core.frame.DataFrame'>\n",
      "RangeIndex: 420 entries, 0 to 419\n",
      "Data columns (total 1 columns):\n",
      " #   Column  Non-Null Count  Dtype  \n",
      "---  ------  --------------  -----  \n",
      " 0   CHXRSA  420 non-null    float64\n",
      "dtypes: float64(1)\n",
      "memory usage: 3.4 KB\n"
     ]
    }
   ],
   "source": [
    "dataframe.info()"
   ]
  },
  {
   "cell_type": "code",
   "execution_count": 5,
   "metadata": {
    "executionInfo": {
     "elapsed": 14,
     "status": "ok",
     "timestamp": 1647215213512,
     "user": {
      "displayName": "John Foxworthy",
      "photoUrl": "https://lh3.googleusercontent.com/a-/AOh14Gjn2D58SbCMnKjb3yLpkAdgVtfzuDgZkA7M3OtH_Q=s64",
      "userId": "06565867259952209038"
     },
     "user_tz": 420
    },
    "id": "1vDfFu5gF8yq"
   },
   "outputs": [],
   "source": [
    "# normalize the dataset\n",
    "scaler = MinMaxScaler(feature_range=(0, 1))\n",
    "dataset = scaler.fit_transform(dataset)"
   ]
  },
  {
   "cell_type": "code",
   "execution_count": 6,
   "metadata": {
    "colab": {
     "base_uri": "https://localhost:8080/"
    },
    "executionInfo": {
     "elapsed": 13,
     "status": "ok",
     "timestamp": 1647215213512,
     "user": {
      "displayName": "John Foxworthy",
      "photoUrl": "https://lh3.googleusercontent.com/a-/AOh14Gjn2D58SbCMnKjb3yLpkAdgVtfzuDgZkA7M3OtH_Q=s64",
      "userId": "06565867259952209038"
     },
     "user_tz": 420
    },
    "id": "XkSnJ_O6GCCZ",
    "outputId": "52a87b09-b1b3-415e-aca9-ea3f9eb8bf76"
   },
   "outputs": [
    {
     "name": "stdout",
     "output_type": "stream",
     "text": [
      "294 126\n"
     ]
    }
   ],
   "source": [
    "# split into train and test sets\n",
    "train_size = int(len(dataset) * 0.70)\n",
    "test_size = len(dataset) - train_size\n",
    "train, test = dataset[0:train_size,:], dataset[train_size:len(dataset),:]\n",
    "print(len(train), len(test))"
   ]
  },
  {
   "cell_type": "code",
   "execution_count": 7,
   "metadata": {
    "executionInfo": {
     "elapsed": 12,
     "status": "ok",
     "timestamp": 1647215213513,
     "user": {
      "displayName": "John Foxworthy",
      "photoUrl": "https://lh3.googleusercontent.com/a-/AOh14Gjn2D58SbCMnKjb3yLpkAdgVtfzuDgZkA7M3OtH_Q=s64",
      "userId": "06565867259952209038"
     },
     "user_tz": 420
    },
    "id": "gDP0o54XGGBQ"
   },
   "outputs": [],
   "source": [
    "# convert an array of values into a dataset matrix\n",
    "def create_dataset(dataset, look_back=1):\n",
    "\tdataX, dataY = [], []\n",
    "\tfor i in range(len(dataset)-look_back-1):\n",
    "\t\ta = dataset[i:(i+look_back), 0]\n",
    "\t\tdataX.append(a)\n",
    "\t\tdataY.append(dataset[i + look_back, 0])\n",
    "\treturn numpy.array(dataX), numpy.array(dataY)"
   ]
  },
  {
   "cell_type": "code",
   "execution_count": 8,
   "metadata": {
    "executionInfo": {
     "elapsed": 11,
     "status": "ok",
     "timestamp": 1647215213513,
     "user": {
      "displayName": "John Foxworthy",
      "photoUrl": "https://lh3.googleusercontent.com/a-/AOh14Gjn2D58SbCMnKjb3yLpkAdgVtfzuDgZkA7M3OtH_Q=s64",
      "userId": "06565867259952209038"
     },
     "user_tz": 420
    },
    "id": "8013b7shGM97"
   },
   "outputs": [],
   "source": [
    "# reshape into X=t and Y=t+1\n",
    "look_back = 1\n",
    "trainX, trainY = create_dataset(train, look_back)\n",
    "testX, testY = create_dataset(test, look_back)"
   ]
  },
  {
   "cell_type": "code",
   "execution_count": 9,
   "metadata": {
    "executionInfo": {
     "elapsed": 10,
     "status": "ok",
     "timestamp": 1647215213513,
     "user": {
      "displayName": "John Foxworthy",
      "photoUrl": "https://lh3.googleusercontent.com/a-/AOh14Gjn2D58SbCMnKjb3yLpkAdgVtfzuDgZkA7M3OtH_Q=s64",
      "userId": "06565867259952209038"
     },
     "user_tz": 420
    },
    "id": "0rBSFRpgGRA2"
   },
   "outputs": [],
   "source": [
    "# reshape input to be [samples, time steps, features]\n",
    "trainX = numpy.reshape(trainX, (trainX.shape[0], 1, trainX.shape[1]))\n",
    "testX = numpy.reshape(testX, (testX.shape[0], 1, testX.shape[1]))"
   ]
  },
  {
   "cell_type": "code",
   "execution_count": 10,
   "metadata": {
    "colab": {
     "base_uri": "https://localhost:8080/"
    },
    "executionInfo": {
     "elapsed": 34155,
     "status": "ok",
     "timestamp": 1647215247659,
     "user": {
      "displayName": "John Foxworthy",
      "photoUrl": "https://lh3.googleusercontent.com/a-/AOh14Gjn2D58SbCMnKjb3yLpkAdgVtfzuDgZkA7M3OtH_Q=s64",
      "userId": "06565867259952209038"
     },
     "user_tz": 420
    },
    "id": "XpnmQiq4GVDD",
    "outputId": "6e3cfd13-dc3e-4c3d-bfd2-c231e53364ff"
   },
   "outputs": [
    {
     "name": "stdout",
     "output_type": "stream",
     "text": [
      "Epoch 1/100\n",
      "292/292 - 2s - loss: 0.1691 - 2s/epoch - 6ms/step\n",
      "Epoch 2/100\n",
      "292/292 - 0s - loss: 0.0567 - 340ms/epoch - 1ms/step\n",
      "Epoch 3/100\n",
      "292/292 - 0s - loss: 0.0364 - 339ms/epoch - 1ms/step\n",
      "Epoch 4/100\n",
      "292/292 - 0s - loss: 0.0215 - 327ms/epoch - 1ms/step\n",
      "Epoch 5/100\n",
      "292/292 - 0s - loss: 0.0095 - 341ms/epoch - 1ms/step\n",
      "Epoch 6/100\n",
      "292/292 - 0s - loss: 0.0029 - 345ms/epoch - 1ms/step\n",
      "Epoch 7/100\n",
      "292/292 - 0s - loss: 6.1866e-04 - 339ms/epoch - 1ms/step\n",
      "Epoch 8/100\n",
      "292/292 - 0s - loss: 2.0424e-04 - 329ms/epoch - 1ms/step\n",
      "Epoch 9/100\n",
      "292/292 - 0s - loss: 1.5979e-04 - 340ms/epoch - 1ms/step\n",
      "Epoch 10/100\n",
      "292/292 - 0s - loss: 1.5636e-04 - 327ms/epoch - 1ms/step\n",
      "Epoch 11/100\n",
      "292/292 - 0s - loss: 1.5548e-04 - 328ms/epoch - 1ms/step\n",
      "Epoch 12/100\n",
      "292/292 - 0s - loss: 1.5390e-04 - 339ms/epoch - 1ms/step\n",
      "Epoch 13/100\n",
      "292/292 - 0s - loss: 1.5217e-04 - 332ms/epoch - 1ms/step\n",
      "Epoch 14/100\n",
      "292/292 - 0s - loss: 1.4949e-04 - 329ms/epoch - 1ms/step\n",
      "Epoch 15/100\n",
      "292/292 - 0s - loss: 1.4904e-04 - 335ms/epoch - 1ms/step\n",
      "Epoch 16/100\n",
      "292/292 - 0s - loss: 1.5291e-04 - 326ms/epoch - 1ms/step\n",
      "Epoch 17/100\n",
      "292/292 - 0s - loss: 1.4903e-04 - 323ms/epoch - 1ms/step\n",
      "Epoch 18/100\n",
      "292/292 - 0s - loss: 1.4617e-04 - 321ms/epoch - 1ms/step\n",
      "Epoch 19/100\n",
      "292/292 - 0s - loss: 1.5238e-04 - 325ms/epoch - 1ms/step\n",
      "Epoch 20/100\n",
      "292/292 - 0s - loss: 1.4629e-04 - 318ms/epoch - 1ms/step\n",
      "Epoch 21/100\n",
      "292/292 - 0s - loss: 1.4592e-04 - 318ms/epoch - 1ms/step\n",
      "Epoch 22/100\n",
      "292/292 - 0s - loss: 1.4947e-04 - 314ms/epoch - 1ms/step\n",
      "Epoch 23/100\n",
      "292/292 - 0s - loss: 1.4864e-04 - 317ms/epoch - 1ms/step\n",
      "Epoch 24/100\n",
      "292/292 - 0s - loss: 1.4293e-04 - 313ms/epoch - 1ms/step\n",
      "Epoch 25/100\n",
      "292/292 - 0s - loss: 1.4429e-04 - 316ms/epoch - 1ms/step\n",
      "Epoch 26/100\n",
      "292/292 - 0s - loss: 1.3987e-04 - 320ms/epoch - 1ms/step\n",
      "Epoch 27/100\n",
      "292/292 - 0s - loss: 1.4397e-04 - 319ms/epoch - 1ms/step\n",
      "Epoch 28/100\n",
      "292/292 - 0s - loss: 1.4158e-04 - 315ms/epoch - 1ms/step\n",
      "Epoch 29/100\n",
      "292/292 - 0s - loss: 1.4442e-04 - 318ms/epoch - 1ms/step\n",
      "Epoch 30/100\n",
      "292/292 - 0s - loss: 1.4165e-04 - 314ms/epoch - 1ms/step\n",
      "Epoch 31/100\n",
      "292/292 - 0s - loss: 1.4690e-04 - 316ms/epoch - 1ms/step\n",
      "Epoch 32/100\n",
      "292/292 - 0s - loss: 1.4248e-04 - 311ms/epoch - 1ms/step\n",
      "Epoch 33/100\n",
      "292/292 - 0s - loss: 1.4342e-04 - 318ms/epoch - 1ms/step\n",
      "Epoch 34/100\n",
      "292/292 - 0s - loss: 1.3949e-04 - 319ms/epoch - 1ms/step\n",
      "Epoch 35/100\n",
      "292/292 - 0s - loss: 1.2985e-04 - 320ms/epoch - 1ms/step\n",
      "Epoch 36/100\n",
      "292/292 - 0s - loss: 1.4222e-04 - 316ms/epoch - 1ms/step\n",
      "Epoch 37/100\n",
      "292/292 - 0s - loss: 1.3275e-04 - 322ms/epoch - 1ms/step\n",
      "Epoch 38/100\n",
      "292/292 - 0s - loss: 1.3055e-04 - 319ms/epoch - 1ms/step\n",
      "Epoch 39/100\n",
      "292/292 - 0s - loss: 1.2678e-04 - 312ms/epoch - 1ms/step\n",
      "Epoch 40/100\n",
      "292/292 - 0s - loss: 1.3207e-04 - 311ms/epoch - 1ms/step\n",
      "Epoch 41/100\n",
      "292/292 - 0s - loss: 1.2607e-04 - 314ms/epoch - 1ms/step\n",
      "Epoch 42/100\n",
      "292/292 - 0s - loss: 1.3145e-04 - 325ms/epoch - 1ms/step\n",
      "Epoch 43/100\n",
      "292/292 - 0s - loss: 1.3671e-04 - 317ms/epoch - 1ms/step\n",
      "Epoch 44/100\n",
      "292/292 - 0s - loss: 1.2503e-04 - 321ms/epoch - 1ms/step\n",
      "Epoch 45/100\n",
      "292/292 - 0s - loss: 1.2748e-04 - 313ms/epoch - 1ms/step\n",
      "Epoch 46/100\n",
      "292/292 - 0s - loss: 1.3103e-04 - 318ms/epoch - 1ms/step\n",
      "Epoch 47/100\n",
      "292/292 - 0s - loss: 1.2206e-04 - 320ms/epoch - 1ms/step\n",
      "Epoch 48/100\n",
      "292/292 - 0s - loss: 1.3183e-04 - 307ms/epoch - 1ms/step\n",
      "Epoch 49/100\n",
      "292/292 - 0s - loss: 1.1297e-04 - 327ms/epoch - 1ms/step\n",
      "Epoch 50/100\n",
      "292/292 - 0s - loss: 1.1394e-04 - 319ms/epoch - 1ms/step\n",
      "Epoch 51/100\n",
      "292/292 - 0s - loss: 1.2594e-04 - 314ms/epoch - 1ms/step\n",
      "Epoch 52/100\n",
      "292/292 - 0s - loss: 1.2468e-04 - 324ms/epoch - 1ms/step\n",
      "Epoch 53/100\n",
      "292/292 - 0s - loss: 1.3028e-04 - 311ms/epoch - 1ms/step\n",
      "Epoch 54/100\n",
      "292/292 - 0s - loss: 1.2795e-04 - 316ms/epoch - 1ms/step\n",
      "Epoch 55/100\n",
      "292/292 - 0s - loss: 1.2036e-04 - 316ms/epoch - 1ms/step\n",
      "Epoch 56/100\n",
      "292/292 - 0s - loss: 1.2085e-04 - 317ms/epoch - 1ms/step\n",
      "Epoch 57/100\n",
      "292/292 - 0s - loss: 1.1618e-04 - 311ms/epoch - 1ms/step\n",
      "Epoch 58/100\n",
      "292/292 - 0s - loss: 1.1941e-04 - 315ms/epoch - 1ms/step\n",
      "Epoch 59/100\n",
      "292/292 - 0s - loss: 1.1989e-04 - 324ms/epoch - 1ms/step\n",
      "Epoch 60/100\n",
      "292/292 - 0s - loss: 1.2717e-04 - 320ms/epoch - 1ms/step\n",
      "Epoch 61/100\n",
      "292/292 - 0s - loss: 1.1153e-04 - 323ms/epoch - 1ms/step\n",
      "Epoch 62/100\n",
      "292/292 - 0s - loss: 1.1837e-04 - 319ms/epoch - 1ms/step\n",
      "Epoch 63/100\n",
      "292/292 - 0s - loss: 1.2047e-04 - 312ms/epoch - 1ms/step\n",
      "Epoch 64/100\n",
      "292/292 - 0s - loss: 1.1877e-04 - 311ms/epoch - 1ms/step\n",
      "Epoch 65/100\n",
      "292/292 - 0s - loss: 1.1392e-04 - 324ms/epoch - 1ms/step\n",
      "Epoch 66/100\n",
      "292/292 - 0s - loss: 1.1962e-04 - 320ms/epoch - 1ms/step\n",
      "Epoch 67/100\n",
      "292/292 - 0s - loss: 1.0903e-04 - 323ms/epoch - 1ms/step\n",
      "Epoch 68/100\n",
      "292/292 - 0s - loss: 1.1624e-04 - 323ms/epoch - 1ms/step\n",
      "Epoch 69/100\n",
      "292/292 - 0s - loss: 1.2200e-04 - 326ms/epoch - 1ms/step\n",
      "Epoch 70/100\n",
      "292/292 - 0s - loss: 1.1511e-04 - 320ms/epoch - 1ms/step\n",
      "Epoch 71/100\n",
      "292/292 - 0s - loss: 1.0842e-04 - 332ms/epoch - 1ms/step\n",
      "Epoch 72/100\n",
      "292/292 - 0s - loss: 1.1816e-04 - 328ms/epoch - 1ms/step\n",
      "Epoch 73/100\n",
      "292/292 - 0s - loss: 1.1385e-04 - 331ms/epoch - 1ms/step\n",
      "Epoch 74/100\n",
      "292/292 - 0s - loss: 1.1993e-04 - 332ms/epoch - 1ms/step\n",
      "Epoch 75/100\n",
      "292/292 - 0s - loss: 1.0860e-04 - 321ms/epoch - 1ms/step\n",
      "Epoch 76/100\n",
      "292/292 - 0s - loss: 1.1279e-04 - 332ms/epoch - 1ms/step\n",
      "Epoch 77/100\n",
      "292/292 - 0s - loss: 1.1477e-04 - 331ms/epoch - 1ms/step\n",
      "Epoch 78/100\n",
      "292/292 - 0s - loss: 1.1226e-04 - 323ms/epoch - 1ms/step\n",
      "Epoch 79/100\n",
      "292/292 - 0s - loss: 1.1076e-04 - 326ms/epoch - 1ms/step\n",
      "Epoch 80/100\n",
      "292/292 - 0s - loss: 1.1620e-04 - 324ms/epoch - 1ms/step\n",
      "Epoch 81/100\n",
      "292/292 - 0s - loss: 1.1062e-04 - 324ms/epoch - 1ms/step\n",
      "Epoch 82/100\n",
      "292/292 - 0s - loss: 1.0828e-04 - 331ms/epoch - 1ms/step\n",
      "Epoch 83/100\n",
      "292/292 - 0s - loss: 1.0447e-04 - 329ms/epoch - 1ms/step\n",
      "Epoch 84/100\n",
      "292/292 - 0s - loss: 1.1480e-04 - 321ms/epoch - 1ms/step\n",
      "Epoch 85/100\n",
      "292/292 - 0s - loss: 1.0291e-04 - 309ms/epoch - 1ms/step\n",
      "Epoch 86/100\n",
      "292/292 - 0s - loss: 1.0139e-04 - 321ms/epoch - 1ms/step\n",
      "Epoch 87/100\n",
      "292/292 - 0s - loss: 1.0527e-04 - 313ms/epoch - 1ms/step\n",
      "Epoch 88/100\n",
      "292/292 - 0s - loss: 1.0570e-04 - 312ms/epoch - 1ms/step\n",
      "Epoch 89/100\n",
      "292/292 - 0s - loss: 1.0407e-04 - 318ms/epoch - 1ms/step\n",
      "Epoch 90/100\n",
      "292/292 - 0s - loss: 1.0030e-04 - 306ms/epoch - 1ms/step\n",
      "Epoch 91/100\n",
      "292/292 - 0s - loss: 1.0195e-04 - 312ms/epoch - 1ms/step\n",
      "Epoch 92/100\n",
      "292/292 - 0s - loss: 1.0831e-04 - 331ms/epoch - 1ms/step\n",
      "Epoch 93/100\n",
      "292/292 - 0s - loss: 1.0472e-04 - 319ms/epoch - 1ms/step\n",
      "Epoch 94/100\n",
      "292/292 - 0s - loss: 1.0849e-04 - 318ms/epoch - 1ms/step\n",
      "Epoch 95/100\n",
      "292/292 - 0s - loss: 1.0825e-04 - 316ms/epoch - 1ms/step\n",
      "Epoch 96/100\n",
      "292/292 - 0s - loss: 1.0185e-04 - 311ms/epoch - 1ms/step\n",
      "Epoch 97/100\n",
      "292/292 - 0s - loss: 1.0438e-04 - 310ms/epoch - 1ms/step\n",
      "Epoch 98/100\n",
      "292/292 - 0s - loss: 1.0701e-04 - 316ms/epoch - 1ms/step\n",
      "Epoch 99/100\n",
      "292/292 - 0s - loss: 9.5910e-05 - 330ms/epoch - 1ms/step\n",
      "Epoch 100/100\n",
      "292/292 - 0s - loss: 1.0274e-04 - 305ms/epoch - 1ms/step\n",
      "CPU times: user 47.2 s, sys: 9.27 s, total: 56.5 s\n",
      "Wall time: 34.1 s\n"
     ]
    }
   ],
   "source": [
    "# create and fit the LSTM network\n",
    "%%time\n",
    "model = Sequential()\n",
    "model.add(LSTM(4, input_shape=(1, look_back)))\n",
    "model.add(Dense(1))\n",
    "model.compile(loss='mean_squared_error', optimizer='adam')\n",
    "model.fit(trainX, trainY, epochs=100, batch_size=1, verbose=2)\n"
   ]
  },
  {
   "cell_type": "code",
   "execution_count": 11,
   "metadata": {
    "colab": {
     "base_uri": "https://localhost:8080/"
    },
    "executionInfo": {
     "elapsed": 8,
     "status": "ok",
     "timestamp": 1647215247659,
     "user": {
      "displayName": "John Foxworthy",
      "photoUrl": "https://lh3.googleusercontent.com/a-/AOh14Gjn2D58SbCMnKjb3yLpkAdgVtfzuDgZkA7M3OtH_Q=s64",
      "userId": "06565867259952209038"
     },
     "user_tz": 420
    },
    "id": "JSoL5hN6q6yR",
    "outputId": "1ebb4cec-f1af-418c-ff88-81b6e847fbcc"
   },
   "outputs": [
    {
     "name": "stdout",
     "output_type": "stream",
     "text": [
      "Model: \"sequential\"\n",
      "_________________________________________________________________\n",
      " Layer (type)                Output Shape              Param #   \n",
      "=================================================================\n",
      " lstm (LSTM)                 (None, 4)                 96        \n",
      "                                                                 \n",
      " dense (Dense)               (None, 1)                 5         \n",
      "                                                                 \n",
      "=================================================================\n",
      "Total params: 101\n",
      "Trainable params: 101\n",
      "Non-trainable params: 0\n",
      "_________________________________________________________________\n"
     ]
    }
   ],
   "source": [
    "model.summary()"
   ]
  },
  {
   "cell_type": "code",
   "execution_count": 12,
   "metadata": {
    "colab": {
     "base_uri": "https://localhost:8080/",
     "height": 284
    },
    "executionInfo": {
     "elapsed": 743,
     "status": "ok",
     "timestamp": 1647215248399,
     "user": {
      "displayName": "John Foxworthy",
      "photoUrl": "https://lh3.googleusercontent.com/a-/AOh14Gjn2D58SbCMnKjb3yLpkAdgVtfzuDgZkA7M3OtH_Q=s64",
      "userId": "06565867259952209038"
     },
     "user_tz": 420
    },
    "id": "cUpSlu64dnWf",
    "outputId": "a539e975-b39d-4ae8-9759-fd9aea26c36b"
   },
   "outputs": [
    {
     "name": "stdout",
     "output_type": "stream",
     "text": [
      "R-Squared: 0.992938\n"
     ]
    },
    {
     "data": {
      "image/png": "[encoded data removed]",
      "text/plain": [
       "<Figure size 432x288 with 1 Axes>"
      ]
     },
     "metadata": {
      "needs_background": "light"
     },
     "output_type": "display_data"
    }
   ],
   "source": [
    "from sklearn.metrics import r2_score\n",
    "\n",
    "y_pred = model.predict(testX)\n",
    "plt.plot(testY)\n",
    "plt.plot(y_pred)\n",
    "print('R-Squared: %f'%(r2_score(testY, y_pred)))"
   ]
  },
  {
   "cell_type": "code",
   "execution_count": 13,
   "metadata": {
    "colab": {
     "base_uri": "https://localhost:8080/"
    },
    "executionInfo": {
     "elapsed": 6,
     "status": "ok",
     "timestamp": 1647215248399,
     "user": {
      "displayName": "John Foxworthy",
      "photoUrl": "https://lh3.googleusercontent.com/a-/AOh14Gjn2D58SbCMnKjb3yLpkAdgVtfzuDgZkA7M3OtH_Q=s64",
      "userId": "06565867259952209038"
     },
     "user_tz": 420
    },
    "id": "dVg8Sbri8V-P",
    "outputId": "f1eda9ba-b8d5-4c72-c8db-ab86d16abdd1"
   },
   "outputs": [
    {
     "data": {
      "text/plain": [
       "21.196184"
      ]
     },
     "execution_count": 13,
     "metadata": {},
     "output_type": "execute_result"
    }
   ],
   "source": [
    "mape = tf.keras.losses.MeanAbsolutePercentageError()\n",
    "mape(testY, y_pred).numpy()"
   ]
  },
  {
   "cell_type": "code",
   "execution_count": 14,
   "metadata": {
    "executionInfo": {
     "elapsed": 310,
     "status": "ok",
     "timestamp": 1647215248704,
     "user": {
      "displayName": "John Foxworthy",
      "photoUrl": "https://lh3.googleusercontent.com/a-/AOh14Gjn2D58SbCMnKjb3yLpkAdgVtfzuDgZkA7M3OtH_Q=s64",
      "userId": "06565867259952209038"
     },
     "user_tz": 420
    },
    "id": "lVnNZTNEGaJ9"
   },
   "outputs": [],
   "source": [
    "# make predictions\n",
    "trainPredict = model.predict(trainX)\n",
    "testPredict = model.predict(testX)"
   ]
  },
  {
   "cell_type": "code",
   "execution_count": 15,
   "metadata": {
    "executionInfo": {
     "elapsed": 9,
     "status": "ok",
     "timestamp": 1647215248704,
     "user": {
      "displayName": "John Foxworthy",
      "photoUrl": "https://lh3.googleusercontent.com/a-/AOh14Gjn2D58SbCMnKjb3yLpkAdgVtfzuDgZkA7M3OtH_Q=s64",
      "userId": "06565867259952209038"
     },
     "user_tz": 420
    },
    "id": "vDiFewECGmna"
   },
   "outputs": [],
   "source": [
    "# invert predictions\n",
    "trainPredict = scaler.inverse_transform(trainPredict)\n",
    "trainY = scaler.inverse_transform([trainY])\n",
    "testPredict = scaler.inverse_transform(testPredict)\n",
    "testY = scaler.inverse_transform([testY])"
   ]
  },
  {
   "cell_type": "code",
   "execution_count": 16,
   "metadata": {
    "colab": {
     "base_uri": "https://localhost:8080/"
    },
    "executionInfo": {
     "elapsed": 10,
     "status": "ok",
     "timestamp": 1647215248705,
     "user": {
      "displayName": "John Foxworthy",
      "photoUrl": "https://lh3.googleusercontent.com/a-/AOh14Gjn2D58SbCMnKjb3yLpkAdgVtfzuDgZkA7M3OtH_Q=s64",
      "userId": "06565867259952209038"
     },
     "user_tz": 420
    },
    "id": "MVlq8jGMGopp",
    "outputId": "73119131-1eb6-40e9-bcbc-451844890287"
   },
   "outputs": [
    {
     "name": "stdout",
     "output_type": "stream",
     "text": [
      "Train Score: 1.17 RMSE\n",
      "Test Score: 1.23 RMSE\n"
     ]
    }
   ],
   "source": [
    "# calculate root mean squared error\n",
    "trainScore = math.sqrt(mean_squared_error(trainY[0], trainPredict[:,0]))\n",
    "print('Train Score: %.2f RMSE' % (trainScore))\n",
    "testScore = math.sqrt(mean_squared_error(testY[0], testPredict[:,0]))\n",
    "print('Test Score: %.2f RMSE' % (testScore))"
   ]
  },
  {
   "cell_type": "code",
   "execution_count": 17,
   "metadata": {
    "colab": {
     "base_uri": "https://localhost:8080/",
     "height": 269
    },
    "executionInfo": {
     "elapsed": 9,
     "status": "ok",
     "timestamp": 1647215248705,
     "user": {
      "displayName": "John Foxworthy",
      "photoUrl": "https://lh3.googleusercontent.com/a-/AOh14Gjn2D58SbCMnKjb3yLpkAdgVtfzuDgZkA7M3OtH_Q=s64",
      "userId": "06565867259952209038"
     },
     "user_tz": 420
    },
    "id": "K-Y8pynvGsFu",
    "outputId": "b5884418-0a20-4ef9-97fb-20e0967c6289"
   },
   "outputs": [
    {
     "data": {
      "image/png": "[encoded data removed]",
      "text/plain": [
       "<Figure size 432x288 with 1 Axes>"
      ]
     },
     "metadata": {
      "needs_background": "light"
     },
     "output_type": "display_data"
    }
   ],
   "source": [
    "# shift train predictions for plotting\n",
    "trainPredictPlot = numpy.empty_like(dataset)\n",
    "trainPredictPlot[:, :] = numpy.nan\n",
    "trainPredictPlot[look_back:len(trainPredict)+look_back, :] = trainPredict\n",
    "\n",
    "# shift test predictions for plotting\n",
    "testPredictPlot = numpy.empty_like(dataset)\n",
    "testPredictPlot[:, :] = numpy.nan\n",
    "testPredictPlot[len(trainPredict)+(look_back*2)+1:len(dataset)-1, :] = testPredict\n",
    "\n",
    "# plot baseline and predictions\n",
    "plt.plot(scaler.inverse_transform(dataset))\n",
    "plt.plot(trainPredictPlot)\n",
    "plt.plot(testPredictPlot)\n",
    "plt.show()"
   ]
  },
  {
   "cell_type": "code",
   "execution_count": 17,
   "metadata": {
    "executionInfo": {
     "elapsed": 6,
     "status": "ok",
     "timestamp": 1647215248705,
     "user": {
      "displayName": "John Foxworthy",
      "photoUrl": "https://lh3.googleusercontent.com/a-/AOh14Gjn2D58SbCMnKjb3yLpkAdgVtfzuDgZkA7M3OtH_Q=s64",
      "userId": "06565867259952209038"
     },
     "user_tz": 420
    },
    "id": "mIriezgN7ENu"
   },
   "outputs": [],
   "source": []
  }
 ],
 "metadata": {
  "colab": {
   "authorship_tag": "ABX9TyPwX8zi4JnqYkdpPmQCGAOu",
   "collapsed_sections": [],
   "mount_file_id": "1ObxYg2WvzRDI3Jd7zzDPxxSbbdynlIWS",
   "name": "01A04_Chicago.ipynb",
   "provenance": [
    {
     "file_id": "109QkHsu7vRucaK9qdW71ue53iwqeVmzh",
     "timestamp": 1647202763029
    },
    {
     "file_id": "1dY4cAt9xjBgbNY4LHeJAqxpZFI0OLeRK",
     "timestamp": 1646788712728
    },
    {
     "file_id": "1ObxYg2WvzRDI3Jd7zzDPxxSbbdynlIWS",
     "timestamp": 1646603763919
    }
   ]
  },
  "kernelspec": {
   "display_name": "Python 3 (ipykernel)",
   "language": "python",
   "name": "python3"
  },
  "language_info": {
   "codemirror_mode": {
    "name": "ipython",
    "version": 3
   },
   "file_extension": ".py",
   "mimetype": "text/x-python",
   "name": "python",
   "nbconvert_exporter": "python",
   "pygments_lexer": "ipython3",
   "version": "3.7.6"
  }
 },
 "nbformat": 4,
 "nbformat_minor": 4
}
