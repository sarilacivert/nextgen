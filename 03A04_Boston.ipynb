{
 "cells": [
  {
   "cell_type": "markdown",
   "metadata": {
    "id": "jBBc1b1HD-Tv"
   },
   "source": [
    "# Assignment 04 LSTM Time Series Boston with 2 LSTM cells\n",
    "\n"
   ]
  },
  {
   "cell_type": "code",
   "execution_count": 1,
   "metadata": {
    "executionInfo": {
     "elapsed": 3235,
     "status": "ok",
     "timestamp": 1647217120061,
     "user": {
      "displayName": "John Foxworthy",
      "photoUrl": "https://lh3.googleusercontent.com/a-/AOh14Gjn2D58SbCMnKjb3yLpkAdgVtfzuDgZkA7M3OtH_Q=s64",
      "userId": "06565867259952209038"
     },
     "user_tz": 420
    },
    "id": "3iYx_Oh4Fl2U"
   },
   "outputs": [],
   "source": [
    "# Data Analysis Libraries\n",
    "import numpy \n",
    "import pandas \n",
    "import math\n",
    "\n",
    "# Data Visualization\n",
    "import matplotlib.pyplot as plt\n",
    "\n",
    "# Data Preprocessing\n",
    "from sklearn.preprocessing import MinMaxScaler\n",
    "\n",
    "# Deep Learning Libraries\n",
    "import tensorflow as tf\n",
    "from keras.models import Sequential\n",
    "from keras.layers import Dense\n",
    "from keras.layers import LSTM\n",
    "\n",
    "# Assessment Libraries\n",
    "from sklearn.metrics import mean_squared_error"
   ]
  },
  {
   "cell_type": "code",
   "execution_count": 2,
   "metadata": {
    "executionInfo": {
     "elapsed": 149,
     "status": "ok",
     "timestamp": 1647217126440,
     "user": {
      "displayName": "John Foxworthy",
      "photoUrl": "https://lh3.googleusercontent.com/a-/AOh14Gjn2D58SbCMnKjb3yLpkAdgVtfzuDgZkA7M3OtH_Q=s64",
      "userId": "06565867259952209038"
     },
     "user_tz": 420
    },
    "id": "RwVHxLqAFnLl"
   },
   "outputs": [],
   "source": [
    "# fix random seed for reproducibility\n",
    "numpy.random.seed(7)"
   ]
  },
  {
   "cell_type": "code",
   "execution_count": 3,
   "metadata": {
    "executionInfo": {
     "elapsed": 167,
     "status": "ok",
     "timestamp": 1647217127653,
     "user": {
      "displayName": "John Foxworthy",
      "photoUrl": "https://lh3.googleusercontent.com/a-/AOh14Gjn2D58SbCMnKjb3yLpkAdgVtfzuDgZkA7M3OtH_Q=s64",
      "userId": "06565867259952209038"
     },
     "user_tz": 420
    },
    "id": "kWHSKSjNFsws"
   },
   "outputs": [],
   "source": [
    "dataframe = pandas.read_csv('/content/sample_data/bos.csv', usecols=[1], engine='python')\n",
    "dataset = dataframe.values\n",
    "dataset = dataset.astype('float32')"
   ]
  },
  {
   "cell_type": "code",
   "execution_count": 4,
   "metadata": {
    "colab": {
     "base_uri": "https://localhost:8080/"
    },
    "executionInfo": {
     "elapsed": 184,
     "status": "ok",
     "timestamp": 1647217129507,
     "user": {
      "displayName": "John Foxworthy",
      "photoUrl": "https://lh3.googleusercontent.com/a-/AOh14Gjn2D58SbCMnKjb3yLpkAdgVtfzuDgZkA7M3OtH_Q=s64",
      "userId": "06565867259952209038"
     },
     "user_tz": 420
    },
    "id": "WrbR7CuGOjWG",
    "outputId": "90d3775b-feb2-48af-f61d-c7bbf2a48631"
   },
   "outputs": [
    {
     "name": "stdout",
     "output_type": "stream",
     "text": [
      "<class 'pandas.core.frame.DataFrame'>\n",
      "RangeIndex: 420 entries, 0 to 419\n",
      "Data columns (total 1 columns):\n",
      " #   Column  Non-Null Count  Dtype  \n",
      "---  ------  --------------  -----  \n",
      " 0   BOXRSA  420 non-null    float64\n",
      "dtypes: float64(1)\n",
      "memory usage: 3.4 KB\n"
     ]
    }
   ],
   "source": [
    "dataframe.info()"
   ]
  },
  {
   "cell_type": "code",
   "execution_count": 5,
   "metadata": {
    "executionInfo": {
     "elapsed": 185,
     "status": "ok",
     "timestamp": 1647217131624,
     "user": {
      "displayName": "John Foxworthy",
      "photoUrl": "https://lh3.googleusercontent.com/a-/AOh14Gjn2D58SbCMnKjb3yLpkAdgVtfzuDgZkA7M3OtH_Q=s64",
      "userId": "06565867259952209038"
     },
     "user_tz": 420
    },
    "id": "1vDfFu5gF8yq"
   },
   "outputs": [],
   "source": [
    "# normalize the dataset\n",
    "scaler = MinMaxScaler(feature_range=(0, 1))\n",
    "dataset = scaler.fit_transform(dataset)"
   ]
  },
  {
   "cell_type": "code",
   "execution_count": 6,
   "metadata": {
    "colab": {
     "base_uri": "https://localhost:8080/"
    },
    "executionInfo": {
     "elapsed": 144,
     "status": "ok",
     "timestamp": 1647217133350,
     "user": {
      "displayName": "John Foxworthy",
      "photoUrl": "https://lh3.googleusercontent.com/a-/AOh14Gjn2D58SbCMnKjb3yLpkAdgVtfzuDgZkA7M3OtH_Q=s64",
      "userId": "06565867259952209038"
     },
     "user_tz": 420
    },
    "id": "XkSnJ_O6GCCZ",
    "outputId": "11b8cae4-867c-4c55-d530-3a713252f4af"
   },
   "outputs": [
    {
     "name": "stdout",
     "output_type": "stream",
     "text": [
      "294 126\n"
     ]
    }
   ],
   "source": [
    "# split into train and test sets\n",
    "train_size = int(len(dataset) * 0.70)\n",
    "test_size = len(dataset) - train_size\n",
    "train, test = dataset[0:train_size,:], dataset[train_size:len(dataset),:]\n",
    "print(len(train), len(test))"
   ]
  },
  {
   "cell_type": "code",
   "execution_count": 7,
   "metadata": {
    "executionInfo": {
     "elapsed": 129,
     "status": "ok",
     "timestamp": 1647217134557,
     "user": {
      "displayName": "John Foxworthy",
      "photoUrl": "https://lh3.googleusercontent.com/a-/AOh14Gjn2D58SbCMnKjb3yLpkAdgVtfzuDgZkA7M3OtH_Q=s64",
      "userId": "06565867259952209038"
     },
     "user_tz": 420
    },
    "id": "gDP0o54XGGBQ"
   },
   "outputs": [],
   "source": [
    "# convert an array of values into a dataset matrix\n",
    "def create_dataset(dataset, look_back=1):\n",
    "\tdataX, dataY = [], []\n",
    "\tfor i in range(len(dataset)-look_back-1):\n",
    "\t\ta = dataset[i:(i+look_back), 0]\n",
    "\t\tdataX.append(a)\n",
    "\t\tdataY.append(dataset[i + look_back, 0])\n",
    "\treturn numpy.array(dataX), numpy.array(dataY)"
   ]
  },
  {
   "cell_type": "code",
   "execution_count": 8,
   "metadata": {
    "executionInfo": {
     "elapsed": 144,
     "status": "ok",
     "timestamp": 1647217135852,
     "user": {
      "displayName": "John Foxworthy",
      "photoUrl": "https://lh3.googleusercontent.com/a-/AOh14Gjn2D58SbCMnKjb3yLpkAdgVtfzuDgZkA7M3OtH_Q=s64",
      "userId": "06565867259952209038"
     },
     "user_tz": 420
    },
    "id": "8013b7shGM97"
   },
   "outputs": [],
   "source": [
    "# reshape into X=t and Y=t+1\n",
    "look_back = 1\n",
    "trainX, trainY = create_dataset(train, look_back)\n",
    "testX, testY = create_dataset(test, look_back)"
   ]
  },
  {
   "cell_type": "code",
   "execution_count": 9,
   "metadata": {
    "executionInfo": {
     "elapsed": 135,
     "status": "ok",
     "timestamp": 1647217137402,
     "user": {
      "displayName": "John Foxworthy",
      "photoUrl": "https://lh3.googleusercontent.com/a-/AOh14Gjn2D58SbCMnKjb3yLpkAdgVtfzuDgZkA7M3OtH_Q=s64",
      "userId": "06565867259952209038"
     },
     "user_tz": 420
    },
    "id": "0rBSFRpgGRA2"
   },
   "outputs": [],
   "source": [
    "# reshape input to be [samples, time steps, features]\n",
    "trainX = numpy.reshape(trainX, (trainX.shape[0], 1, trainX.shape[1]))\n",
    "testX = numpy.reshape(testX, (testX.shape[0], 1, testX.shape[1]))"
   ]
  },
  {
   "cell_type": "code",
   "execution_count": 10,
   "metadata": {
    "colab": {
     "base_uri": "https://localhost:8080/"
    },
    "executionInfo": {
     "elapsed": 45499,
     "status": "ok",
     "timestamp": 1647217184669,
     "user": {
      "displayName": "John Foxworthy",
      "photoUrl": "https://lh3.googleusercontent.com/a-/AOh14Gjn2D58SbCMnKjb3yLpkAdgVtfzuDgZkA7M3OtH_Q=s64",
      "userId": "06565867259952209038"
     },
     "user_tz": 420
    },
    "id": "XpnmQiq4GVDD",
    "outputId": "87c3e3b6-6de6-4d67-f9fa-5277af6b833d"
   },
   "outputs": [
    {
     "name": "stdout",
     "output_type": "stream",
     "text": [
      "Epoch 1/100\n",
      "292/292 - 2s - loss: 0.0226 - 2s/epoch - 8ms/step\n",
      "Epoch 2/100\n",
      "292/292 - 0s - loss: 0.0092 - 445ms/epoch - 2ms/step\n",
      "Epoch 3/100\n",
      "292/292 - 0s - loss: 0.0038 - 426ms/epoch - 1ms/step\n",
      "Epoch 4/100\n",
      "292/292 - 0s - loss: 9.5933e-04 - 426ms/epoch - 1ms/step\n",
      "Epoch 5/100\n",
      "292/292 - 0s - loss: 1.6657e-04 - 425ms/epoch - 1ms/step\n",
      "Epoch 6/100\n",
      "292/292 - 0s - loss: 6.7290e-05 - 433ms/epoch - 1ms/step\n",
      "Epoch 7/100\n",
      "292/292 - 0s - loss: 6.1150e-05 - 426ms/epoch - 1ms/step\n",
      "Epoch 8/100\n",
      "292/292 - 0s - loss: 5.8172e-05 - 415ms/epoch - 1ms/step\n",
      "Epoch 9/100\n",
      "292/292 - 0s - loss: 5.7662e-05 - 408ms/epoch - 1ms/step\n",
      "Epoch 10/100\n",
      "292/292 - 0s - loss: 5.4295e-05 - 418ms/epoch - 1ms/step\n",
      "Epoch 11/100\n",
      "292/292 - 0s - loss: 5.5036e-05 - 409ms/epoch - 1ms/step\n",
      "Epoch 12/100\n",
      "292/292 - 0s - loss: 5.3263e-05 - 408ms/epoch - 1ms/step\n",
      "Epoch 13/100\n",
      "292/292 - 0s - loss: 5.0201e-05 - 418ms/epoch - 1ms/step\n",
      "Epoch 14/100\n",
      "292/292 - 0s - loss: 4.7643e-05 - 418ms/epoch - 1ms/step\n",
      "Epoch 15/100\n",
      "292/292 - 0s - loss: 4.3412e-05 - 424ms/epoch - 1ms/step\n",
      "Epoch 16/100\n",
      "292/292 - 0s - loss: 4.5768e-05 - 416ms/epoch - 1ms/step\n",
      "Epoch 17/100\n",
      "292/292 - 0s - loss: 4.3023e-05 - 420ms/epoch - 1ms/step\n",
      "Epoch 18/100\n",
      "292/292 - 0s - loss: 4.0036e-05 - 411ms/epoch - 1ms/step\n",
      "Epoch 19/100\n",
      "292/292 - 0s - loss: 3.6381e-05 - 403ms/epoch - 1ms/step\n",
      "Epoch 20/100\n",
      "292/292 - 0s - loss: 3.4802e-05 - 413ms/epoch - 1ms/step\n",
      "Epoch 21/100\n",
      "292/292 - 0s - loss: 3.2836e-05 - 401ms/epoch - 1ms/step\n",
      "Epoch 22/100\n",
      "292/292 - 0s - loss: 2.9384e-05 - 428ms/epoch - 1ms/step\n",
      "Epoch 23/100\n",
      "292/292 - 0s - loss: 2.9215e-05 - 408ms/epoch - 1ms/step\n",
      "Epoch 24/100\n",
      "292/292 - 0s - loss: 2.8312e-05 - 411ms/epoch - 1ms/step\n",
      "Epoch 25/100\n",
      "292/292 - 0s - loss: 2.7324e-05 - 415ms/epoch - 1ms/step\n",
      "Epoch 26/100\n",
      "292/292 - 0s - loss: 2.6832e-05 - 430ms/epoch - 1ms/step\n",
      "Epoch 27/100\n",
      "292/292 - 0s - loss: 2.3086e-05 - 436ms/epoch - 1ms/step\n",
      "Epoch 28/100\n",
      "292/292 - 0s - loss: 2.1431e-05 - 451ms/epoch - 2ms/step\n",
      "Epoch 29/100\n",
      "292/292 - 0s - loss: 2.1813e-05 - 447ms/epoch - 2ms/step\n",
      "Epoch 30/100\n",
      "292/292 - 0s - loss: 2.3101e-05 - 413ms/epoch - 1ms/step\n",
      "Epoch 31/100\n",
      "292/292 - 0s - loss: 2.0950e-05 - 420ms/epoch - 1ms/step\n",
      "Epoch 32/100\n",
      "292/292 - 0s - loss: 1.8847e-05 - 410ms/epoch - 1ms/step\n",
      "Epoch 33/100\n",
      "292/292 - 0s - loss: 1.8599e-05 - 416ms/epoch - 1ms/step\n",
      "Epoch 34/100\n",
      "292/292 - 0s - loss: 2.1071e-05 - 417ms/epoch - 1ms/step\n",
      "Epoch 35/100\n",
      "292/292 - 0s - loss: 1.7591e-05 - 419ms/epoch - 1ms/step\n",
      "Epoch 36/100\n",
      "292/292 - 0s - loss: 1.7794e-05 - 428ms/epoch - 1ms/step\n",
      "Epoch 37/100\n",
      "292/292 - 0s - loss: 2.0870e-05 - 429ms/epoch - 1ms/step\n",
      "Epoch 38/100\n",
      "292/292 - 0s - loss: 1.9687e-05 - 440ms/epoch - 2ms/step\n",
      "Epoch 39/100\n",
      "292/292 - 0s - loss: 1.9114e-05 - 429ms/epoch - 1ms/step\n",
      "Epoch 40/100\n",
      "292/292 - 0s - loss: 2.0280e-05 - 428ms/epoch - 1ms/step\n",
      "Epoch 41/100\n",
      "292/292 - 0s - loss: 1.8670e-05 - 427ms/epoch - 1ms/step\n",
      "Epoch 42/100\n",
      "292/292 - 0s - loss: 2.0805e-05 - 426ms/epoch - 1ms/step\n",
      "Epoch 43/100\n",
      "292/292 - 0s - loss: 2.0977e-05 - 438ms/epoch - 2ms/step\n",
      "Epoch 44/100\n",
      "292/292 - 0s - loss: 2.0201e-05 - 438ms/epoch - 1ms/step\n",
      "Epoch 45/100\n",
      "292/292 - 0s - loss: 1.7412e-05 - 442ms/epoch - 2ms/step\n",
      "Epoch 46/100\n",
      "292/292 - 0s - loss: 2.2304e-05 - 431ms/epoch - 1ms/step\n",
      "Epoch 47/100\n",
      "292/292 - 0s - loss: 1.8338e-05 - 437ms/epoch - 1ms/step\n",
      "Epoch 48/100\n",
      "292/292 - 0s - loss: 1.8932e-05 - 427ms/epoch - 1ms/step\n",
      "Epoch 49/100\n",
      "292/292 - 0s - loss: 1.7569e-05 - 432ms/epoch - 1ms/step\n",
      "Epoch 50/100\n",
      "292/292 - 0s - loss: 1.9450e-05 - 438ms/epoch - 2ms/step\n",
      "Epoch 51/100\n",
      "292/292 - 0s - loss: 2.1336e-05 - 420ms/epoch - 1ms/step\n",
      "Epoch 52/100\n",
      "292/292 - 0s - loss: 1.9533e-05 - 432ms/epoch - 1ms/step\n",
      "Epoch 53/100\n",
      "292/292 - 0s - loss: 1.8853e-05 - 423ms/epoch - 1ms/step\n",
      "Epoch 54/100\n",
      "292/292 - 0s - loss: 2.0572e-05 - 424ms/epoch - 1ms/step\n",
      "Epoch 55/100\n",
      "292/292 - 0s - loss: 1.9363e-05 - 410ms/epoch - 1ms/step\n",
      "Epoch 56/100\n",
      "292/292 - 0s - loss: 2.2613e-05 - 405ms/epoch - 1ms/step\n",
      "Epoch 57/100\n",
      "292/292 - 0s - loss: 1.7930e-05 - 423ms/epoch - 1ms/step\n",
      "Epoch 58/100\n",
      "292/292 - 0s - loss: 1.9753e-05 - 417ms/epoch - 1ms/step\n",
      "Epoch 59/100\n",
      "292/292 - 0s - loss: 1.9339e-05 - 422ms/epoch - 1ms/step\n",
      "Epoch 60/100\n",
      "292/292 - 0s - loss: 1.8748e-05 - 414ms/epoch - 1ms/step\n",
      "Epoch 61/100\n",
      "292/292 - 0s - loss: 1.8522e-05 - 417ms/epoch - 1ms/step\n",
      "Epoch 62/100\n",
      "292/292 - 0s - loss: 1.8236e-05 - 407ms/epoch - 1ms/step\n",
      "Epoch 63/100\n",
      "292/292 - 0s - loss: 2.0515e-05 - 410ms/epoch - 1ms/step\n",
      "Epoch 64/100\n",
      "292/292 - 0s - loss: 1.8794e-05 - 414ms/epoch - 1ms/step\n",
      "Epoch 65/100\n",
      "292/292 - 0s - loss: 2.0673e-05 - 412ms/epoch - 1ms/step\n",
      "Epoch 66/100\n",
      "292/292 - 0s - loss: 2.0121e-05 - 418ms/epoch - 1ms/step\n",
      "Epoch 67/100\n",
      "292/292 - 0s - loss: 1.8521e-05 - 415ms/epoch - 1ms/step\n",
      "Epoch 68/100\n",
      "292/292 - 0s - loss: 1.6786e-05 - 422ms/epoch - 1ms/step\n",
      "Epoch 69/100\n",
      "292/292 - 0s - loss: 2.1156e-05 - 430ms/epoch - 1ms/step\n",
      "Epoch 70/100\n",
      "292/292 - 0s - loss: 1.9717e-05 - 416ms/epoch - 1ms/step\n",
      "Epoch 71/100\n",
      "292/292 - 0s - loss: 2.0893e-05 - 420ms/epoch - 1ms/step\n",
      "Epoch 72/100\n",
      "292/292 - 0s - loss: 1.9054e-05 - 433ms/epoch - 1ms/step\n",
      "Epoch 73/100\n",
      "292/292 - 0s - loss: 2.0413e-05 - 451ms/epoch - 2ms/step\n",
      "Epoch 74/100\n",
      "292/292 - 0s - loss: 1.8142e-05 - 435ms/epoch - 1ms/step\n",
      "Epoch 75/100\n",
      "292/292 - 0s - loss: 1.9389e-05 - 426ms/epoch - 1ms/step\n",
      "Epoch 76/100\n",
      "292/292 - 0s - loss: 1.8594e-05 - 433ms/epoch - 1ms/step\n",
      "Epoch 77/100\n",
      "292/292 - 0s - loss: 1.7848e-05 - 417ms/epoch - 1ms/step\n",
      "Epoch 78/100\n",
      "292/292 - 0s - loss: 2.0963e-05 - 427ms/epoch - 1ms/step\n",
      "Epoch 79/100\n",
      "292/292 - 0s - loss: 2.0877e-05 - 428ms/epoch - 1ms/step\n",
      "Epoch 80/100\n",
      "292/292 - 0s - loss: 1.9271e-05 - 435ms/epoch - 1ms/step\n",
      "Epoch 81/100\n",
      "292/292 - 0s - loss: 2.1555e-05 - 435ms/epoch - 1ms/step\n",
      "Epoch 82/100\n",
      "292/292 - 0s - loss: 2.1170e-05 - 433ms/epoch - 1ms/step\n",
      "Epoch 83/100\n",
      "292/292 - 0s - loss: 1.8042e-05 - 438ms/epoch - 2ms/step\n",
      "Epoch 84/100\n",
      "292/292 - 0s - loss: 2.0855e-05 - 428ms/epoch - 1ms/step\n",
      "Epoch 85/100\n",
      "292/292 - 0s - loss: 1.9899e-05 - 446ms/epoch - 2ms/step\n",
      "Epoch 86/100\n",
      "292/292 - 0s - loss: 1.9300e-05 - 429ms/epoch - 1ms/step\n",
      "Epoch 87/100\n",
      "292/292 - 0s - loss: 1.7858e-05 - 429ms/epoch - 1ms/step\n",
      "Epoch 88/100\n",
      "292/292 - 0s - loss: 1.9834e-05 - 430ms/epoch - 1ms/step\n",
      "Epoch 89/100\n",
      "292/292 - 0s - loss: 1.8688e-05 - 424ms/epoch - 1ms/step\n",
      "Epoch 90/100\n",
      "292/292 - 0s - loss: 1.9727e-05 - 424ms/epoch - 1ms/step\n",
      "Epoch 91/100\n",
      "292/292 - 0s - loss: 1.7987e-05 - 422ms/epoch - 1ms/step\n",
      "Epoch 92/100\n",
      "292/292 - 0s - loss: 1.7795e-05 - 426ms/epoch - 1ms/step\n",
      "Epoch 93/100\n",
      "292/292 - 0s - loss: 2.0261e-05 - 429ms/epoch - 1ms/step\n",
      "Epoch 94/100\n",
      "292/292 - 0s - loss: 1.9117e-05 - 430ms/epoch - 1ms/step\n",
      "Epoch 95/100\n",
      "292/292 - 0s - loss: 1.9197e-05 - 438ms/epoch - 2ms/step\n",
      "Epoch 96/100\n",
      "292/292 - 0s - loss: 1.9802e-05 - 444ms/epoch - 2ms/step\n",
      "Epoch 97/100\n",
      "292/292 - 0s - loss: 1.8220e-05 - 441ms/epoch - 2ms/step\n",
      "Epoch 98/100\n",
      "292/292 - 0s - loss: 1.7394e-05 - 419ms/epoch - 1ms/step\n",
      "Epoch 99/100\n",
      "292/292 - 0s - loss: 2.1783e-05 - 418ms/epoch - 1ms/step\n",
      "Epoch 100/100\n",
      "292/292 - 0s - loss: 2.0500e-05 - 413ms/epoch - 1ms/step\n",
      "CPU times: user 1min 10s, sys: 14.7 s, total: 1min 24s\n",
      "Wall time: 45.3 s\n"
     ]
    }
   ],
   "source": [
    "# create and fit the LSTM network\n",
    "%%time\n",
    "model = Sequential()\n",
    "model.add(LSTM(2, input_shape=(1, look_back)))\n",
    "model.add(Dense(1))\n",
    "model.compile(loss='mean_squared_error', optimizer='adam')\n",
    "model.fit(trainX, trainY, epochs=100, batch_size=1, verbose=2)\n"
   ]
  },
  {
   "cell_type": "code",
   "execution_count": 11,
   "metadata": {
    "colab": {
     "base_uri": "https://localhost:8080/"
    },
    "executionInfo": {
     "elapsed": 141,
     "status": "ok",
     "timestamp": 1647217194341,
     "user": {
      "displayName": "John Foxworthy",
      "photoUrl": "https://lh3.googleusercontent.com/a-/AOh14Gjn2D58SbCMnKjb3yLpkAdgVtfzuDgZkA7M3OtH_Q=s64",
      "userId": "06565867259952209038"
     },
     "user_tz": 420
    },
    "id": "YjovYhFYyg1x",
    "outputId": "88f5c854-1648-43b3-d219-a9ab4026cdc5"
   },
   "outputs": [
    {
     "name": "stdout",
     "output_type": "stream",
     "text": [
      "Model: \"sequential\"\n",
      "_________________________________________________________________\n",
      " Layer (type)                Output Shape              Param #   \n",
      "=================================================================\n",
      " lstm (LSTM)                 (None, 2)                 32        \n",
      "                                                                 \n",
      " dense (Dense)               (None, 1)                 3         \n",
      "                                                                 \n",
      "=================================================================\n",
      "Total params: 35\n",
      "Trainable params: 35\n",
      "Non-trainable params: 0\n",
      "_________________________________________________________________\n"
     ]
    }
   ],
   "source": [
    "model.summary()"
   ]
  },
  {
   "cell_type": "code",
   "execution_count": 12,
   "metadata": {
    "colab": {
     "base_uri": "https://localhost:8080/",
     "height": 283
    },
    "executionInfo": {
     "elapsed": 989,
     "status": "ok",
     "timestamp": 1647217197901,
     "user": {
      "displayName": "John Foxworthy",
      "photoUrl": "https://lh3.googleusercontent.com/a-/AOh14Gjn2D58SbCMnKjb3yLpkAdgVtfzuDgZkA7M3OtH_Q=s64",
      "userId": "06565867259952209038"
     },
     "user_tz": 420
    },
    "id": "cUpSlu64dnWf",
    "outputId": "bd905a6a-1413-4fd4-afb0-eb0fe712fa1e"
   },
   "outputs": [
    {
     "name": "stdout",
     "output_type": "stream",
     "text": [
      "R-Squared: 0.929144\n"
     ]
    },
    {
     "data": {
      "image/png": "[encoded data removed]",
      "text/plain": [
       "<Figure size 432x288 with 1 Axes>"
      ]
     },
     "metadata": {
      "needs_background": "light"
     },
     "output_type": "display_data"
    }
   ],
   "source": [
    "from sklearn.metrics import r2_score\n",
    "\n",
    "y_pred = model.predict(testX)\n",
    "plt.plot(testY)\n",
    "plt.plot(y_pred)\n",
    "print('R-Squared: %f'%(r2_score(testY, y_pred)))"
   ]
  },
  {
   "cell_type": "code",
   "execution_count": 13,
   "metadata": {
    "colab": {
     "base_uri": "https://localhost:8080/"
    },
    "executionInfo": {
     "elapsed": 133,
     "status": "ok",
     "timestamp": 1647217210640,
     "user": {
      "displayName": "John Foxworthy",
      "photoUrl": "https://lh3.googleusercontent.com/a-/AOh14Gjn2D58SbCMnKjb3yLpkAdgVtfzuDgZkA7M3OtH_Q=s64",
      "userId": "06565867259952209038"
     },
     "user_tz": 420
    },
    "id": "QWbv-uOQ0nPC",
    "outputId": "f6aeb006-d79a-4570-8376-db0b0d87d0f8"
   },
   "outputs": [
    {
     "data": {
      "text/plain": [
       "27.132534"
      ]
     },
     "execution_count": 13,
     "metadata": {},
     "output_type": "execute_result"
    }
   ],
   "source": [
    "mape = tf.keras.losses.MeanAbsolutePercentageError()\n",
    "mape(testY, y_pred).numpy()"
   ]
  },
  {
   "cell_type": "code",
   "execution_count": 14,
   "metadata": {
    "executionInfo": {
     "elapsed": 321,
     "status": "ok",
     "timestamp": 1647217212236,
     "user": {
      "displayName": "John Foxworthy",
      "photoUrl": "https://lh3.googleusercontent.com/a-/AOh14Gjn2D58SbCMnKjb3yLpkAdgVtfzuDgZkA7M3OtH_Q=s64",
      "userId": "06565867259952209038"
     },
     "user_tz": 420
    },
    "id": "lVnNZTNEGaJ9"
   },
   "outputs": [],
   "source": [
    "# make predictions\n",
    "trainPredict = model.predict(trainX)\n",
    "testPredict = model.predict(testX)"
   ]
  },
  {
   "cell_type": "code",
   "execution_count": 15,
   "metadata": {
    "executionInfo": {
     "elapsed": 146,
     "status": "ok",
     "timestamp": 1647217221591,
     "user": {
      "displayName": "John Foxworthy",
      "photoUrl": "https://lh3.googleusercontent.com/a-/AOh14Gjn2D58SbCMnKjb3yLpkAdgVtfzuDgZkA7M3OtH_Q=s64",
      "userId": "06565867259952209038"
     },
     "user_tz": 420
    },
    "id": "vDiFewECGmna"
   },
   "outputs": [],
   "source": [
    "# invert predictions\n",
    "trainPredict = scaler.inverse_transform(trainPredict)\n",
    "trainY = scaler.inverse_transform([trainY])\n",
    "testPredict = scaler.inverse_transform(testPredict)\n",
    "testY = scaler.inverse_transform([testY])"
   ]
  },
  {
   "cell_type": "code",
   "execution_count": 16,
   "metadata": {
    "colab": {
     "base_uri": "https://localhost:8080/"
    },
    "executionInfo": {
     "elapsed": 139,
     "status": "ok",
     "timestamp": 1647217223468,
     "user": {
      "displayName": "John Foxworthy",
      "photoUrl": "https://lh3.googleusercontent.com/a-/AOh14Gjn2D58SbCMnKjb3yLpkAdgVtfzuDgZkA7M3OtH_Q=s64",
      "userId": "06565867259952209038"
     },
     "user_tz": 420
    },
    "id": "MVlq8jGMGopp",
    "outputId": "93124d5b-0cd8-45ef-e152-2220beeb72f2"
   },
   "outputs": [
    {
     "name": "stdout",
     "output_type": "stream",
     "text": [
      "Train Score: 1.14 RMSE\n",
      "Test Score: 9.25 RMSE\n"
     ]
    }
   ],
   "source": [
    "# calculate root mean squared error\n",
    "trainScore = math.sqrt(mean_squared_error(trainY[0], trainPredict[:,0]))\n",
    "print('Train Score: %.2f RMSE' % (trainScore))\n",
    "testScore = math.sqrt(mean_squared_error(testY[0], testPredict[:,0]))\n",
    "print('Test Score: %.2f RMSE' % (testScore))"
   ]
  },
  {
   "cell_type": "code",
   "execution_count": 17,
   "metadata": {
    "colab": {
     "base_uri": "https://localhost:8080/",
     "height": 265
    },
    "executionInfo": {
     "elapsed": 333,
     "status": "ok",
     "timestamp": 1647217225231,
     "user": {
      "displayName": "John Foxworthy",
      "photoUrl": "https://lh3.googleusercontent.com/a-/AOh14Gjn2D58SbCMnKjb3yLpkAdgVtfzuDgZkA7M3OtH_Q=s64",
      "userId": "06565867259952209038"
     },
     "user_tz": 420
    },
    "id": "K-Y8pynvGsFu",
    "outputId": "1ae81518-5e98-49c4-8c5f-de82a56e21df"
   },
   "outputs": [
    {
     "data": {
      "image/png": "[encoded data removed]",
      "text/plain": [
       "<Figure size 432x288 with 1 Axes>"
      ]
     },
     "metadata": {
      "needs_background": "light"
     },
     "output_type": "display_data"
    }
   ],
   "source": [
    "# shift train predictions for plotting\n",
    "trainPredictPlot = numpy.empty_like(dataset)\n",
    "trainPredictPlot[:, :] = numpy.nan\n",
    "trainPredictPlot[look_back:len(trainPredict)+look_back, :] = trainPredict\n",
    "\n",
    "# shift test predictions for plotting\n",
    "testPredictPlot = numpy.empty_like(dataset)\n",
    "testPredictPlot[:, :] = numpy.nan\n",
    "testPredictPlot[len(trainPredict)+(look_back*2)+1:len(dataset)-1, :] = testPredict\n",
    "\n",
    "# plot baseline and predictions\n",
    "plt.plot(scaler.inverse_transform(dataset))\n",
    "plt.plot(trainPredictPlot)\n",
    "plt.plot(testPredictPlot)\n",
    "plt.show()"
   ]
  },
  {
   "cell_type": "code",
   "execution_count": null,
   "metadata": {
    "id": "mIriezgN7ENu"
   },
   "outputs": [],
   "source": []
  }
 ],
 "metadata": {
  "colab": {
   "authorship_tag": "ABX9TyMoAQZRj9gPzsSLEQxY3lbb",
   "collapsed_sections": [],
   "mount_file_id": "1ObxYg2WvzRDI3Jd7zzDPxxSbbdynlIWS",
   "name": "03A04_Boston.ipynb",
   "provenance": [
    {
     "file_id": "1Vi2Ki8N19-6xxdaJfgNZ_7wQTR-a1dfA",
     "timestamp": 1647207726851
    },
    {
     "file_id": "11I3Gqw3fcrLaKnGcGWvSsbfUDI8ZOr7S",
     "timestamp": 1647200393367
    },
    {
     "file_id": "109QkHsu7vRucaK9qdW71ue53iwqeVmzh",
     "timestamp": 1646879387485
    },
    {
     "file_id": "1dY4cAt9xjBgbNY4LHeJAqxpZFI0OLeRK",
     "timestamp": 1646788712728
    },
    {
     "file_id": "1ObxYg2WvzRDI3Jd7zzDPxxSbbdynlIWS",
     "timestamp": 1646603763919
    }
   ]
  },
  "kernelspec": {
   "display_name": "Python 3 (ipykernel)",
   "language": "python",
   "name": "python3"
  },
  "language_info": {
   "codemirror_mode": {
    "name": "ipython",
    "version": 3
   },
   "file_extension": ".py",
   "mimetype": "text/x-python",
   "name": "python",
   "nbconvert_exporter": "python",
   "pygments_lexer": "ipython3",
   "version": "3.7.6"
  }
 },
 "nbformat": 4,
 "nbformat_minor": 4
}
