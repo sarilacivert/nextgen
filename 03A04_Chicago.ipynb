{
 "cells": [
  {
   "cell_type": "markdown",
   "metadata": {
    "id": "jBBc1b1HD-Tv"
   },
   "source": [
    "# Assignment 04 LSTM Time Series Chicago with 2 LSTM cells\n"
   ]
  },
  {
   "cell_type": "code",
   "execution_count": 1,
   "metadata": {
    "executionInfo": {
     "elapsed": 2962,
     "status": "ok",
     "timestamp": 1647216811968,
     "user": {
      "displayName": "John Foxworthy",
      "photoUrl": "https://lh3.googleusercontent.com/a-/AOh14Gjn2D58SbCMnKjb3yLpkAdgVtfzuDgZkA7M3OtH_Q=s64",
      "userId": "06565867259952209038"
     },
     "user_tz": 420
    },
    "id": "3iYx_Oh4Fl2U"
   },
   "outputs": [],
   "source": [
    "# Data Analysis Libraries\n",
    "import numpy \n",
    "import pandas \n",
    "import math\n",
    "\n",
    "# Data Visualization\n",
    "import matplotlib.pyplot as plt\n",
    "\n",
    "# Data Preprocessing\n",
    "from sklearn.preprocessing import MinMaxScaler\n",
    "\n",
    "# Deep Learning Libraries\n",
    "import tensorflow as tf\n",
    "from keras.models import Sequential\n",
    "from keras.layers import Dense\n",
    "from keras.layers import LSTM\n",
    "\n",
    "# Assessment Libraries\n",
    "from sklearn.metrics import mean_squared_error"
   ]
  },
  {
   "cell_type": "code",
   "execution_count": 2,
   "metadata": {
    "executionInfo": {
     "elapsed": 190,
     "status": "ok",
     "timestamp": 1647216817943,
     "user": {
      "displayName": "John Foxworthy",
      "photoUrl": "https://lh3.googleusercontent.com/a-/AOh14Gjn2D58SbCMnKjb3yLpkAdgVtfzuDgZkA7M3OtH_Q=s64",
      "userId": "06565867259952209038"
     },
     "user_tz": 420
    },
    "id": "RwVHxLqAFnLl"
   },
   "outputs": [],
   "source": [
    "# fix random seed for reproducibility\n",
    "numpy.random.seed(7)"
   ]
  },
  {
   "cell_type": "code",
   "execution_count": 3,
   "metadata": {
    "executionInfo": {
     "elapsed": 3,
     "status": "ok",
     "timestamp": 1647216818582,
     "user": {
      "displayName": "John Foxworthy",
      "photoUrl": "https://lh3.googleusercontent.com/a-/AOh14Gjn2D58SbCMnKjb3yLpkAdgVtfzuDgZkA7M3OtH_Q=s64",
      "userId": "06565867259952209038"
     },
     "user_tz": 420
    },
    "id": "kWHSKSjNFsws"
   },
   "outputs": [],
   "source": [
    "dataframe = pandas.read_csv('/content/sample_data/chi.csv', usecols=[1], engine='python')\n",
    "dataset = dataframe.values\n",
    "dataset = dataset.astype('float32')"
   ]
  },
  {
   "cell_type": "code",
   "execution_count": 4,
   "metadata": {
    "colab": {
     "base_uri": "https://localhost:8080/"
    },
    "executionInfo": {
     "elapsed": 162,
     "status": "ok",
     "timestamp": 1647216819826,
     "user": {
      "displayName": "John Foxworthy",
      "photoUrl": "https://lh3.googleusercontent.com/a-/AOh14Gjn2D58SbCMnKjb3yLpkAdgVtfzuDgZkA7M3OtH_Q=s64",
      "userId": "06565867259952209038"
     },
     "user_tz": 420
    },
    "id": "WrbR7CuGOjWG",
    "outputId": "bea021e0-c23a-4e7b-bb76-a9aa0bd9c654"
   },
   "outputs": [
    {
     "name": "stdout",
     "output_type": "stream",
     "text": [
      "<class 'pandas.core.frame.DataFrame'>\n",
      "RangeIndex: 420 entries, 0 to 419\n",
      "Data columns (total 1 columns):\n",
      " #   Column  Non-Null Count  Dtype  \n",
      "---  ------  --------------  -----  \n",
      " 0   CHXRSA  420 non-null    float64\n",
      "dtypes: float64(1)\n",
      "memory usage: 3.4 KB\n"
     ]
    }
   ],
   "source": [
    "dataframe.info()"
   ]
  },
  {
   "cell_type": "code",
   "execution_count": 5,
   "metadata": {
    "executionInfo": {
     "elapsed": 137,
     "status": "ok",
     "timestamp": 1647216822355,
     "user": {
      "displayName": "John Foxworthy",
      "photoUrl": "https://lh3.googleusercontent.com/a-/AOh14Gjn2D58SbCMnKjb3yLpkAdgVtfzuDgZkA7M3OtH_Q=s64",
      "userId": "06565867259952209038"
     },
     "user_tz": 420
    },
    "id": "1vDfFu5gF8yq"
   },
   "outputs": [],
   "source": [
    "# normalize the dataset\n",
    "scaler = MinMaxScaler(feature_range=(0, 1))\n",
    "dataset = scaler.fit_transform(dataset)"
   ]
  },
  {
   "cell_type": "code",
   "execution_count": 6,
   "metadata": {
    "colab": {
     "base_uri": "https://localhost:8080/"
    },
    "executionInfo": {
     "elapsed": 147,
     "status": "ok",
     "timestamp": 1647216823266,
     "user": {
      "displayName": "John Foxworthy",
      "photoUrl": "https://lh3.googleusercontent.com/a-/AOh14Gjn2D58SbCMnKjb3yLpkAdgVtfzuDgZkA7M3OtH_Q=s64",
      "userId": "06565867259952209038"
     },
     "user_tz": 420
    },
    "id": "XkSnJ_O6GCCZ",
    "outputId": "1847b041-a6fa-44cc-9b03-125fca0142cf"
   },
   "outputs": [
    {
     "name": "stdout",
     "output_type": "stream",
     "text": [
      "294 126\n"
     ]
    }
   ],
   "source": [
    "# split into train and test sets\n",
    "train_size = int(len(dataset) * 0.70)\n",
    "test_size = len(dataset) - train_size\n",
    "train, test = dataset[0:train_size,:], dataset[train_size:len(dataset),:]\n",
    "print(len(train), len(test))"
   ]
  },
  {
   "cell_type": "code",
   "execution_count": 7,
   "metadata": {
    "executionInfo": {
     "elapsed": 144,
     "status": "ok",
     "timestamp": 1647216824458,
     "user": {
      "displayName": "John Foxworthy",
      "photoUrl": "https://lh3.googleusercontent.com/a-/AOh14Gjn2D58SbCMnKjb3yLpkAdgVtfzuDgZkA7M3OtH_Q=s64",
      "userId": "06565867259952209038"
     },
     "user_tz": 420
    },
    "id": "gDP0o54XGGBQ"
   },
   "outputs": [],
   "source": [
    "# convert an array of values into a dataset matrix\n",
    "def create_dataset(dataset, look_back=1):\n",
    "\tdataX, dataY = [], []\n",
    "\tfor i in range(len(dataset)-look_back-1):\n",
    "\t\ta = dataset[i:(i+look_back), 0]\n",
    "\t\tdataX.append(a)\n",
    "\t\tdataY.append(dataset[i + look_back, 0])\n",
    "\treturn numpy.array(dataX), numpy.array(dataY)"
   ]
  },
  {
   "cell_type": "code",
   "execution_count": 8,
   "metadata": {
    "executionInfo": {
     "elapsed": 158,
     "status": "ok",
     "timestamp": 1647216825974,
     "user": {
      "displayName": "John Foxworthy",
      "photoUrl": "https://lh3.googleusercontent.com/a-/AOh14Gjn2D58SbCMnKjb3yLpkAdgVtfzuDgZkA7M3OtH_Q=s64",
      "userId": "06565867259952209038"
     },
     "user_tz": 420
    },
    "id": "8013b7shGM97"
   },
   "outputs": [],
   "source": [
    "# reshape into X=t and Y=t+1\n",
    "look_back = 1\n",
    "trainX, trainY = create_dataset(train, look_back)\n",
    "testX, testY = create_dataset(test, look_back)"
   ]
  },
  {
   "cell_type": "code",
   "execution_count": 9,
   "metadata": {
    "executionInfo": {
     "elapsed": 2,
     "status": "ok",
     "timestamp": 1647216826644,
     "user": {
      "displayName": "John Foxworthy",
      "photoUrl": "https://lh3.googleusercontent.com/a-/AOh14Gjn2D58SbCMnKjb3yLpkAdgVtfzuDgZkA7M3OtH_Q=s64",
      "userId": "06565867259952209038"
     },
     "user_tz": 420
    },
    "id": "0rBSFRpgGRA2"
   },
   "outputs": [],
   "source": [
    "# reshape input to be [samples, time steps, features]\n",
    "trainX = numpy.reshape(trainX, (trainX.shape[0], 1, trainX.shape[1]))\n",
    "testX = numpy.reshape(testX, (testX.shape[0], 1, testX.shape[1]))"
   ]
  },
  {
   "cell_type": "code",
   "execution_count": 10,
   "metadata": {
    "colab": {
     "base_uri": "https://localhost:8080/"
    },
    "executionInfo": {
     "elapsed": 34259,
     "status": "ok",
     "timestamp": 1647216862951,
     "user": {
      "displayName": "John Foxworthy",
      "photoUrl": "https://lh3.googleusercontent.com/a-/AOh14Gjn2D58SbCMnKjb3yLpkAdgVtfzuDgZkA7M3OtH_Q=s64",
      "userId": "06565867259952209038"
     },
     "user_tz": 420
    },
    "id": "XpnmQiq4GVDD",
    "outputId": "dd4fec11-4906-4452-b8ef-c153694d3cb1"
   },
   "outputs": [
    {
     "name": "stdout",
     "output_type": "stream",
     "text": [
      "Epoch 1/100\n",
      "292/292 - 2s - loss: 0.1102 - 2s/epoch - 6ms/step\n",
      "Epoch 2/100\n",
      "292/292 - 0s - loss: 0.0412 - 316ms/epoch - 1ms/step\n",
      "Epoch 3/100\n",
      "292/292 - 0s - loss: 0.0281 - 316ms/epoch - 1ms/step\n",
      "Epoch 4/100\n",
      "292/292 - 0s - loss: 0.0182 - 325ms/epoch - 1ms/step\n",
      "Epoch 5/100\n",
      "292/292 - 0s - loss: 0.0100 - 323ms/epoch - 1ms/step\n",
      "Epoch 6/100\n",
      "292/292 - 0s - loss: 0.0045 - 317ms/epoch - 1ms/step\n",
      "Epoch 7/100\n",
      "292/292 - 0s - loss: 0.0017 - 315ms/epoch - 1ms/step\n",
      "Epoch 8/100\n",
      "292/292 - 0s - loss: 5.8650e-04 - 323ms/epoch - 1ms/step\n",
      "Epoch 9/100\n",
      "292/292 - 0s - loss: 2.8233e-04 - 323ms/epoch - 1ms/step\n",
      "Epoch 10/100\n",
      "292/292 - 0s - loss: 2.2636e-04 - 308ms/epoch - 1ms/step\n",
      "Epoch 11/100\n",
      "292/292 - 0s - loss: 2.0704e-04 - 311ms/epoch - 1ms/step\n",
      "Epoch 12/100\n",
      "292/292 - 0s - loss: 1.9620e-04 - 315ms/epoch - 1ms/step\n",
      "Epoch 13/100\n",
      "292/292 - 0s - loss: 1.9352e-04 - 312ms/epoch - 1ms/step\n",
      "Epoch 14/100\n",
      "292/292 - 0s - loss: 1.7963e-04 - 306ms/epoch - 1ms/step\n",
      "Epoch 15/100\n",
      "292/292 - 0s - loss: 1.7647e-04 - 312ms/epoch - 1ms/step\n",
      "Epoch 16/100\n",
      "292/292 - 0s - loss: 1.6973e-04 - 306ms/epoch - 1ms/step\n",
      "Epoch 17/100\n",
      "292/292 - 0s - loss: 1.6203e-04 - 314ms/epoch - 1ms/step\n",
      "Epoch 18/100\n",
      "292/292 - 0s - loss: 1.5302e-04 - 309ms/epoch - 1ms/step\n",
      "Epoch 19/100\n",
      "292/292 - 0s - loss: 1.5233e-04 - 324ms/epoch - 1ms/step\n",
      "Epoch 20/100\n",
      "292/292 - 0s - loss: 1.4975e-04 - 313ms/epoch - 1ms/step\n",
      "Epoch 21/100\n",
      "292/292 - 0s - loss: 1.4420e-04 - 309ms/epoch - 1ms/step\n",
      "Epoch 22/100\n",
      "292/292 - 0s - loss: 1.4412e-04 - 315ms/epoch - 1ms/step\n",
      "Epoch 23/100\n",
      "292/292 - 0s - loss: 1.4955e-04 - 323ms/epoch - 1ms/step\n",
      "Epoch 24/100\n",
      "292/292 - 0s - loss: 1.4001e-04 - 317ms/epoch - 1ms/step\n",
      "Epoch 25/100\n",
      "292/292 - 0s - loss: 1.4188e-04 - 311ms/epoch - 1ms/step\n",
      "Epoch 26/100\n",
      "292/292 - 0s - loss: 1.4285e-04 - 306ms/epoch - 1ms/step\n",
      "Epoch 27/100\n",
      "292/292 - 0s - loss: 1.3963e-04 - 315ms/epoch - 1ms/step\n",
      "Epoch 28/100\n",
      "292/292 - 0s - loss: 1.4070e-04 - 305ms/epoch - 1ms/step\n",
      "Epoch 29/100\n",
      "292/292 - 0s - loss: 1.3633e-04 - 311ms/epoch - 1ms/step\n",
      "Epoch 30/100\n",
      "292/292 - 0s - loss: 1.4565e-04 - 315ms/epoch - 1ms/step\n",
      "Epoch 31/100\n",
      "292/292 - 0s - loss: 1.3782e-04 - 311ms/epoch - 1ms/step\n",
      "Epoch 32/100\n",
      "292/292 - 0s - loss: 1.3540e-04 - 306ms/epoch - 1ms/step\n",
      "Epoch 33/100\n",
      "292/292 - 0s - loss: 1.3687e-04 - 328ms/epoch - 1ms/step\n",
      "Epoch 34/100\n",
      "292/292 - 0s - loss: 1.4219e-04 - 308ms/epoch - 1ms/step\n",
      "Epoch 35/100\n",
      "292/292 - 0s - loss: 1.3338e-04 - 314ms/epoch - 1ms/step\n",
      "Epoch 36/100\n",
      "292/292 - 0s - loss: 1.4348e-04 - 311ms/epoch - 1ms/step\n",
      "Epoch 37/100\n",
      "292/292 - 0s - loss: 1.3511e-04 - 311ms/epoch - 1ms/step\n",
      "Epoch 38/100\n",
      "292/292 - 0s - loss: 1.2593e-04 - 313ms/epoch - 1ms/step\n",
      "Epoch 39/100\n",
      "292/292 - 0s - loss: 1.2971e-04 - 315ms/epoch - 1ms/step\n",
      "Epoch 40/100\n",
      "292/292 - 0s - loss: 1.3550e-04 - 329ms/epoch - 1ms/step\n",
      "Epoch 41/100\n",
      "292/292 - 0s - loss: 1.3020e-04 - 316ms/epoch - 1ms/step\n",
      "Epoch 42/100\n",
      "292/292 - 0s - loss: 1.2690e-04 - 312ms/epoch - 1ms/step\n",
      "Epoch 43/100\n",
      "292/292 - 0s - loss: 1.2902e-04 - 318ms/epoch - 1ms/step\n",
      "Epoch 44/100\n",
      "292/292 - 0s - loss: 1.2221e-04 - 317ms/epoch - 1ms/step\n",
      "Epoch 45/100\n",
      "292/292 - 0s - loss: 1.2288e-04 - 321ms/epoch - 1ms/step\n",
      "Epoch 46/100\n",
      "292/292 - 0s - loss: 1.2608e-04 - 331ms/epoch - 1ms/step\n",
      "Epoch 47/100\n",
      "292/292 - 0s - loss: 1.2580e-04 - 327ms/epoch - 1ms/step\n",
      "Epoch 48/100\n",
      "292/292 - 0s - loss: 1.2234e-04 - 324ms/epoch - 1ms/step\n",
      "Epoch 49/100\n",
      "292/292 - 0s - loss: 1.2311e-04 - 327ms/epoch - 1ms/step\n",
      "Epoch 50/100\n",
      "292/292 - 0s - loss: 1.2602e-04 - 324ms/epoch - 1ms/step\n",
      "Epoch 51/100\n",
      "292/292 - 0s - loss: 1.2327e-04 - 325ms/epoch - 1ms/step\n",
      "Epoch 52/100\n",
      "292/292 - 0s - loss: 1.2401e-04 - 320ms/epoch - 1ms/step\n",
      "Epoch 53/100\n",
      "292/292 - 0s - loss: 1.2304e-04 - 322ms/epoch - 1ms/step\n",
      "Epoch 54/100\n",
      "292/292 - 0s - loss: 1.2523e-04 - 318ms/epoch - 1ms/step\n",
      "Epoch 55/100\n",
      "292/292 - 0s - loss: 1.1868e-04 - 350ms/epoch - 1ms/step\n",
      "Epoch 56/100\n",
      "292/292 - 0s - loss: 1.2408e-04 - 362ms/epoch - 1ms/step\n",
      "Epoch 57/100\n",
      "292/292 - 0s - loss: 1.1479e-04 - 352ms/epoch - 1ms/step\n",
      "Epoch 58/100\n",
      "292/292 - 0s - loss: 1.1628e-04 - 337ms/epoch - 1ms/step\n",
      "Epoch 59/100\n",
      "292/292 - 0s - loss: 1.2080e-04 - 317ms/epoch - 1ms/step\n",
      "Epoch 60/100\n",
      "292/292 - 0s - loss: 1.2188e-04 - 316ms/epoch - 1ms/step\n",
      "Epoch 61/100\n",
      "292/292 - 0s - loss: 1.1530e-04 - 316ms/epoch - 1ms/step\n",
      "Epoch 62/100\n",
      "292/292 - 0s - loss: 1.1942e-04 - 322ms/epoch - 1ms/step\n",
      "Epoch 63/100\n",
      "292/292 - 0s - loss: 1.2227e-04 - 304ms/epoch - 1ms/step\n",
      "Epoch 64/100\n",
      "292/292 - 0s - loss: 1.0955e-04 - 310ms/epoch - 1ms/step\n",
      "Epoch 65/100\n",
      "292/292 - 0s - loss: 1.1483e-04 - 307ms/epoch - 1ms/step\n",
      "Epoch 66/100\n",
      "292/292 - 0s - loss: 1.1553e-04 - 322ms/epoch - 1ms/step\n",
      "Epoch 67/100\n",
      "292/292 - 0s - loss: 1.1490e-04 - 316ms/epoch - 1ms/step\n",
      "Epoch 68/100\n",
      "292/292 - 0s - loss: 1.1234e-04 - 315ms/epoch - 1ms/step\n",
      "Epoch 69/100\n",
      "292/292 - 0s - loss: 1.1661e-04 - 311ms/epoch - 1ms/step\n",
      "Epoch 70/100\n",
      "292/292 - 0s - loss: 1.1068e-04 - 310ms/epoch - 1ms/step\n",
      "Epoch 71/100\n",
      "292/292 - 0s - loss: 1.2193e-04 - 315ms/epoch - 1ms/step\n",
      "Epoch 72/100\n",
      "292/292 - 0s - loss: 1.1721e-04 - 320ms/epoch - 1ms/step\n",
      "Epoch 73/100\n",
      "292/292 - 0s - loss: 1.1098e-04 - 313ms/epoch - 1ms/step\n",
      "Epoch 74/100\n",
      "292/292 - 0s - loss: 1.0388e-04 - 314ms/epoch - 1ms/step\n",
      "Epoch 75/100\n",
      "292/292 - 0s - loss: 1.1025e-04 - 319ms/epoch - 1ms/step\n",
      "Epoch 76/100\n",
      "292/292 - 0s - loss: 1.1738e-04 - 318ms/epoch - 1ms/step\n",
      "Epoch 77/100\n",
      "292/292 - 0s - loss: 1.0898e-04 - 318ms/epoch - 1ms/step\n",
      "Epoch 78/100\n",
      "292/292 - 0s - loss: 1.1128e-04 - 320ms/epoch - 1ms/step\n",
      "Epoch 79/100\n",
      "292/292 - 0s - loss: 1.0416e-04 - 313ms/epoch - 1ms/step\n",
      "Epoch 80/100\n",
      "292/292 - 0s - loss: 1.0308e-04 - 316ms/epoch - 1ms/step\n",
      "Epoch 81/100\n",
      "292/292 - 0s - loss: 1.1005e-04 - 320ms/epoch - 1ms/step\n",
      "Epoch 82/100\n",
      "292/292 - 0s - loss: 1.0495e-04 - 310ms/epoch - 1ms/step\n",
      "Epoch 83/100\n",
      "292/292 - 0s - loss: 1.0497e-04 - 314ms/epoch - 1ms/step\n",
      "Epoch 84/100\n",
      "292/292 - 0s - loss: 1.0675e-04 - 312ms/epoch - 1ms/step\n",
      "Epoch 85/100\n",
      "292/292 - 0s - loss: 1.0400e-04 - 314ms/epoch - 1ms/step\n",
      "Epoch 86/100\n",
      "292/292 - 0s - loss: 1.1025e-04 - 302ms/epoch - 1ms/step\n",
      "Epoch 87/100\n",
      "292/292 - 0s - loss: 1.0441e-04 - 307ms/epoch - 1ms/step\n",
      "Epoch 88/100\n",
      "292/292 - 0s - loss: 1.0417e-04 - 311ms/epoch - 1ms/step\n",
      "Epoch 89/100\n",
      "292/292 - 0s - loss: 1.0319e-04 - 317ms/epoch - 1ms/step\n",
      "Epoch 90/100\n",
      "292/292 - 0s - loss: 1.0283e-04 - 314ms/epoch - 1ms/step\n",
      "Epoch 91/100\n",
      "292/292 - 0s - loss: 1.0261e-04 - 312ms/epoch - 1ms/step\n",
      "Epoch 92/100\n",
      "292/292 - 0s - loss: 1.1679e-04 - 313ms/epoch - 1ms/step\n",
      "Epoch 93/100\n",
      "292/292 - 0s - loss: 1.0969e-04 - 313ms/epoch - 1ms/step\n",
      "Epoch 94/100\n",
      "292/292 - 0s - loss: 1.0243e-04 - 313ms/epoch - 1ms/step\n",
      "Epoch 95/100\n",
      "292/292 - 0s - loss: 1.0475e-04 - 308ms/epoch - 1ms/step\n",
      "Epoch 96/100\n",
      "292/292 - 0s - loss: 1.0047e-04 - 311ms/epoch - 1ms/step\n",
      "Epoch 97/100\n",
      "292/292 - 0s - loss: 1.1506e-04 - 313ms/epoch - 1ms/step\n",
      "Epoch 98/100\n",
      "292/292 - 0s - loss: 9.8304e-05 - 305ms/epoch - 1ms/step\n",
      "Epoch 99/100\n",
      "292/292 - 0s - loss: 1.0126e-04 - 304ms/epoch - 1ms/step\n",
      "Epoch 100/100\n",
      "292/292 - 0s - loss: 1.0294e-04 - 306ms/epoch - 1ms/step\n",
      "CPU times: user 46.8 s, sys: 9.11 s, total: 55.9 s\n",
      "Wall time: 34 s\n"
     ]
    }
   ],
   "source": [
    "# create and fit the LSTM network\n",
    "%%time\n",
    "model = Sequential()\n",
    "model.add(LSTM(2, input_shape=(1, look_back)))\n",
    "model.add(Dense(1))\n",
    "model.compile(loss='mean_squared_error', optimizer='adam')\n",
    "model.fit(trainX, trainY, epochs=100, batch_size=1, verbose=2)\n"
   ]
  },
  {
   "cell_type": "code",
   "execution_count": 11,
   "metadata": {
    "colab": {
     "base_uri": "https://localhost:8080/"
    },
    "executionInfo": {
     "elapsed": 129,
     "status": "ok",
     "timestamp": 1647216864119,
     "user": {
      "displayName": "John Foxworthy",
      "photoUrl": "https://lh3.googleusercontent.com/a-/AOh14Gjn2D58SbCMnKjb3yLpkAdgVtfzuDgZkA7M3OtH_Q=s64",
      "userId": "06565867259952209038"
     },
     "user_tz": 420
    },
    "id": "MfwatlrdxmrD",
    "outputId": "13669a81-b6ea-49e4-d944-6c504ff3e9db"
   },
   "outputs": [
    {
     "name": "stdout",
     "output_type": "stream",
     "text": [
      "Model: \"sequential\"\n",
      "_________________________________________________________________\n",
      " Layer (type)                Output Shape              Param #   \n",
      "=================================================================\n",
      " lstm (LSTM)                 (None, 2)                 32        \n",
      "                                                                 \n",
      " dense (Dense)               (None, 1)                 3         \n",
      "                                                                 \n",
      "=================================================================\n",
      "Total params: 35\n",
      "Trainable params: 35\n",
      "Non-trainable params: 0\n",
      "_________________________________________________________________\n"
     ]
    }
   ],
   "source": [
    "model.summary()"
   ]
  },
  {
   "cell_type": "code",
   "execution_count": 12,
   "metadata": {
    "colab": {
     "base_uri": "https://localhost:8080/",
     "height": 284
    },
    "executionInfo": {
     "elapsed": 758,
     "status": "ok",
     "timestamp": 1647216871387,
     "user": {
      "displayName": "John Foxworthy",
      "photoUrl": "https://lh3.googleusercontent.com/a-/AOh14Gjn2D58SbCMnKjb3yLpkAdgVtfzuDgZkA7M3OtH_Q=s64",
      "userId": "06565867259952209038"
     },
     "user_tz": 420
    },
    "id": "cUpSlu64dnWf",
    "outputId": "0e1e9b24-9b94-453a-b445-cf6b7bcccd40"
   },
   "outputs": [
    {
     "name": "stdout",
     "output_type": "stream",
     "text": [
      "R-Squared: 0.994778\n"
     ]
    },
    {
     "data": {
      "image/png": "[encoded data removed]",
      "text/plain": [
       "<Figure size 432x288 with 1 Axes>"
      ]
     },
     "metadata": {
      "needs_background": "light"
     },
     "output_type": "display_data"
    }
   ],
   "source": [
    "from sklearn.metrics import r2_score\n",
    "\n",
    "y_pred = model.predict(testX)\n",
    "plt.plot(testY)\n",
    "plt.plot(y_pred)\n",
    "print('R-Squared: %f'%(r2_score(testY, y_pred)))"
   ]
  },
  {
   "cell_type": "code",
   "execution_count": 13,
   "metadata": {
    "colab": {
     "base_uri": "https://localhost:8080/"
    },
    "executionInfo": {
     "elapsed": 135,
     "status": "ok",
     "timestamp": 1647216873305,
     "user": {
      "displayName": "John Foxworthy",
      "photoUrl": "https://lh3.googleusercontent.com/a-/AOh14Gjn2D58SbCMnKjb3yLpkAdgVtfzuDgZkA7M3OtH_Q=s64",
      "userId": "06565867259952209038"
     },
     "user_tz": 420
    },
    "id": "dVg8Sbri8V-P",
    "outputId": "12750bb2-fd7d-4ead-8cb1-3a79de0b6ee7"
   },
   "outputs": [
    {
     "data": {
      "text/plain": [
       "21.05027"
      ]
     },
     "execution_count": 13,
     "metadata": {},
     "output_type": "execute_result"
    }
   ],
   "source": [
    "mape = tf.keras.losses.MeanAbsolutePercentageError()\n",
    "mape(testY, y_pred).numpy()"
   ]
  },
  {
   "cell_type": "code",
   "execution_count": 14,
   "metadata": {
    "executionInfo": {
     "elapsed": 304,
     "status": "ok",
     "timestamp": 1647216875080,
     "user": {
      "displayName": "John Foxworthy",
      "photoUrl": "https://lh3.googleusercontent.com/a-/AOh14Gjn2D58SbCMnKjb3yLpkAdgVtfzuDgZkA7M3OtH_Q=s64",
      "userId": "06565867259952209038"
     },
     "user_tz": 420
    },
    "id": "lVnNZTNEGaJ9"
   },
   "outputs": [],
   "source": [
    "# make predictions\n",
    "trainPredict = model.predict(trainX)\n",
    "testPredict = model.predict(testX)"
   ]
  },
  {
   "cell_type": "code",
   "execution_count": 15,
   "metadata": {
    "executionInfo": {
     "elapsed": 143,
     "status": "ok",
     "timestamp": 1647216876296,
     "user": {
      "displayName": "John Foxworthy",
      "photoUrl": "https://lh3.googleusercontent.com/a-/AOh14Gjn2D58SbCMnKjb3yLpkAdgVtfzuDgZkA7M3OtH_Q=s64",
      "userId": "06565867259952209038"
     },
     "user_tz": 420
    },
    "id": "vDiFewECGmna"
   },
   "outputs": [],
   "source": [
    "# invert predictions\n",
    "trainPredict = scaler.inverse_transform(trainPredict)\n",
    "trainY = scaler.inverse_transform([trainY])\n",
    "testPredict = scaler.inverse_transform(testPredict)\n",
    "testY = scaler.inverse_transform([testY])"
   ]
  },
  {
   "cell_type": "code",
   "execution_count": 16,
   "metadata": {
    "colab": {
     "base_uri": "https://localhost:8080/"
    },
    "executionInfo": {
     "elapsed": 151,
     "status": "ok",
     "timestamp": 1647216877732,
     "user": {
      "displayName": "John Foxworthy",
      "photoUrl": "https://lh3.googleusercontent.com/a-/AOh14Gjn2D58SbCMnKjb3yLpkAdgVtfzuDgZkA7M3OtH_Q=s64",
      "userId": "06565867259952209038"
     },
     "user_tz": 420
    },
    "id": "MVlq8jGMGopp",
    "outputId": "bef9afdc-f6f8-4ff9-8213-a184f9a561f9"
   },
   "outputs": [
    {
     "name": "stdout",
     "output_type": "stream",
     "text": [
      "Train Score: 1.15 RMSE\n",
      "Test Score: 1.06 RMSE\n"
     ]
    }
   ],
   "source": [
    "# calculate root mean squared error\n",
    "trainScore = math.sqrt(mean_squared_error(trainY[0], trainPredict[:,0]))\n",
    "print('Train Score: %.2f RMSE' % (trainScore))\n",
    "testScore = math.sqrt(mean_squared_error(testY[0], testPredict[:,0]))\n",
    "print('Test Score: %.2f RMSE' % (testScore))"
   ]
  },
  {
   "cell_type": "code",
   "execution_count": 17,
   "metadata": {
    "colab": {
     "base_uri": "https://localhost:8080/",
     "height": 269
    },
    "executionInfo": {
     "elapsed": 391,
     "status": "ok",
     "timestamp": 1647216879269,
     "user": {
      "displayName": "John Foxworthy",
      "photoUrl": "https://lh3.googleusercontent.com/a-/AOh14Gjn2D58SbCMnKjb3yLpkAdgVtfzuDgZkA7M3OtH_Q=s64",
      "userId": "06565867259952209038"
     },
     "user_tz": 420
    },
    "id": "K-Y8pynvGsFu",
    "outputId": "7a41c83d-75c4-4b01-ccde-97c2c40bebf8"
   },
   "outputs": [
    {
     "data": {
      "image/png": "[encoded data removed]",
      "text/plain": [
       "<Figure size 432x288 with 1 Axes>"
      ]
     },
     "metadata": {
      "needs_background": "light"
     },
     "output_type": "display_data"
    }
   ],
   "source": [
    "# shift train predictions for plotting\n",
    "trainPredictPlot = numpy.empty_like(dataset)\n",
    "trainPredictPlot[:, :] = numpy.nan\n",
    "trainPredictPlot[look_back:len(trainPredict)+look_back, :] = trainPredict\n",
    "\n",
    "# shift test predictions for plotting\n",
    "testPredictPlot = numpy.empty_like(dataset)\n",
    "testPredictPlot[:, :] = numpy.nan\n",
    "testPredictPlot[len(trainPredict)+(look_back*2)+1:len(dataset)-1, :] = testPredict\n",
    "\n",
    "# plot baseline and predictions\n",
    "plt.plot(scaler.inverse_transform(dataset))\n",
    "plt.plot(trainPredictPlot)\n",
    "plt.plot(testPredictPlot)\n",
    "plt.show()"
   ]
  },
  {
   "cell_type": "code",
   "execution_count": null,
   "metadata": {
    "id": "mIriezgN7ENu"
   },
   "outputs": [],
   "source": []
  }
 ],
 "metadata": {
  "colab": {
   "authorship_tag": "ABX9TyNNYNb0isJ2MhqfPAGZ/TAI",
   "collapsed_sections": [],
   "mount_file_id": "1ObxYg2WvzRDI3Jd7zzDPxxSbbdynlIWS",
   "name": "03A04_Chicago.ipynb",
   "provenance": [
    {
     "file_id": "1oSFmjo7RmDhfnc0tdBgEQGg3GJJY_MUD",
     "timestamp": 1647208379766
    },
    {
     "file_id": "109QkHsu7vRucaK9qdW71ue53iwqeVmzh",
     "timestamp": 1647202763029
    },
    {
     "file_id": "1dY4cAt9xjBgbNY4LHeJAqxpZFI0OLeRK",
     "timestamp": 1646788712728
    },
    {
     "file_id": "1ObxYg2WvzRDI3Jd7zzDPxxSbbdynlIWS",
     "timestamp": 1646603763919
    }
   ]
  },
  "kernelspec": {
   "display_name": "Python 3 (ipykernel)",
   "language": "python",
   "name": "python3"
  },
  "language_info": {
   "codemirror_mode": {
    "name": "ipython",
    "version": 3
   },
   "file_extension": ".py",
   "mimetype": "text/x-python",
   "name": "python",
   "nbconvert_exporter": "python",
   "pygments_lexer": "ipython3",
   "version": "3.7.6"
  }
 },
 "nbformat": 4,
 "nbformat_minor": 4
}
