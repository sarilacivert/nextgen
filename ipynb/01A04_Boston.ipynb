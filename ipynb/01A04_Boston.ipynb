{
 "cells": [
  {
   "cell_type": "markdown",
   "metadata": {
    "id": "jBBc1b1HD-Tv"
   },
   "source": [
    "# Assignment 04 LSTM Time Series Boston\n"
   ]
  },
  {
   "cell_type": "code",
   "execution_count": 1,
   "metadata": {
    "executionInfo": {
     "elapsed": 4189,
     "status": "ok",
     "timestamp": 1647214758905,
     "user": {
      "displayName": "John Foxworthy",
      "photoUrl": "https://lh3.googleusercontent.com/a-/AOh14Gjn2D58SbCMnKjb3yLpkAdgVtfzuDgZkA7M3OtH_Q=s64",
      "userId": "06565867259952209038"
     },
     "user_tz": 420
    },
    "id": "3iYx_Oh4Fl2U"
   },
   "outputs": [],
   "source": [
    "# Data Analysis Libraries\n",
    "import numpy \n",
    "import pandas \n",
    "import math\n",
    "\n",
    "# Data Visualization\n",
    "import matplotlib.pyplot as plt\n",
    "\n",
    "# Data Preprocessing\n",
    "from sklearn.preprocessing import MinMaxScaler\n",
    "\n",
    "# Deep Learning Libraries\n",
    "import tensorflow as tf\n",
    "from keras.models import Sequential\n",
    "from keras.layers import Dense\n",
    "from keras.layers import LSTM\n",
    "\n",
    "# Assessment Libraries\n",
    "from sklearn.metrics import mean_squared_error"
   ]
  },
  {
   "cell_type": "code",
   "execution_count": 2,
   "metadata": {
    "executionInfo": {
     "elapsed": 156,
     "status": "ok",
     "timestamp": 1647214762557,
     "user": {
      "displayName": "John Foxworthy",
      "photoUrl": "https://lh3.googleusercontent.com/a-/AOh14Gjn2D58SbCMnKjb3yLpkAdgVtfzuDgZkA7M3OtH_Q=s64",
      "userId": "06565867259952209038"
     },
     "user_tz": 420
    },
    "id": "RwVHxLqAFnLl"
   },
   "outputs": [],
   "source": [
    "# fix random seed for reproducibility\n",
    "numpy.random.seed(7)"
   ]
  },
  {
   "cell_type": "code",
   "execution_count": 3,
   "metadata": {
    "executionInfo": {
     "elapsed": 2,
     "status": "ok",
     "timestamp": 1647214763257,
     "user": {
      "displayName": "John Foxworthy",
      "photoUrl": "https://lh3.googleusercontent.com/a-/AOh14Gjn2D58SbCMnKjb3yLpkAdgVtfzuDgZkA7M3OtH_Q=s64",
      "userId": "06565867259952209038"
     },
     "user_tz": 420
    },
    "id": "kWHSKSjNFsws"
   },
   "outputs": [],
   "source": [
    "dataframe = pandas.read_csv('/content/sample_data/bos.csv', usecols=[1], engine='python')\n",
    "dataset = dataframe.values\n",
    "dataset = dataset.astype('float32')"
   ]
  },
  {
   "cell_type": "code",
   "execution_count": 4,
   "metadata": {
    "colab": {
     "base_uri": "https://localhost:8080/"
    },
    "executionInfo": {
     "elapsed": 179,
     "status": "ok",
     "timestamp": 1647214764338,
     "user": {
      "displayName": "John Foxworthy",
      "photoUrl": "https://lh3.googleusercontent.com/a-/AOh14Gjn2D58SbCMnKjb3yLpkAdgVtfzuDgZkA7M3OtH_Q=s64",
      "userId": "06565867259952209038"
     },
     "user_tz": 420
    },
    "id": "WrbR7CuGOjWG",
    "outputId": "f0919568-61f9-4de4-8aae-4844a9930722"
   },
   "outputs": [
    {
     "name": "stdout",
     "output_type": "stream",
     "text": [
      "<class 'pandas.core.frame.DataFrame'>\n",
      "RangeIndex: 420 entries, 0 to 419\n",
      "Data columns (total 1 columns):\n",
      " #   Column  Non-Null Count  Dtype  \n",
      "---  ------  --------------  -----  \n",
      " 0   BOXRSA  420 non-null    float64\n",
      "dtypes: float64(1)\n",
      "memory usage: 3.4 KB\n"
     ]
    }
   ],
   "source": [
    "dataframe.info()"
   ]
  },
  {
   "cell_type": "code",
   "execution_count": 5,
   "metadata": {
    "executionInfo": {
     "elapsed": 193,
     "status": "ok",
     "timestamp": 1647214766013,
     "user": {
      "displayName": "John Foxworthy",
      "photoUrl": "https://lh3.googleusercontent.com/a-/AOh14Gjn2D58SbCMnKjb3yLpkAdgVtfzuDgZkA7M3OtH_Q=s64",
      "userId": "06565867259952209038"
     },
     "user_tz": 420
    },
    "id": "1vDfFu5gF8yq"
   },
   "outputs": [],
   "source": [
    "# normalize the dataset\n",
    "scaler = MinMaxScaler(feature_range=(0, 1))\n",
    "dataset = scaler.fit_transform(dataset)"
   ]
  },
  {
   "cell_type": "code",
   "execution_count": 6,
   "metadata": {
    "colab": {
     "base_uri": "https://localhost:8080/"
    },
    "executionInfo": {
     "elapsed": 4,
     "status": "ok",
     "timestamp": 1647214766605,
     "user": {
      "displayName": "John Foxworthy",
      "photoUrl": "https://lh3.googleusercontent.com/a-/AOh14Gjn2D58SbCMnKjb3yLpkAdgVtfzuDgZkA7M3OtH_Q=s64",
      "userId": "06565867259952209038"
     },
     "user_tz": 420
    },
    "id": "XkSnJ_O6GCCZ",
    "outputId": "a6770307-9873-476c-ed90-73889b7dc969"
   },
   "outputs": [
    {
     "name": "stdout",
     "output_type": "stream",
     "text": [
      "294 126\n"
     ]
    }
   ],
   "source": [
    "# split into train and test sets\n",
    "train_size = int(len(dataset) * 0.70)\n",
    "test_size = len(dataset) - train_size\n",
    "train, test = dataset[0:train_size,:], dataset[train_size:len(dataset),:]\n",
    "print(len(train), len(test))"
   ]
  },
  {
   "cell_type": "code",
   "execution_count": 7,
   "metadata": {
    "executionInfo": {
     "elapsed": 148,
     "status": "ok",
     "timestamp": 1647214768422,
     "user": {
      "displayName": "John Foxworthy",
      "photoUrl": "https://lh3.googleusercontent.com/a-/AOh14Gjn2D58SbCMnKjb3yLpkAdgVtfzuDgZkA7M3OtH_Q=s64",
      "userId": "06565867259952209038"
     },
     "user_tz": 420
    },
    "id": "gDP0o54XGGBQ"
   },
   "outputs": [],
   "source": [
    "# convert an array of values into a dataset matrix\n",
    "def create_dataset(dataset, look_back=1):\n",
    "\tdataX, dataY = [], []\n",
    "\tfor i in range(len(dataset)-look_back-1):\n",
    "\t\ta = dataset[i:(i+look_back), 0]\n",
    "\t\tdataX.append(a)\n",
    "\t\tdataY.append(dataset[i + look_back, 0])\n",
    "\treturn numpy.array(dataX), numpy.array(dataY)"
   ]
  },
  {
   "cell_type": "code",
   "execution_count": 8,
   "metadata": {
    "executionInfo": {
     "elapsed": 155,
     "status": "ok",
     "timestamp": 1647214770058,
     "user": {
      "displayName": "John Foxworthy",
      "photoUrl": "https://lh3.googleusercontent.com/a-/AOh14Gjn2D58SbCMnKjb3yLpkAdgVtfzuDgZkA7M3OtH_Q=s64",
      "userId": "06565867259952209038"
     },
     "user_tz": 420
    },
    "id": "8013b7shGM97"
   },
   "outputs": [],
   "source": [
    "# reshape into X=t and Y=t+1\n",
    "look_back = 1\n",
    "trainX, trainY = create_dataset(train, look_back)\n",
    "testX, testY = create_dataset(test, look_back)"
   ]
  },
  {
   "cell_type": "code",
   "execution_count": 9,
   "metadata": {
    "executionInfo": {
     "elapsed": 146,
     "status": "ok",
     "timestamp": 1647214770753,
     "user": {
      "displayName": "John Foxworthy",
      "photoUrl": "https://lh3.googleusercontent.com/a-/AOh14Gjn2D58SbCMnKjb3yLpkAdgVtfzuDgZkA7M3OtH_Q=s64",
      "userId": "06565867259952209038"
     },
     "user_tz": 420
    },
    "id": "0rBSFRpgGRA2"
   },
   "outputs": [],
   "source": [
    "# reshape input to be [samples, time steps, features]\n",
    "trainX = numpy.reshape(trainX, (trainX.shape[0], 1, trainX.shape[1]))\n",
    "testX = numpy.reshape(testX, (testX.shape[0], 1, testX.shape[1]))"
   ]
  },
  {
   "cell_type": "code",
   "execution_count": 10,
   "metadata": {
    "colab": {
     "base_uri": "https://localhost:8080/"
    },
    "executionInfo": {
     "elapsed": 46017,
     "status": "ok",
     "timestamp": 1647214817322,
     "user": {
      "displayName": "John Foxworthy",
      "photoUrl": "https://lh3.googleusercontent.com/a-/AOh14Gjn2D58SbCMnKjb3yLpkAdgVtfzuDgZkA7M3OtH_Q=s64",
      "userId": "06565867259952209038"
     },
     "user_tz": 420
    },
    "id": "XpnmQiq4GVDD",
    "outputId": "91e2e8f8-e2a5-445c-9a21-d749e929ad72"
   },
   "outputs": [
    {
     "name": "stdout",
     "output_type": "stream",
     "text": [
      "Epoch 1/100\n",
      "292/292 - 2s - loss: 0.0380 - 2s/epoch - 8ms/step\n",
      "Epoch 2/100\n",
      "292/292 - 1s - loss: 0.0180 - 547ms/epoch - 2ms/step\n",
      "Epoch 3/100\n",
      "292/292 - 0s - loss: 0.0091 - 474ms/epoch - 2ms/step\n",
      "Epoch 4/100\n",
      "292/292 - 0s - loss: 0.0027 - 488ms/epoch - 2ms/step\n",
      "Epoch 5/100\n",
      "292/292 - 0s - loss: 3.9269e-04 - 457ms/epoch - 2ms/step\n",
      "Epoch 6/100\n",
      "292/292 - 0s - loss: 5.4248e-05 - 439ms/epoch - 2ms/step\n",
      "Epoch 7/100\n",
      "292/292 - 0s - loss: 3.7991e-05 - 423ms/epoch - 1ms/step\n",
      "Epoch 8/100\n",
      "292/292 - 0s - loss: 3.7240e-05 - 396ms/epoch - 1ms/step\n",
      "Epoch 9/100\n",
      "292/292 - 0s - loss: 3.6364e-05 - 426ms/epoch - 1ms/step\n",
      "Epoch 10/100\n",
      "292/292 - 0s - loss: 3.6821e-05 - 403ms/epoch - 1ms/step\n",
      "Epoch 11/100\n",
      "292/292 - 0s - loss: 3.6281e-05 - 423ms/epoch - 1ms/step\n",
      "Epoch 12/100\n",
      "292/292 - 0s - loss: 3.4793e-05 - 409ms/epoch - 1ms/step\n",
      "Epoch 13/100\n",
      "292/292 - 0s - loss: 3.4857e-05 - 411ms/epoch - 1ms/step\n",
      "Epoch 14/100\n",
      "292/292 - 1s - loss: 3.1475e-05 - 533ms/epoch - 2ms/step\n",
      "Epoch 15/100\n",
      "292/292 - 0s - loss: 3.0557e-05 - 402ms/epoch - 1ms/step\n",
      "Epoch 16/100\n",
      "292/292 - 0s - loss: 3.1842e-05 - 423ms/epoch - 1ms/step\n",
      "Epoch 17/100\n",
      "292/292 - 0s - loss: 2.8818e-05 - 396ms/epoch - 1ms/step\n",
      "Epoch 18/100\n",
      "292/292 - 0s - loss: 2.8641e-05 - 434ms/epoch - 1ms/step\n",
      "Epoch 19/100\n",
      "292/292 - 0s - loss: 2.6650e-05 - 393ms/epoch - 1ms/step\n",
      "Epoch 20/100\n",
      "292/292 - 0s - loss: 2.5001e-05 - 396ms/epoch - 1ms/step\n",
      "Epoch 21/100\n",
      "292/292 - 0s - loss: 2.5191e-05 - 419ms/epoch - 1ms/step\n",
      "Epoch 22/100\n",
      "292/292 - 0s - loss: 2.5005e-05 - 396ms/epoch - 1ms/step\n",
      "Epoch 23/100\n",
      "292/292 - 0s - loss: 2.1833e-05 - 417ms/epoch - 1ms/step\n",
      "Epoch 24/100\n",
      "292/292 - 0s - loss: 2.1758e-05 - 404ms/epoch - 1ms/step\n",
      "Epoch 25/100\n",
      "292/292 - 0s - loss: 2.1115e-05 - 405ms/epoch - 1ms/step\n",
      "Epoch 26/100\n",
      "292/292 - 0s - loss: 2.1923e-05 - 426ms/epoch - 1ms/step\n",
      "Epoch 27/100\n",
      "292/292 - 0s - loss: 2.1149e-05 - 401ms/epoch - 1ms/step\n",
      "Epoch 28/100\n",
      "292/292 - 0s - loss: 2.1084e-05 - 407ms/epoch - 1ms/step\n",
      "Epoch 29/100\n",
      "292/292 - 0s - loss: 1.9643e-05 - 398ms/epoch - 1ms/step\n",
      "Epoch 30/100\n",
      "292/292 - 0s - loss: 2.1149e-05 - 412ms/epoch - 1ms/step\n",
      "Epoch 31/100\n",
      "292/292 - 0s - loss: 2.0605e-05 - 393ms/epoch - 1ms/step\n",
      "Epoch 32/100\n",
      "292/292 - 0s - loss: 2.3184e-05 - 387ms/epoch - 1ms/step\n",
      "Epoch 33/100\n",
      "292/292 - 0s - loss: 2.1141e-05 - 412ms/epoch - 1ms/step\n",
      "Epoch 34/100\n",
      "292/292 - 0s - loss: 2.1419e-05 - 401ms/epoch - 1ms/step\n",
      "Epoch 35/100\n",
      "292/292 - 0s - loss: 1.9803e-05 - 430ms/epoch - 1ms/step\n",
      "Epoch 36/100\n",
      "292/292 - 0s - loss: 2.1745e-05 - 422ms/epoch - 1ms/step\n",
      "Epoch 37/100\n",
      "292/292 - 0s - loss: 2.2130e-05 - 402ms/epoch - 1ms/step\n",
      "Epoch 38/100\n",
      "292/292 - 0s - loss: 1.8382e-05 - 418ms/epoch - 1ms/step\n",
      "Epoch 39/100\n",
      "292/292 - 0s - loss: 1.8965e-05 - 411ms/epoch - 1ms/step\n",
      "Epoch 40/100\n",
      "292/292 - 0s - loss: 1.9361e-05 - 431ms/epoch - 1ms/step\n",
      "Epoch 41/100\n",
      "292/292 - 0s - loss: 1.9471e-05 - 414ms/epoch - 1ms/step\n",
      "Epoch 42/100\n",
      "292/292 - 0s - loss: 1.9729e-05 - 433ms/epoch - 1ms/step\n",
      "Epoch 43/100\n",
      "292/292 - 0s - loss: 2.1333e-05 - 462ms/epoch - 2ms/step\n",
      "Epoch 44/100\n",
      "292/292 - 0s - loss: 2.0932e-05 - 405ms/epoch - 1ms/step\n",
      "Epoch 45/100\n",
      "292/292 - 0s - loss: 1.8903e-05 - 468ms/epoch - 2ms/step\n",
      "Epoch 46/100\n",
      "292/292 - 0s - loss: 2.0085e-05 - 403ms/epoch - 1ms/step\n",
      "Epoch 47/100\n",
      "292/292 - 0s - loss: 2.0667e-05 - 443ms/epoch - 2ms/step\n",
      "Epoch 48/100\n",
      "292/292 - 0s - loss: 2.0578e-05 - 434ms/epoch - 1ms/step\n",
      "Epoch 49/100\n",
      "292/292 - 0s - loss: 1.9181e-05 - 454ms/epoch - 2ms/step\n",
      "Epoch 50/100\n",
      "292/292 - 0s - loss: 2.1536e-05 - 411ms/epoch - 1ms/step\n",
      "Epoch 51/100\n",
      "292/292 - 0s - loss: 2.3352e-05 - 408ms/epoch - 1ms/step\n",
      "Epoch 52/100\n",
      "292/292 - 0s - loss: 1.9961e-05 - 422ms/epoch - 1ms/step\n",
      "Epoch 53/100\n",
      "292/292 - 0s - loss: 1.8576e-05 - 413ms/epoch - 1ms/step\n",
      "Epoch 54/100\n",
      "292/292 - 0s - loss: 2.3463e-05 - 472ms/epoch - 2ms/step\n",
      "Epoch 55/100\n",
      "292/292 - 0s - loss: 1.9369e-05 - 412ms/epoch - 1ms/step\n",
      "Epoch 56/100\n",
      "292/292 - 0s - loss: 2.1593e-05 - 427ms/epoch - 1ms/step\n",
      "Epoch 57/100\n",
      "292/292 - 0s - loss: 1.7765e-05 - 399ms/epoch - 1ms/step\n",
      "Epoch 58/100\n",
      "292/292 - 0s - loss: 2.1767e-05 - 405ms/epoch - 1ms/step\n",
      "Epoch 59/100\n",
      "292/292 - 0s - loss: 2.0890e-05 - 422ms/epoch - 1ms/step\n",
      "Epoch 60/100\n",
      "292/292 - 0s - loss: 2.0942e-05 - 423ms/epoch - 1ms/step\n",
      "Epoch 61/100\n",
      "292/292 - 0s - loss: 2.0121e-05 - 444ms/epoch - 2ms/step\n",
      "Epoch 62/100\n",
      "292/292 - 0s - loss: 1.9131e-05 - 438ms/epoch - 1ms/step\n",
      "Epoch 63/100\n",
      "292/292 - 0s - loss: 1.9501e-05 - 422ms/epoch - 1ms/step\n",
      "Epoch 64/100\n",
      "292/292 - 0s - loss: 1.8058e-05 - 427ms/epoch - 1ms/step\n",
      "Epoch 65/100\n",
      "292/292 - 0s - loss: 1.9912e-05 - 430ms/epoch - 1ms/step\n",
      "Epoch 66/100\n",
      "292/292 - 1s - loss: 1.8567e-05 - 512ms/epoch - 2ms/step\n",
      "Epoch 67/100\n",
      "292/292 - 0s - loss: 2.0614e-05 - 426ms/epoch - 1ms/step\n",
      "Epoch 68/100\n",
      "292/292 - 1s - loss: 1.9204e-05 - 504ms/epoch - 2ms/step\n",
      "Epoch 69/100\n",
      "292/292 - 0s - loss: 2.0286e-05 - 428ms/epoch - 1ms/step\n",
      "Epoch 70/100\n",
      "292/292 - 0s - loss: 2.0709e-05 - 486ms/epoch - 2ms/step\n",
      "Epoch 71/100\n",
      "292/292 - 0s - loss: 1.9928e-05 - 445ms/epoch - 2ms/step\n",
      "Epoch 72/100\n",
      "292/292 - 0s - loss: 2.0448e-05 - 492ms/epoch - 2ms/step\n",
      "Epoch 73/100\n",
      "292/292 - 0s - loss: 2.2425e-05 - 431ms/epoch - 1ms/step\n",
      "Epoch 74/100\n",
      "292/292 - 0s - loss: 2.1047e-05 - 421ms/epoch - 1ms/step\n",
      "Epoch 75/100\n",
      "292/292 - 0s - loss: 2.0908e-05 - 420ms/epoch - 1ms/step\n",
      "Epoch 76/100\n",
      "292/292 - 0s - loss: 2.1266e-05 - 430ms/epoch - 1ms/step\n",
      "Epoch 77/100\n",
      "292/292 - 0s - loss: 1.9208e-05 - 446ms/epoch - 2ms/step\n",
      "Epoch 78/100\n",
      "292/292 - 0s - loss: 2.3054e-05 - 413ms/epoch - 1ms/step\n",
      "Epoch 79/100\n",
      "292/292 - 0s - loss: 1.8725e-05 - 408ms/epoch - 1ms/step\n",
      "Epoch 80/100\n",
      "292/292 - 0s - loss: 1.9850e-05 - 389ms/epoch - 1ms/step\n",
      "Epoch 81/100\n",
      "292/292 - 0s - loss: 1.9414e-05 - 430ms/epoch - 1ms/step\n",
      "Epoch 82/100\n",
      "292/292 - 0s - loss: 1.9448e-05 - 451ms/epoch - 2ms/step\n",
      "Epoch 83/100\n",
      "292/292 - 0s - loss: 1.9909e-05 - 438ms/epoch - 2ms/step\n",
      "Epoch 84/100\n",
      "292/292 - 0s - loss: 2.0927e-05 - 438ms/epoch - 2ms/step\n",
      "Epoch 85/100\n",
      "292/292 - 0s - loss: 2.0214e-05 - 429ms/epoch - 1ms/step\n",
      "Epoch 86/100\n",
      "292/292 - 0s - loss: 2.1658e-05 - 454ms/epoch - 2ms/step\n",
      "Epoch 87/100\n",
      "292/292 - 0s - loss: 1.8676e-05 - 421ms/epoch - 1ms/step\n",
      "Epoch 88/100\n",
      "292/292 - 0s - loss: 2.2821e-05 - 429ms/epoch - 1ms/step\n",
      "Epoch 89/100\n",
      "292/292 - 0s - loss: 1.8930e-05 - 444ms/epoch - 2ms/step\n",
      "Epoch 90/100\n",
      "292/292 - 0s - loss: 1.9671e-05 - 419ms/epoch - 1ms/step\n",
      "Epoch 91/100\n",
      "292/292 - 0s - loss: 1.7992e-05 - 421ms/epoch - 1ms/step\n",
      "Epoch 92/100\n",
      "292/292 - 0s - loss: 1.9222e-05 - 421ms/epoch - 1ms/step\n",
      "Epoch 93/100\n",
      "292/292 - 0s - loss: 1.9612e-05 - 435ms/epoch - 1ms/step\n",
      "Epoch 94/100\n",
      "292/292 - 0s - loss: 1.9057e-05 - 417ms/epoch - 1ms/step\n",
      "Epoch 95/100\n",
      "292/292 - 0s - loss: 1.8847e-05 - 418ms/epoch - 1ms/step\n",
      "Epoch 96/100\n",
      "292/292 - 0s - loss: 1.8792e-05 - 405ms/epoch - 1ms/step\n",
      "Epoch 97/100\n",
      "292/292 - 0s - loss: 1.9117e-05 - 404ms/epoch - 1ms/step\n",
      "Epoch 98/100\n",
      "292/292 - 0s - loss: 2.1244e-05 - 403ms/epoch - 1ms/step\n",
      "Epoch 99/100\n",
      "292/292 - 0s - loss: 1.8645e-05 - 391ms/epoch - 1ms/step\n",
      "Epoch 100/100\n",
      "292/292 - 0s - loss: 2.1763e-05 - 482ms/epoch - 2ms/step\n",
      "CPU times: user 1min 10s, sys: 15 s, total: 1min 25s\n",
      "Wall time: 45.8 s\n"
     ]
    }
   ],
   "source": [
    "# create and fit the LSTM network\n",
    "%%time\n",
    "model = Sequential()\n",
    "model.add(LSTM(4, input_shape=(1, look_back)))\n",
    "model.add(Dense(1))\n",
    "model.compile(loss='mean_squared_error', optimizer='adam')\n",
    "model.fit(trainX, trainY, epochs=100, batch_size=1, verbose=2)\n"
   ]
  },
  {
   "cell_type": "code",
   "execution_count": 11,
   "metadata": {
    "colab": {
     "base_uri": "https://localhost:8080/"
    },
    "executionInfo": {
     "elapsed": 142,
     "status": "ok",
     "timestamp": 1647214819032,
     "user": {
      "displayName": "John Foxworthy",
      "photoUrl": "https://lh3.googleusercontent.com/a-/AOh14Gjn2D58SbCMnKjb3yLpkAdgVtfzuDgZkA7M3OtH_Q=s64",
      "userId": "06565867259952209038"
     },
     "user_tz": 420
    },
    "id": "eHnWahMupbX9",
    "outputId": "87c5de16-504e-459d-87a3-f05338109ed0"
   },
   "outputs": [
    {
     "name": "stdout",
     "output_type": "stream",
     "text": [
      "Model: \"sequential\"\n",
      "_________________________________________________________________\n",
      " Layer (type)                Output Shape              Param #   \n",
      "=================================================================\n",
      " lstm (LSTM)                 (None, 4)                 96        \n",
      "                                                                 \n",
      " dense (Dense)               (None, 1)                 5         \n",
      "                                                                 \n",
      "=================================================================\n",
      "Total params: 101\n",
      "Trainable params: 101\n",
      "Non-trainable params: 0\n",
      "_________________________________________________________________\n"
     ]
    }
   ],
   "source": [
    "model.summary()"
   ]
  },
  {
   "cell_type": "code",
   "execution_count": 12,
   "metadata": {
    "colab": {
     "base_uri": "https://localhost:8080/",
     "height": 283
    },
    "executionInfo": {
     "elapsed": 992,
     "status": "ok",
     "timestamp": 1647214823318,
     "user": {
      "displayName": "John Foxworthy",
      "photoUrl": "https://lh3.googleusercontent.com/a-/AOh14Gjn2D58SbCMnKjb3yLpkAdgVtfzuDgZkA7M3OtH_Q=s64",
      "userId": "06565867259952209038"
     },
     "user_tz": 420
    },
    "id": "cUpSlu64dnWf",
    "outputId": "b150f57d-883b-49cb-f1c6-5586a0fa0b98"
   },
   "outputs": [
    {
     "name": "stdout",
     "output_type": "stream",
     "text": [
      "R-Squared: 0.924451\n"
     ]
    },
    {
     "data": {
      "image/png": "[encoded data removed]",
      "text/plain": [
       "<Figure size 432x288 with 1 Axes>"
      ]
     },
     "metadata": {
      "needs_background": "light"
     },
     "output_type": "display_data"
    }
   ],
   "source": [
    "from sklearn.metrics import r2_score\n",
    "\n",
    "y_pred = model.predict(testX)\n",
    "plt.plot(testY)\n",
    "plt.plot(y_pred)\n",
    "print('R-Squared: %f'%(r2_score(testY, y_pred)))"
   ]
  },
  {
   "cell_type": "code",
   "execution_count": 13,
   "metadata": {
    "colab": {
     "base_uri": "https://localhost:8080/"
    },
    "executionInfo": {
     "elapsed": 145,
     "status": "ok",
     "timestamp": 1647214825600,
     "user": {
      "displayName": "John Foxworthy",
      "photoUrl": "https://lh3.googleusercontent.com/a-/AOh14Gjn2D58SbCMnKjb3yLpkAdgVtfzuDgZkA7M3OtH_Q=s64",
      "userId": "06565867259952209038"
     },
     "user_tz": 420
    },
    "id": "QWbv-uOQ0nPC",
    "outputId": "50c94bb1-cc56-4d24-9f86-c8c6886f63b7"
   },
   "outputs": [
    {
     "data": {
      "text/plain": [
       "27.08188"
      ]
     },
     "execution_count": 13,
     "metadata": {},
     "output_type": "execute_result"
    }
   ],
   "source": [
    "mape = tf.keras.losses.MeanAbsolutePercentageError()\n",
    "mape(testY, y_pred).numpy()"
   ]
  },
  {
   "cell_type": "code",
   "execution_count": 14,
   "metadata": {
    "executionInfo": {
     "elapsed": 320,
     "status": "ok",
     "timestamp": 1647214827086,
     "user": {
      "displayName": "John Foxworthy",
      "photoUrl": "https://lh3.googleusercontent.com/a-/AOh14Gjn2D58SbCMnKjb3yLpkAdgVtfzuDgZkA7M3OtH_Q=s64",
      "userId": "06565867259952209038"
     },
     "user_tz": 420
    },
    "id": "lVnNZTNEGaJ9"
   },
   "outputs": [],
   "source": [
    "# make predictions\n",
    "trainPredict = model.predict(trainX)\n",
    "testPredict = model.predict(testX)"
   ]
  },
  {
   "cell_type": "code",
   "execution_count": 15,
   "metadata": {
    "executionInfo": {
     "elapsed": 2,
     "status": "ok",
     "timestamp": 1647214828266,
     "user": {
      "displayName": "John Foxworthy",
      "photoUrl": "https://lh3.googleusercontent.com/a-/AOh14Gjn2D58SbCMnKjb3yLpkAdgVtfzuDgZkA7M3OtH_Q=s64",
      "userId": "06565867259952209038"
     },
     "user_tz": 420
    },
    "id": "vDiFewECGmna"
   },
   "outputs": [],
   "source": [
    "# invert predictions\n",
    "trainPredict = scaler.inverse_transform(trainPredict)\n",
    "trainY = scaler.inverse_transform([trainY])\n",
    "testPredict = scaler.inverse_transform(testPredict)\n",
    "testY = scaler.inverse_transform([testY])"
   ]
  },
  {
   "cell_type": "code",
   "execution_count": 16,
   "metadata": {
    "colab": {
     "base_uri": "https://localhost:8080/"
    },
    "executionInfo": {
     "elapsed": 125,
     "status": "ok",
     "timestamp": 1647214829381,
     "user": {
      "displayName": "John Foxworthy",
      "photoUrl": "https://lh3.googleusercontent.com/a-/AOh14Gjn2D58SbCMnKjb3yLpkAdgVtfzuDgZkA7M3OtH_Q=s64",
      "userId": "06565867259952209038"
     },
     "user_tz": 420
    },
    "id": "MVlq8jGMGopp",
    "outputId": "4fee7a72-d970-40c8-c0ef-137ea09c0104"
   },
   "outputs": [
    {
     "name": "stdout",
     "output_type": "stream",
     "text": [
      "Train Score: 0.95 RMSE\n",
      "Test Score: 9.56 RMSE\n"
     ]
    }
   ],
   "source": [
    "# calculate root mean squared error\n",
    "trainScore = math.sqrt(mean_squared_error(trainY[0], trainPredict[:,0]))\n",
    "print('Train Score: %.2f RMSE' % (trainScore))\n",
    "testScore = math.sqrt(mean_squared_error(testY[0], testPredict[:,0]))\n",
    "print('Test Score: %.2f RMSE' % (testScore))"
   ]
  },
  {
   "cell_type": "code",
   "execution_count": 18,
   "metadata": {
    "colab": {
     "base_uri": "https://localhost:8080/",
     "height": 265
    },
    "executionInfo": {
     "elapsed": 406,
     "status": "ok",
     "timestamp": 1647214844502,
     "user": {
      "displayName": "John Foxworthy",
      "photoUrl": "https://lh3.googleusercontent.com/a-/AOh14Gjn2D58SbCMnKjb3yLpkAdgVtfzuDgZkA7M3OtH_Q=s64",
      "userId": "06565867259952209038"
     },
     "user_tz": 420
    },
    "id": "K-Y8pynvGsFu",
    "outputId": "1f06b7bb-f2f2-46d0-9859-69f7545d4da7"
   },
   "outputs": [
    {
     "data": {
      "image/png": "[encoded data removed]",
      "text/plain": [
       "<Figure size 432x288 with 1 Axes>"
      ]
     },
     "metadata": {
      "needs_background": "light"
     },
     "output_type": "display_data"
    }
   ],
   "source": [
    "# shift train predictions for plotting\n",
    "trainPredictPlot = numpy.empty_like(dataset)\n",
    "trainPredictPlot[:, :] = numpy.nan\n",
    "trainPredictPlot[look_back:len(trainPredict)+look_back, :] = trainPredict\n",
    "\n",
    "# shift test predictions for plotting\n",
    "testPredictPlot = numpy.empty_like(dataset)\n",
    "testPredictPlot[:, :] = numpy.nan\n",
    "testPredictPlot[len(trainPredict)+(look_back*2)+1:len(dataset)-1, :] = testPredict\n",
    "\n",
    "# plot baseline and predictions\n",
    "plt.plot(scaler.inverse_transform(dataset))\n",
    "plt.plot(trainPredictPlot)\n",
    "plt.plot(testPredictPlot)\n",
    "plt.show()"
   ]
  },
  {
   "cell_type": "code",
   "execution_count": null,
   "metadata": {
    "id": "mIriezgN7ENu"
   },
   "outputs": [],
   "source": []
  }
 ],
 "metadata": {
  "colab": {
   "authorship_tag": "ABX9TyMkAs/OBc0dm3pktFip5CDE",
   "collapsed_sections": [],
   "mount_file_id": "1ObxYg2WvzRDI3Jd7zzDPxxSbbdynlIWS",
   "name": "01A04_Boston.ipynb",
   "provenance": [
    {
     "file_id": "11I3Gqw3fcrLaKnGcGWvSsbfUDI8ZOr7S",
     "timestamp": 1647200393367
    },
    {
     "file_id": "109QkHsu7vRucaK9qdW71ue53iwqeVmzh",
     "timestamp": 1646879387485
    },
    {
     "file_id": "1dY4cAt9xjBgbNY4LHeJAqxpZFI0OLeRK",
     "timestamp": 1646788712728
    },
    {
     "file_id": "1ObxYg2WvzRDI3Jd7zzDPxxSbbdynlIWS",
     "timestamp": 1646603763919
    }
   ]
  },
  "kernelspec": {
   "display_name": "Python 3 (ipykernel)",
   "language": "python",
   "name": "python3"
  },
  "language_info": {
   "codemirror_mode": {
    "name": "ipython",
    "version": 3
   },
   "file_extension": ".py",
   "mimetype": "text/x-python",
   "name": "python",
   "nbconvert_exporter": "python",
   "pygments_lexer": "ipython3",
   "version": "3.7.6"
  }
 },
 "nbformat": 4,
 "nbformat_minor": 4
}
