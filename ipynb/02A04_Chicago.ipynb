{
 "cells": [
  {
   "cell_type": "markdown",
   "metadata": {
    "id": "jBBc1b1HD-Tv"
   },
   "source": [
    "# Assignment 04 LSTM Time Series Chicago with 5 Epochs\n"
   ]
  },
  {
   "cell_type": "code",
   "execution_count": 1,
   "metadata": {
    "executionInfo": {
     "elapsed": 2443,
     "status": "ok",
     "timestamp": 1647215958629,
     "user": {
      "displayName": "John Foxworthy",
      "photoUrl": "https://lh3.googleusercontent.com/a-/AOh14Gjn2D58SbCMnKjb3yLpkAdgVtfzuDgZkA7M3OtH_Q=s64",
      "userId": "06565867259952209038"
     },
     "user_tz": 420
    },
    "id": "3iYx_Oh4Fl2U"
   },
   "outputs": [],
   "source": [
    "# Data Analysis Libraries\n",
    "import numpy \n",
    "import pandas \n",
    "import math\n",
    "\n",
    "# Data Visualization\n",
    "import matplotlib.pyplot as plt\n",
    "\n",
    "# Data Preprocessing\n",
    "from sklearn.preprocessing import MinMaxScaler\n",
    "\n",
    "# Deep Learning Libraries\n",
    "import tensorflow as tf\n",
    "from keras.models import Sequential\n",
    "from keras.layers import Dense\n",
    "from keras.layers import LSTM\n",
    "\n",
    "# Assessment Libraries\n",
    "from sklearn.metrics import mean_squared_error"
   ]
  },
  {
   "cell_type": "code",
   "execution_count": 2,
   "metadata": {
    "executionInfo": {
     "elapsed": 13,
     "status": "ok",
     "timestamp": 1647215958629,
     "user": {
      "displayName": "John Foxworthy",
      "photoUrl": "https://lh3.googleusercontent.com/a-/AOh14Gjn2D58SbCMnKjb3yLpkAdgVtfzuDgZkA7M3OtH_Q=s64",
      "userId": "06565867259952209038"
     },
     "user_tz": 420
    },
    "id": "RwVHxLqAFnLl"
   },
   "outputs": [],
   "source": [
    "# fix random seed for reproducibility\n",
    "numpy.random.seed(7)"
   ]
  },
  {
   "cell_type": "code",
   "execution_count": 3,
   "metadata": {
    "executionInfo": {
     "elapsed": 12,
     "status": "ok",
     "timestamp": 1647215958630,
     "user": {
      "displayName": "John Foxworthy",
      "photoUrl": "https://lh3.googleusercontent.com/a-/AOh14Gjn2D58SbCMnKjb3yLpkAdgVtfzuDgZkA7M3OtH_Q=s64",
      "userId": "06565867259952209038"
     },
     "user_tz": 420
    },
    "id": "kWHSKSjNFsws"
   },
   "outputs": [],
   "source": [
    "dataframe = pandas.read_csv('/content/sample_data/chi.csv', usecols=[1], engine='python')\n",
    "dataset = dataframe.values\n",
    "dataset = dataset.astype('float32')"
   ]
  },
  {
   "cell_type": "code",
   "execution_count": 4,
   "metadata": {
    "colab": {
     "base_uri": "https://localhost:8080/"
    },
    "executionInfo": {
     "elapsed": 11,
     "status": "ok",
     "timestamp": 1647215958630,
     "user": {
      "displayName": "John Foxworthy",
      "photoUrl": "https://lh3.googleusercontent.com/a-/AOh14Gjn2D58SbCMnKjb3yLpkAdgVtfzuDgZkA7M3OtH_Q=s64",
      "userId": "06565867259952209038"
     },
     "user_tz": 420
    },
    "id": "WrbR7CuGOjWG",
    "outputId": "60305d61-e23d-4d3f-d93f-c9e4183fb875"
   },
   "outputs": [
    {
     "name": "stdout",
     "output_type": "stream",
     "text": [
      "<class 'pandas.core.frame.DataFrame'>\n",
      "RangeIndex: 420 entries, 0 to 419\n",
      "Data columns (total 1 columns):\n",
      " #   Column  Non-Null Count  Dtype  \n",
      "---  ------  --------------  -----  \n",
      " 0   CHXRSA  420 non-null    float64\n",
      "dtypes: float64(1)\n",
      "memory usage: 3.4 KB\n"
     ]
    }
   ],
   "source": [
    "dataframe.info()"
   ]
  },
  {
   "cell_type": "code",
   "execution_count": 5,
   "metadata": {
    "executionInfo": {
     "elapsed": 10,
     "status": "ok",
     "timestamp": 1647215958630,
     "user": {
      "displayName": "John Foxworthy",
      "photoUrl": "https://lh3.googleusercontent.com/a-/AOh14Gjn2D58SbCMnKjb3yLpkAdgVtfzuDgZkA7M3OtH_Q=s64",
      "userId": "06565867259952209038"
     },
     "user_tz": 420
    },
    "id": "1vDfFu5gF8yq"
   },
   "outputs": [],
   "source": [
    "# normalize the dataset\n",
    "scaler = MinMaxScaler(feature_range=(0, 1))\n",
    "dataset = scaler.fit_transform(dataset)"
   ]
  },
  {
   "cell_type": "code",
   "execution_count": 6,
   "metadata": {
    "colab": {
     "base_uri": "https://localhost:8080/"
    },
    "executionInfo": {
     "elapsed": 11,
     "status": "ok",
     "timestamp": 1647215958631,
     "user": {
      "displayName": "John Foxworthy",
      "photoUrl": "https://lh3.googleusercontent.com/a-/AOh14Gjn2D58SbCMnKjb3yLpkAdgVtfzuDgZkA7M3OtH_Q=s64",
      "userId": "06565867259952209038"
     },
     "user_tz": 420
    },
    "id": "XkSnJ_O6GCCZ",
    "outputId": "1cf3dcbb-d2ac-4032-8ea5-007b4876853f"
   },
   "outputs": [
    {
     "name": "stdout",
     "output_type": "stream",
     "text": [
      "294 126\n"
     ]
    }
   ],
   "source": [
    "# split into train and test sets\n",
    "train_size = int(len(dataset) * 0.70)\n",
    "test_size = len(dataset) - train_size\n",
    "train, test = dataset[0:train_size,:], dataset[train_size:len(dataset),:]\n",
    "print(len(train), len(test))"
   ]
  },
  {
   "cell_type": "code",
   "execution_count": 7,
   "metadata": {
    "executionInfo": {
     "elapsed": 8,
     "status": "ok",
     "timestamp": 1647215958631,
     "user": {
      "displayName": "John Foxworthy",
      "photoUrl": "https://lh3.googleusercontent.com/a-/AOh14Gjn2D58SbCMnKjb3yLpkAdgVtfzuDgZkA7M3OtH_Q=s64",
      "userId": "06565867259952209038"
     },
     "user_tz": 420
    },
    "id": "gDP0o54XGGBQ"
   },
   "outputs": [],
   "source": [
    "# convert an array of values into a dataset matrix\n",
    "def create_dataset(dataset, look_back=1):\n",
    "\tdataX, dataY = [], []\n",
    "\tfor i in range(len(dataset)-look_back-1):\n",
    "\t\ta = dataset[i:(i+look_back), 0]\n",
    "\t\tdataX.append(a)\n",
    "\t\tdataY.append(dataset[i + look_back, 0])\n",
    "\treturn numpy.array(dataX), numpy.array(dataY)"
   ]
  },
  {
   "cell_type": "code",
   "execution_count": 8,
   "metadata": {
    "executionInfo": {
     "elapsed": 8,
     "status": "ok",
     "timestamp": 1647215958631,
     "user": {
      "displayName": "John Foxworthy",
      "photoUrl": "https://lh3.googleusercontent.com/a-/AOh14Gjn2D58SbCMnKjb3yLpkAdgVtfzuDgZkA7M3OtH_Q=s64",
      "userId": "06565867259952209038"
     },
     "user_tz": 420
    },
    "id": "8013b7shGM97"
   },
   "outputs": [],
   "source": [
    "# reshape into X=t and Y=t+1\n",
    "look_back = 1\n",
    "trainX, trainY = create_dataset(train, look_back)\n",
    "testX, testY = create_dataset(test, look_back)"
   ]
  },
  {
   "cell_type": "code",
   "execution_count": 9,
   "metadata": {
    "executionInfo": {
     "elapsed": 8,
     "status": "ok",
     "timestamp": 1647215958632,
     "user": {
      "displayName": "John Foxworthy",
      "photoUrl": "https://lh3.googleusercontent.com/a-/AOh14Gjn2D58SbCMnKjb3yLpkAdgVtfzuDgZkA7M3OtH_Q=s64",
      "userId": "06565867259952209038"
     },
     "user_tz": 420
    },
    "id": "0rBSFRpgGRA2"
   },
   "outputs": [],
   "source": [
    "# reshape input to be [samples, time steps, features]\n",
    "trainX = numpy.reshape(trainX, (trainX.shape[0], 1, trainX.shape[1]))\n",
    "testX = numpy.reshape(testX, (testX.shape[0], 1, testX.shape[1]))"
   ]
  },
  {
   "cell_type": "code",
   "execution_count": 10,
   "metadata": {
    "colab": {
     "base_uri": "https://localhost:8080/"
    },
    "executionInfo": {
     "elapsed": 3470,
     "status": "ok",
     "timestamp": 1647215962094,
     "user": {
      "displayName": "John Foxworthy",
      "photoUrl": "https://lh3.googleusercontent.com/a-/AOh14Gjn2D58SbCMnKjb3yLpkAdgVtfzuDgZkA7M3OtH_Q=s64",
      "userId": "06565867259952209038"
     },
     "user_tz": 420
    },
    "id": "XpnmQiq4GVDD",
    "outputId": "05f60c2d-c945-4ac5-bc9d-dbc98296e4ff"
   },
   "outputs": [
    {
     "name": "stdout",
     "output_type": "stream",
     "text": [
      "Epoch 1/5\n",
      "292/292 - 2s - loss: 0.1415 - 2s/epoch - 6ms/step\n",
      "Epoch 2/5\n",
      "292/292 - 0s - loss: 0.0486 - 328ms/epoch - 1ms/step\n",
      "Epoch 3/5\n",
      "292/292 - 0s - loss: 0.0335 - 326ms/epoch - 1ms/step\n",
      "Epoch 4/5\n",
      "292/292 - 0s - loss: 0.0203 - 317ms/epoch - 1ms/step\n",
      "Epoch 5/5\n",
      "292/292 - 0s - loss: 0.0101 - 314ms/epoch - 1ms/step\n",
      "CPU times: user 4.01 s, sys: 702 ms, total: 4.71 s\n",
      "Wall time: 3.4 s\n"
     ]
    }
   ],
   "source": [
    "# create and fit the LSTM network\n",
    "%%time\n",
    "model = Sequential()\n",
    "model.add(LSTM(4, input_shape=(1, look_back)))\n",
    "model.add(Dense(1))\n",
    "model.compile(loss='mean_squared_error', optimizer='adam')\n",
    "model.fit(trainX, trainY, epochs=5, batch_size=1, verbose=2)\n"
   ]
  },
  {
   "cell_type": "code",
   "execution_count": 17,
   "metadata": {
    "colab": {
     "base_uri": "https://localhost:8080/"
    },
    "executionInfo": {
     "elapsed": 130,
     "status": "ok",
     "timestamp": 1647216072409,
     "user": {
      "displayName": "John Foxworthy",
      "photoUrl": "https://lh3.googleusercontent.com/a-/AOh14Gjn2D58SbCMnKjb3yLpkAdgVtfzuDgZkA7M3OtH_Q=s64",
      "userId": "06565867259952209038"
     },
     "user_tz": 420
    },
    "id": "wb7huxphun17",
    "outputId": "3f941ce5-a064-4f96-8b82-1f9e80ed950d"
   },
   "outputs": [
    {
     "name": "stdout",
     "output_type": "stream",
     "text": [
      "Model: \"sequential\"\n",
      "_________________________________________________________________\n",
      " Layer (type)                Output Shape              Param #   \n",
      "=================================================================\n",
      " lstm (LSTM)                 (None, 4)                 96        \n",
      "                                                                 \n",
      " dense (Dense)               (None, 1)                 5         \n",
      "                                                                 \n",
      "=================================================================\n",
      "Total params: 101\n",
      "Trainable params: 101\n",
      "Non-trainable params: 0\n",
      "_________________________________________________________________\n"
     ]
    }
   ],
   "source": [
    "model.summary()"
   ]
  },
  {
   "cell_type": "code",
   "execution_count": 11,
   "metadata": {
    "colab": {
     "base_uri": "https://localhost:8080/",
     "height": 284
    },
    "executionInfo": {
     "elapsed": 578,
     "status": "ok",
     "timestamp": 1647215962668,
     "user": {
      "displayName": "John Foxworthy",
      "photoUrl": "https://lh3.googleusercontent.com/a-/AOh14Gjn2D58SbCMnKjb3yLpkAdgVtfzuDgZkA7M3OtH_Q=s64",
      "userId": "06565867259952209038"
     },
     "user_tz": 420
    },
    "id": "cUpSlu64dnWf",
    "outputId": "4ec556a3-08e8-46f2-f229-618a6f206b09"
   },
   "outputs": [
    {
     "name": "stdout",
     "output_type": "stream",
     "text": [
      "R-Squared: 0.695659\n"
     ]
    },
    {
     "data": {
      "image/png": "[encoded data removed]",
      "text/plain": [
       "<Figure size 432x288 with 1 Axes>"
      ]
     },
     "metadata": {
      "needs_background": "light"
     },
     "output_type": "display_data"
    }
   ],
   "source": [
    "from sklearn.metrics import r2_score\n",
    "\n",
    "y_pred = model.predict(testX)\n",
    "plt.plot(testY)\n",
    "plt.plot(y_pred)\n",
    "print('R-Squared: %f'%(r2_score(testY, y_pred)))"
   ]
  },
  {
   "cell_type": "code",
   "execution_count": 12,
   "metadata": {
    "colab": {
     "base_uri": "https://localhost:8080/"
    },
    "executionInfo": {
     "elapsed": 7,
     "status": "ok",
     "timestamp": 1647215962669,
     "user": {
      "displayName": "John Foxworthy",
      "photoUrl": "https://lh3.googleusercontent.com/a-/AOh14Gjn2D58SbCMnKjb3yLpkAdgVtfzuDgZkA7M3OtH_Q=s64",
      "userId": "06565867259952209038"
     },
     "user_tz": 420
    },
    "id": "dVg8Sbri8V-P",
    "outputId": "3365c122-c3b0-49e9-89ce-d88762c8282e"
   },
   "outputs": [
    {
     "data": {
      "text/plain": [
       "19.379997"
      ]
     },
     "execution_count": 12,
     "metadata": {},
     "output_type": "execute_result"
    }
   ],
   "source": [
    "mape = tf.keras.losses.MeanAbsolutePercentageError()\n",
    "mape(testY, y_pred).numpy()"
   ]
  },
  {
   "cell_type": "code",
   "execution_count": 13,
   "metadata": {
    "executionInfo": {
     "elapsed": 199,
     "status": "ok",
     "timestamp": 1647215962863,
     "user": {
      "displayName": "John Foxworthy",
      "photoUrl": "https://lh3.googleusercontent.com/a-/AOh14Gjn2D58SbCMnKjb3yLpkAdgVtfzuDgZkA7M3OtH_Q=s64",
      "userId": "06565867259952209038"
     },
     "user_tz": 420
    },
    "id": "lVnNZTNEGaJ9"
   },
   "outputs": [],
   "source": [
    "# make predictions\n",
    "trainPredict = model.predict(trainX)\n",
    "testPredict = model.predict(testX)"
   ]
  },
  {
   "cell_type": "code",
   "execution_count": 14,
   "metadata": {
    "executionInfo": {
     "elapsed": 9,
     "status": "ok",
     "timestamp": 1647215962863,
     "user": {
      "displayName": "John Foxworthy",
      "photoUrl": "https://lh3.googleusercontent.com/a-/AOh14Gjn2D58SbCMnKjb3yLpkAdgVtfzuDgZkA7M3OtH_Q=s64",
      "userId": "06565867259952209038"
     },
     "user_tz": 420
    },
    "id": "vDiFewECGmna"
   },
   "outputs": [],
   "source": [
    "# invert predictions\n",
    "trainPredict = scaler.inverse_transform(trainPredict)\n",
    "trainY = scaler.inverse_transform([trainY])\n",
    "testPredict = scaler.inverse_transform(testPredict)\n",
    "testY = scaler.inverse_transform([testY])"
   ]
  },
  {
   "cell_type": "code",
   "execution_count": 15,
   "metadata": {
    "colab": {
     "base_uri": "https://localhost:8080/"
    },
    "executionInfo": {
     "elapsed": 9,
     "status": "ok",
     "timestamp": 1647215962864,
     "user": {
      "displayName": "John Foxworthy",
      "photoUrl": "https://lh3.googleusercontent.com/a-/AOh14Gjn2D58SbCMnKjb3yLpkAdgVtfzuDgZkA7M3OtH_Q=s64",
      "userId": "06565867259952209038"
     },
     "user_tz": 420
    },
    "id": "MVlq8jGMGopp",
    "outputId": "db745276-507a-43a9-831b-ec516150db93"
   },
   "outputs": [
    {
     "name": "stdout",
     "output_type": "stream",
     "text": [
      "Train Score: 9.37 RMSE\n",
      "Test Score: 8.09 RMSE\n"
     ]
    }
   ],
   "source": [
    "# calculate root mean squared error\n",
    "trainScore = math.sqrt(mean_squared_error(trainY[0], trainPredict[:,0]))\n",
    "print('Train Score: %.2f RMSE' % (trainScore))\n",
    "testScore = math.sqrt(mean_squared_error(testY[0], testPredict[:,0]))\n",
    "print('Test Score: %.2f RMSE' % (testScore))"
   ]
  },
  {
   "cell_type": "code",
   "execution_count": 16,
   "metadata": {
    "colab": {
     "base_uri": "https://localhost:8080/",
     "height": 269
    },
    "executionInfo": {
     "elapsed": 8,
     "status": "ok",
     "timestamp": 1647215962864,
     "user": {
      "displayName": "John Foxworthy",
      "photoUrl": "https://lh3.googleusercontent.com/a-/AOh14Gjn2D58SbCMnKjb3yLpkAdgVtfzuDgZkA7M3OtH_Q=s64",
      "userId": "06565867259952209038"
     },
     "user_tz": 420
    },
    "id": "K-Y8pynvGsFu",
    "outputId": "76e486e2-3023-4c06-cf35-520742bf1caf"
   },
   "outputs": [
    {
     "data": {
      "image/png": "[encoded data removed]",
      "text/plain": [
       "<Figure size 432x288 with 1 Axes>"
      ]
     },
     "metadata": {
      "needs_background": "light"
     },
     "output_type": "display_data"
    }
   ],
   "source": [
    "# shift train predictions for plotting\n",
    "trainPredictPlot = numpy.empty_like(dataset)\n",
    "trainPredictPlot[:, :] = numpy.nan\n",
    "trainPredictPlot[look_back:len(trainPredict)+look_back, :] = trainPredict\n",
    "\n",
    "# shift test predictions for plotting\n",
    "testPredictPlot = numpy.empty_like(dataset)\n",
    "testPredictPlot[:, :] = numpy.nan\n",
    "testPredictPlot[len(trainPredict)+(look_back*2)+1:len(dataset)-1, :] = testPredict\n",
    "\n",
    "# plot baseline and predictions\n",
    "plt.plot(scaler.inverse_transform(dataset))\n",
    "plt.plot(trainPredictPlot)\n",
    "plt.plot(testPredictPlot)\n",
    "plt.show()"
   ]
  },
  {
   "cell_type": "code",
   "execution_count": null,
   "metadata": {
    "id": "_iKAec5WumAu"
   },
   "outputs": [],
   "source": []
  },
  {
   "cell_type": "code",
   "execution_count": 16,
   "metadata": {
    "executionInfo": {
     "elapsed": 6,
     "status": "ok",
     "timestamp": 1647215962864,
     "user": {
      "displayName": "John Foxworthy",
      "photoUrl": "https://lh3.googleusercontent.com/a-/AOh14Gjn2D58SbCMnKjb3yLpkAdgVtfzuDgZkA7M3OtH_Q=s64",
      "userId": "06565867259952209038"
     },
     "user_tz": 420
    },
    "id": "mIriezgN7ENu"
   },
   "outputs": [],
   "source": []
  }
 ],
 "metadata": {
  "colab": {
   "authorship_tag": "ABX9TyNHxUr+s9vLj09Mvk6RJ215",
   "collapsed_sections": [],
   "mount_file_id": "1ObxYg2WvzRDI3Jd7zzDPxxSbbdynlIWS",
   "name": "02A04_Chicago.ipynb",
   "provenance": [
    {
     "file_id": "1oSFmjo7RmDhfnc0tdBgEQGg3GJJY_MUD",
     "timestamp": 1647205547409
    },
    {
     "file_id": "109QkHsu7vRucaK9qdW71ue53iwqeVmzh",
     "timestamp": 1647202763029
    },
    {
     "file_id": "1dY4cAt9xjBgbNY4LHeJAqxpZFI0OLeRK",
     "timestamp": 1646788712728
    },
    {
     "file_id": "1ObxYg2WvzRDI3Jd7zzDPxxSbbdynlIWS",
     "timestamp": 1646603763919
    }
   ]
  },
  "kernelspec": {
   "display_name": "Python 3 (ipykernel)",
   "language": "python",
   "name": "python3"
  },
  "language_info": {
   "codemirror_mode": {
    "name": "ipython",
    "version": 3
   },
   "file_extension": ".py",
   "mimetype": "text/x-python",
   "name": "python",
   "nbconvert_exporter": "python",
   "pygments_lexer": "ipython3",
   "version": "3.7.6"
  }
 },
 "nbformat": 4,
 "nbformat_minor": 4
}
