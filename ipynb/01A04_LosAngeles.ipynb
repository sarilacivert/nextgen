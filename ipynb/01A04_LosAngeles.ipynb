{
 "cells": [
  {
   "cell_type": "markdown",
   "metadata": {
    "id": "jBBc1b1HD-Tv"
   },
   "source": [
    "# Assignment 04 LSTM Time Series Los Angeles"
   ]
  },
  {
   "cell_type": "code",
   "execution_count": 1,
   "metadata": {
    "executionInfo": {
     "elapsed": 3828,
     "status": "ok",
     "timestamp": 1647215451077,
     "user": {
      "displayName": "John Foxworthy",
      "photoUrl": "https://lh3.googleusercontent.com/a-/AOh14Gjn2D58SbCMnKjb3yLpkAdgVtfzuDgZkA7M3OtH_Q=s64",
      "userId": "06565867259952209038"
     },
     "user_tz": 420
    },
    "id": "3iYx_Oh4Fl2U"
   },
   "outputs": [],
   "source": [
    "# Data Analysis Libraries\n",
    "import numpy \n",
    "import pandas \n",
    "import math\n",
    "\n",
    "# Data Visualization\n",
    "import matplotlib.pyplot as plt\n",
    "\n",
    "# Data Preprocessing\n",
    "from sklearn.preprocessing import MinMaxScaler\n",
    "\n",
    "# Deep Learning Libraries\n",
    "import tensorflow as tf\n",
    "from keras.models import Sequential\n",
    "from keras.layers import Dense\n",
    "from keras.layers import LSTM\n",
    "\n",
    "# Assessment Libraries\n",
    "from sklearn.metrics import mean_squared_error"
   ]
  },
  {
   "cell_type": "code",
   "execution_count": 2,
   "metadata": {
    "executionInfo": {
     "elapsed": 185,
     "status": "ok",
     "timestamp": 1647215454915,
     "user": {
      "displayName": "John Foxworthy",
      "photoUrl": "https://lh3.googleusercontent.com/a-/AOh14Gjn2D58SbCMnKjb3yLpkAdgVtfzuDgZkA7M3OtH_Q=s64",
      "userId": "06565867259952209038"
     },
     "user_tz": 420
    },
    "id": "RwVHxLqAFnLl"
   },
   "outputs": [],
   "source": [
    "# fix random seed for reproducibility\n",
    "numpy.random.seed(7)"
   ]
  },
  {
   "cell_type": "code",
   "execution_count": 3,
   "metadata": {
    "executionInfo": {
     "elapsed": 186,
     "status": "ok",
     "timestamp": 1647215455933,
     "user": {
      "displayName": "John Foxworthy",
      "photoUrl": "https://lh3.googleusercontent.com/a-/AOh14Gjn2D58SbCMnKjb3yLpkAdgVtfzuDgZkA7M3OtH_Q=s64",
      "userId": "06565867259952209038"
     },
     "user_tz": 420
    },
    "id": "kWHSKSjNFsws"
   },
   "outputs": [],
   "source": [
    "dataframe = pandas.read_csv('/content/sample_data/la.csv', usecols=[1], engine='python')\n",
    "dataset = dataframe.values\n",
    "dataset = dataset.astype('float32')"
   ]
  },
  {
   "cell_type": "code",
   "execution_count": 4,
   "metadata": {
    "colab": {
     "base_uri": "https://localhost:8080/"
    },
    "executionInfo": {
     "elapsed": 230,
     "status": "ok",
     "timestamp": 1647215456787,
     "user": {
      "displayName": "John Foxworthy",
      "photoUrl": "https://lh3.googleusercontent.com/a-/AOh14Gjn2D58SbCMnKjb3yLpkAdgVtfzuDgZkA7M3OtH_Q=s64",
      "userId": "06565867259952209038"
     },
     "user_tz": 420
    },
    "id": "WrbR7CuGOjWG",
    "outputId": "407a3eac-9573-45da-9af7-1abd5ab75d70"
   },
   "outputs": [
    {
     "name": "stdout",
     "output_type": "stream",
     "text": [
      "<class 'pandas.core.frame.DataFrame'>\n",
      "RangeIndex: 420 entries, 0 to 419\n",
      "Data columns (total 1 columns):\n",
      " #   Column  Non-Null Count  Dtype  \n",
      "---  ------  --------------  -----  \n",
      " 0   LXXRSA  420 non-null    float64\n",
      "dtypes: float64(1)\n",
      "memory usage: 3.4 KB\n"
     ]
    }
   ],
   "source": [
    "dataframe.info()"
   ]
  },
  {
   "cell_type": "code",
   "execution_count": 5,
   "metadata": {
    "executionInfo": {
     "elapsed": 153,
     "status": "ok",
     "timestamp": 1647215458051,
     "user": {
      "displayName": "John Foxworthy",
      "photoUrl": "https://lh3.googleusercontent.com/a-/AOh14Gjn2D58SbCMnKjb3yLpkAdgVtfzuDgZkA7M3OtH_Q=s64",
      "userId": "06565867259952209038"
     },
     "user_tz": 420
    },
    "id": "1vDfFu5gF8yq"
   },
   "outputs": [],
   "source": [
    "# normalize the dataset\n",
    "scaler = MinMaxScaler(feature_range=(0, 1))\n",
    "dataset = scaler.fit_transform(dataset)"
   ]
  },
  {
   "cell_type": "code",
   "execution_count": 6,
   "metadata": {
    "colab": {
     "base_uri": "https://localhost:8080/"
    },
    "executionInfo": {
     "elapsed": 3,
     "status": "ok",
     "timestamp": 1647215458850,
     "user": {
      "displayName": "John Foxworthy",
      "photoUrl": "https://lh3.googleusercontent.com/a-/AOh14Gjn2D58SbCMnKjb3yLpkAdgVtfzuDgZkA7M3OtH_Q=s64",
      "userId": "06565867259952209038"
     },
     "user_tz": 420
    },
    "id": "XkSnJ_O6GCCZ",
    "outputId": "115ed511-bb3a-4e69-9c44-554877e263ef"
   },
   "outputs": [
    {
     "name": "stdout",
     "output_type": "stream",
     "text": [
      "294 126\n"
     ]
    }
   ],
   "source": [
    "# split into train and test sets\n",
    "train_size = int(len(dataset) * 0.70)\n",
    "test_size = len(dataset) - train_size\n",
    "train, test = dataset[0:train_size,:], dataset[train_size:len(dataset),:]\n",
    "print(len(train), len(test))"
   ]
  },
  {
   "cell_type": "code",
   "execution_count": 7,
   "metadata": {
    "executionInfo": {
     "elapsed": 123,
     "status": "ok",
     "timestamp": 1647215460078,
     "user": {
      "displayName": "John Foxworthy",
      "photoUrl": "https://lh3.googleusercontent.com/a-/AOh14Gjn2D58SbCMnKjb3yLpkAdgVtfzuDgZkA7M3OtH_Q=s64",
      "userId": "06565867259952209038"
     },
     "user_tz": 420
    },
    "id": "gDP0o54XGGBQ"
   },
   "outputs": [],
   "source": [
    "# convert an array of values into a dataset matrix\n",
    "def create_dataset(dataset, look_back=1):\n",
    "\tdataX, dataY = [], []\n",
    "\tfor i in range(len(dataset)-look_back-1):\n",
    "\t\ta = dataset[i:(i+look_back), 0]\n",
    "\t\tdataX.append(a)\n",
    "\t\tdataY.append(dataset[i + look_back, 0])\n",
    "\treturn numpy.array(dataX), numpy.array(dataY)"
   ]
  },
  {
   "cell_type": "code",
   "execution_count": 8,
   "metadata": {
    "executionInfo": {
     "elapsed": 188,
     "status": "ok",
     "timestamp": 1647215461005,
     "user": {
      "displayName": "John Foxworthy",
      "photoUrl": "https://lh3.googleusercontent.com/a-/AOh14Gjn2D58SbCMnKjb3yLpkAdgVtfzuDgZkA7M3OtH_Q=s64",
      "userId": "06565867259952209038"
     },
     "user_tz": 420
    },
    "id": "8013b7shGM97"
   },
   "outputs": [],
   "source": [
    "# reshape into X=t and Y=t+1\n",
    "look_back = 1\n",
    "trainX, trainY = create_dataset(train, look_back)\n",
    "testX, testY = create_dataset(test, look_back)"
   ]
  },
  {
   "cell_type": "code",
   "execution_count": 9,
   "metadata": {
    "executionInfo": {
     "elapsed": 152,
     "status": "ok",
     "timestamp": 1647215462288,
     "user": {
      "displayName": "John Foxworthy",
      "photoUrl": "https://lh3.googleusercontent.com/a-/AOh14Gjn2D58SbCMnKjb3yLpkAdgVtfzuDgZkA7M3OtH_Q=s64",
      "userId": "06565867259952209038"
     },
     "user_tz": 420
    },
    "id": "0rBSFRpgGRA2"
   },
   "outputs": [],
   "source": [
    "# reshape input to be [samples, time steps, features]\n",
    "trainX = numpy.reshape(trainX, (trainX.shape[0], 1, trainX.shape[1]))\n",
    "testX = numpy.reshape(testX, (testX.shape[0], 1, testX.shape[1]))"
   ]
  },
  {
   "cell_type": "code",
   "execution_count": 10,
   "metadata": {
    "colab": {
     "base_uri": "https://localhost:8080/"
    },
    "executionInfo": {
     "elapsed": 50434,
     "status": "ok",
     "timestamp": 1647215513502,
     "user": {
      "displayName": "John Foxworthy",
      "photoUrl": "https://lh3.googleusercontent.com/a-/AOh14Gjn2D58SbCMnKjb3yLpkAdgVtfzuDgZkA7M3OtH_Q=s64",
      "userId": "06565867259952209038"
     },
     "user_tz": 420
    },
    "id": "XpnmQiq4GVDD",
    "outputId": "b11fda10-5699-4f44-e7a7-40bf429854ee"
   },
   "outputs": [
    {
     "name": "stdout",
     "output_type": "stream",
     "text": [
      "Epoch 1/100\n",
      "292/292 - 3s - loss: 0.0499 - 3s/epoch - 9ms/step\n",
      "Epoch 2/100\n",
      "292/292 - 1s - loss: 0.0290 - 506ms/epoch - 2ms/step\n",
      "Epoch 3/100\n",
      "292/292 - 0s - loss: 0.0214 - 461ms/epoch - 2ms/step\n",
      "Epoch 4/100\n",
      "292/292 - 0s - loss: 0.0130 - 497ms/epoch - 2ms/step\n",
      "Epoch 5/100\n",
      "292/292 - 0s - loss: 0.0055 - 451ms/epoch - 2ms/step\n",
      "Epoch 6/100\n",
      "292/292 - 0s - loss: 0.0012 - 455ms/epoch - 2ms/step\n",
      "Epoch 7/100\n",
      "292/292 - 0s - loss: 1.4446e-04 - 453ms/epoch - 2ms/step\n",
      "Epoch 8/100\n",
      "292/292 - 0s - loss: 8.3833e-05 - 467ms/epoch - 2ms/step\n",
      "Epoch 9/100\n",
      "292/292 - 0s - loss: 7.6473e-05 - 449ms/epoch - 2ms/step\n",
      "Epoch 10/100\n",
      "292/292 - 0s - loss: 7.5635e-05 - 462ms/epoch - 2ms/step\n",
      "Epoch 11/100\n",
      "292/292 - 0s - loss: 7.4886e-05 - 465ms/epoch - 2ms/step\n",
      "Epoch 12/100\n",
      "292/292 - 0s - loss: 6.9197e-05 - 471ms/epoch - 2ms/step\n",
      "Epoch 13/100\n",
      "292/292 - 0s - loss: 6.7833e-05 - 455ms/epoch - 2ms/step\n",
      "Epoch 14/100\n",
      "292/292 - 0s - loss: 6.5576e-05 - 474ms/epoch - 2ms/step\n",
      "Epoch 15/100\n",
      "292/292 - 0s - loss: 6.2995e-05 - 468ms/epoch - 2ms/step\n",
      "Epoch 16/100\n",
      "292/292 - 0s - loss: 5.9717e-05 - 486ms/epoch - 2ms/step\n",
      "Epoch 17/100\n",
      "292/292 - 0s - loss: 5.7222e-05 - 468ms/epoch - 2ms/step\n",
      "Epoch 18/100\n",
      "292/292 - 0s - loss: 5.5675e-05 - 445ms/epoch - 2ms/step\n",
      "Epoch 19/100\n",
      "292/292 - 0s - loss: 5.5988e-05 - 444ms/epoch - 2ms/step\n",
      "Epoch 20/100\n",
      "292/292 - 0s - loss: 5.2803e-05 - 448ms/epoch - 2ms/step\n",
      "Epoch 21/100\n",
      "292/292 - 0s - loss: 6.0410e-05 - 484ms/epoch - 2ms/step\n",
      "Epoch 22/100\n",
      "292/292 - 0s - loss: 5.5500e-05 - 456ms/epoch - 2ms/step\n",
      "Epoch 23/100\n",
      "292/292 - 0s - loss: 5.4002e-05 - 469ms/epoch - 2ms/step\n",
      "Epoch 24/100\n",
      "292/292 - 0s - loss: 5.5034e-05 - 453ms/epoch - 2ms/step\n",
      "Epoch 25/100\n",
      "292/292 - 0s - loss: 5.1903e-05 - 449ms/epoch - 2ms/step\n",
      "Epoch 26/100\n",
      "292/292 - 0s - loss: 5.2960e-05 - 436ms/epoch - 1ms/step\n",
      "Epoch 27/100\n",
      "292/292 - 0s - loss: 6.0191e-05 - 476ms/epoch - 2ms/step\n",
      "Epoch 28/100\n",
      "292/292 - 0s - loss: 5.4731e-05 - 450ms/epoch - 2ms/step\n",
      "Epoch 29/100\n",
      "292/292 - 0s - loss: 4.9341e-05 - 456ms/epoch - 2ms/step\n",
      "Epoch 30/100\n",
      "292/292 - 0s - loss: 5.0182e-05 - 463ms/epoch - 2ms/step\n",
      "Epoch 31/100\n",
      "292/292 - 0s - loss: 5.1535e-05 - 458ms/epoch - 2ms/step\n",
      "Epoch 32/100\n",
      "292/292 - 0s - loss: 5.0991e-05 - 456ms/epoch - 2ms/step\n",
      "Epoch 33/100\n",
      "292/292 - 0s - loss: 5.3263e-05 - 494ms/epoch - 2ms/step\n",
      "Epoch 34/100\n",
      "292/292 - 0s - loss: 5.3583e-05 - 496ms/epoch - 2ms/step\n",
      "Epoch 35/100\n",
      "292/292 - 1s - loss: 4.9469e-05 - 505ms/epoch - 2ms/step\n",
      "Epoch 36/100\n",
      "292/292 - 1s - loss: 5.5533e-05 - 508ms/epoch - 2ms/step\n",
      "Epoch 37/100\n",
      "292/292 - 0s - loss: 5.2903e-05 - 474ms/epoch - 2ms/step\n",
      "Epoch 38/100\n",
      "292/292 - 0s - loss: 5.0815e-05 - 474ms/epoch - 2ms/step\n",
      "Epoch 39/100\n",
      "292/292 - 0s - loss: 5.4675e-05 - 481ms/epoch - 2ms/step\n",
      "Epoch 40/100\n",
      "292/292 - 0s - loss: 5.2762e-05 - 493ms/epoch - 2ms/step\n",
      "Epoch 41/100\n",
      "292/292 - 0s - loss: 5.0572e-05 - 493ms/epoch - 2ms/step\n",
      "Epoch 42/100\n",
      "292/292 - 1s - loss: 5.1036e-05 - 519ms/epoch - 2ms/step\n",
      "Epoch 43/100\n",
      "292/292 - 1s - loss: 5.6360e-05 - 566ms/epoch - 2ms/step\n",
      "Epoch 44/100\n",
      "292/292 - 1s - loss: 5.6409e-05 - 535ms/epoch - 2ms/step\n",
      "Epoch 45/100\n",
      "292/292 - 1s - loss: 5.5930e-05 - 540ms/epoch - 2ms/step\n",
      "Epoch 46/100\n",
      "292/292 - 1s - loss: 5.8154e-05 - 551ms/epoch - 2ms/step\n",
      "Epoch 47/100\n",
      "292/292 - 1s - loss: 5.1465e-05 - 518ms/epoch - 2ms/step\n",
      "Epoch 48/100\n",
      "292/292 - 1s - loss: 5.3460e-05 - 551ms/epoch - 2ms/step\n",
      "Epoch 49/100\n",
      "292/292 - 1s - loss: 5.4398e-05 - 541ms/epoch - 2ms/step\n",
      "Epoch 50/100\n",
      "292/292 - 0s - loss: 5.1602e-05 - 482ms/epoch - 2ms/step\n",
      "Epoch 51/100\n",
      "292/292 - 1s - loss: 5.6196e-05 - 504ms/epoch - 2ms/step\n",
      "Epoch 52/100\n",
      "292/292 - 0s - loss: 5.5249e-05 - 493ms/epoch - 2ms/step\n",
      "Epoch 53/100\n",
      "292/292 - 1s - loss: 5.8787e-05 - 514ms/epoch - 2ms/step\n",
      "Epoch 54/100\n",
      "292/292 - 0s - loss: 5.3102e-05 - 493ms/epoch - 2ms/step\n",
      "Epoch 55/100\n",
      "292/292 - 1s - loss: 5.3377e-05 - 523ms/epoch - 2ms/step\n",
      "Epoch 56/100\n",
      "292/292 - 0s - loss: 5.2056e-05 - 498ms/epoch - 2ms/step\n",
      "Epoch 57/100\n",
      "292/292 - 0s - loss: 5.1091e-05 - 471ms/epoch - 2ms/step\n",
      "Epoch 58/100\n",
      "292/292 - 0s - loss: 4.9791e-05 - 465ms/epoch - 2ms/step\n",
      "Epoch 59/100\n",
      "292/292 - 0s - loss: 5.3199e-05 - 459ms/epoch - 2ms/step\n",
      "Epoch 60/100\n",
      "292/292 - 1s - loss: 5.2814e-05 - 507ms/epoch - 2ms/step\n",
      "Epoch 61/100\n",
      "292/292 - 0s - loss: 5.5449e-05 - 473ms/epoch - 2ms/step\n",
      "Epoch 62/100\n",
      "292/292 - 0s - loss: 5.6758e-05 - 482ms/epoch - 2ms/step\n",
      "Epoch 63/100\n",
      "292/292 - 0s - loss: 5.2983e-05 - 489ms/epoch - 2ms/step\n",
      "Epoch 64/100\n",
      "292/292 - 0s - loss: 5.1556e-05 - 459ms/epoch - 2ms/step\n",
      "Epoch 65/100\n",
      "292/292 - 0s - loss: 5.2941e-05 - 461ms/epoch - 2ms/step\n",
      "Epoch 66/100\n",
      "292/292 - 0s - loss: 5.3138e-05 - 462ms/epoch - 2ms/step\n",
      "Epoch 67/100\n",
      "292/292 - 0s - loss: 6.1621e-05 - 464ms/epoch - 2ms/step\n",
      "Epoch 68/100\n",
      "292/292 - 0s - loss: 5.4478e-05 - 439ms/epoch - 2ms/step\n",
      "Epoch 69/100\n",
      "292/292 - 0s - loss: 5.3379e-05 - 456ms/epoch - 2ms/step\n",
      "Epoch 70/100\n",
      "292/292 - 0s - loss: 4.9890e-05 - 454ms/epoch - 2ms/step\n",
      "Epoch 71/100\n",
      "292/292 - 0s - loss: 5.1266e-05 - 441ms/epoch - 2ms/step\n",
      "Epoch 72/100\n",
      "292/292 - 0s - loss: 5.4249e-05 - 450ms/epoch - 2ms/step\n",
      "Epoch 73/100\n",
      "292/292 - 0s - loss: 4.7838e-05 - 465ms/epoch - 2ms/step\n",
      "Epoch 74/100\n",
      "292/292 - 0s - loss: 4.7907e-05 - 485ms/epoch - 2ms/step\n",
      "Epoch 75/100\n",
      "292/292 - 0s - loss: 5.8231e-05 - 473ms/epoch - 2ms/step\n",
      "Epoch 76/100\n",
      "292/292 - 0s - loss: 5.5003e-05 - 483ms/epoch - 2ms/step\n",
      "Epoch 77/100\n",
      "292/292 - 0s - loss: 5.0968e-05 - 476ms/epoch - 2ms/step\n",
      "Epoch 78/100\n",
      "292/292 - 0s - loss: 5.7139e-05 - 467ms/epoch - 2ms/step\n",
      "Epoch 79/100\n",
      "292/292 - 0s - loss: 5.9082e-05 - 458ms/epoch - 2ms/step\n",
      "Epoch 80/100\n",
      "292/292 - 0s - loss: 5.6530e-05 - 448ms/epoch - 2ms/step\n",
      "Epoch 81/100\n",
      "292/292 - 0s - loss: 5.2657e-05 - 442ms/epoch - 2ms/step\n",
      "Epoch 82/100\n",
      "292/292 - 0s - loss: 5.1135e-05 - 455ms/epoch - 2ms/step\n",
      "Epoch 83/100\n",
      "292/292 - 0s - loss: 5.4923e-05 - 443ms/epoch - 2ms/step\n",
      "Epoch 84/100\n",
      "292/292 - 0s - loss: 5.7219e-05 - 458ms/epoch - 2ms/step\n",
      "Epoch 85/100\n",
      "292/292 - 0s - loss: 5.5918e-05 - 462ms/epoch - 2ms/step\n",
      "Epoch 86/100\n",
      "292/292 - 0s - loss: 5.4173e-05 - 444ms/epoch - 2ms/step\n",
      "Epoch 87/100\n",
      "292/292 - 0s - loss: 5.4048e-05 - 461ms/epoch - 2ms/step\n",
      "Epoch 88/100\n",
      "292/292 - 0s - loss: 5.8046e-05 - 459ms/epoch - 2ms/step\n",
      "Epoch 89/100\n",
      "292/292 - 0s - loss: 5.1820e-05 - 460ms/epoch - 2ms/step\n",
      "Epoch 90/100\n",
      "292/292 - 0s - loss: 4.9049e-05 - 455ms/epoch - 2ms/step\n",
      "Epoch 91/100\n",
      "292/292 - 0s - loss: 4.9966e-05 - 472ms/epoch - 2ms/step\n",
      "Epoch 92/100\n",
      "292/292 - 0s - loss: 5.3549e-05 - 467ms/epoch - 2ms/step\n",
      "Epoch 93/100\n",
      "292/292 - 0s - loss: 5.4473e-05 - 452ms/epoch - 2ms/step\n",
      "Epoch 94/100\n",
      "292/292 - 0s - loss: 6.2152e-05 - 460ms/epoch - 2ms/step\n",
      "Epoch 95/100\n",
      "292/292 - 0s - loss: 5.3486e-05 - 461ms/epoch - 2ms/step\n",
      "Epoch 96/100\n",
      "292/292 - 0s - loss: 5.6268e-05 - 469ms/epoch - 2ms/step\n",
      "Epoch 97/100\n",
      "292/292 - 0s - loss: 5.0739e-05 - 462ms/epoch - 2ms/step\n",
      "Epoch 98/100\n",
      "292/292 - 0s - loss: 5.3004e-05 - 451ms/epoch - 2ms/step\n",
      "Epoch 99/100\n",
      "292/292 - 0s - loss: 5.2544e-05 - 472ms/epoch - 2ms/step\n",
      "Epoch 100/100\n",
      "292/292 - 0s - loss: 5.3078e-05 - 451ms/epoch - 2ms/step\n",
      "CPU times: user 1min 21s, sys: 17.9 s, total: 1min 39s\n",
      "Wall time: 50.5 s\n"
     ]
    }
   ],
   "source": [
    "# create and fit the LSTM network\n",
    "%%time\n",
    "model = Sequential()\n",
    "model.add(LSTM(4, input_shape=(1, look_back)))\n",
    "model.add(Dense(1))\n",
    "model.compile(loss='mean_squared_error', optimizer='adam')\n",
    "model.fit(trainX, trainY, epochs=100, batch_size=1, verbose=2)"
   ]
  },
  {
   "cell_type": "code",
   "execution_count": 11,
   "metadata": {
    "colab": {
     "base_uri": "https://localhost:8080/"
    },
    "executionInfo": {
     "elapsed": 139,
     "status": "ok",
     "timestamp": 1647215518729,
     "user": {
      "displayName": "John Foxworthy",
      "photoUrl": "https://lh3.googleusercontent.com/a-/AOh14Gjn2D58SbCMnKjb3yLpkAdgVtfzuDgZkA7M3OtH_Q=s64",
      "userId": "06565867259952209038"
     },
     "user_tz": 420
    },
    "id": "H1Y_Hh6FsJQo",
    "outputId": "c5962549-aabe-4ceb-c370-6f4d2cc877f6"
   },
   "outputs": [
    {
     "name": "stdout",
     "output_type": "stream",
     "text": [
      "Model: \"sequential\"\n",
      "_________________________________________________________________\n",
      " Layer (type)                Output Shape              Param #   \n",
      "=================================================================\n",
      " lstm (LSTM)                 (None, 4)                 96        \n",
      "                                                                 \n",
      " dense (Dense)               (None, 1)                 5         \n",
      "                                                                 \n",
      "=================================================================\n",
      "Total params: 101\n",
      "Trainable params: 101\n",
      "Non-trainable params: 0\n",
      "_________________________________________________________________\n"
     ]
    }
   ],
   "source": [
    "model.summary()"
   ]
  },
  {
   "cell_type": "code",
   "execution_count": 12,
   "metadata": {
    "colab": {
     "base_uri": "https://localhost:8080/",
     "height": 283
    },
    "executionInfo": {
     "elapsed": 981,
     "status": "ok",
     "timestamp": 1647215522436,
     "user": {
      "displayName": "John Foxworthy",
      "photoUrl": "https://lh3.googleusercontent.com/a-/AOh14Gjn2D58SbCMnKjb3yLpkAdgVtfzuDgZkA7M3OtH_Q=s64",
      "userId": "06565867259952209038"
     },
     "user_tz": 420
    },
    "id": "jxIigt1ooyl7",
    "outputId": "8bd1e098-4745-4fcd-b3d8-914bbfbff535"
   },
   "outputs": [
    {
     "name": "stdout",
     "output_type": "stream",
     "text": [
      "R-Squared: 0.983186\n"
     ]
    },
    {
     "data": {
      "image/png": "[encoded data removed]",
      "text/plain": [
       "<Figure size 432x288 with 1 Axes>"
      ]
     },
     "metadata": {
      "needs_background": "light"
     },
     "output_type": "display_data"
    }
   ],
   "source": [
    "from sklearn.metrics import r2_score\n",
    "\n",
    "y_pred = model.predict(testX)\n",
    "plt.plot(testY)\n",
    "plt.plot(y_pred)\n",
    "print('R-Squared: %f'%(r2_score(testY, y_pred)))"
   ]
  },
  {
   "cell_type": "code",
   "execution_count": 13,
   "metadata": {
    "colab": {
     "base_uri": "https://localhost:8080/"
    },
    "executionInfo": {
     "elapsed": 137,
     "status": "ok",
     "timestamp": 1647215525006,
     "user": {
      "displayName": "John Foxworthy",
      "photoUrl": "https://lh3.googleusercontent.com/a-/AOh14Gjn2D58SbCMnKjb3yLpkAdgVtfzuDgZkA7M3OtH_Q=s64",
      "userId": "06565867259952209038"
     },
     "user_tz": 420
    },
    "id": "Wxn-RL-5q41b",
    "outputId": "9f9eb53d-9c83-4337-8907-63cbdac602b2"
   },
   "outputs": [
    {
     "data": {
      "text/plain": [
       "32.725906"
      ]
     },
     "execution_count": 13,
     "metadata": {},
     "output_type": "execute_result"
    }
   ],
   "source": [
    "mape = tf.keras.losses.MeanAbsolutePercentageError()\n",
    "mape(testY, y_pred).numpy()\n"
   ]
  },
  {
   "cell_type": "code",
   "execution_count": 14,
   "metadata": {
    "executionInfo": {
     "elapsed": 318,
     "status": "ok",
     "timestamp": 1647215526780,
     "user": {
      "displayName": "John Foxworthy",
      "photoUrl": "https://lh3.googleusercontent.com/a-/AOh14Gjn2D58SbCMnKjb3yLpkAdgVtfzuDgZkA7M3OtH_Q=s64",
      "userId": "06565867259952209038"
     },
     "user_tz": 420
    },
    "id": "lVnNZTNEGaJ9"
   },
   "outputs": [],
   "source": [
    "# make predictions\n",
    "trainPredict = model.predict(trainX)\n",
    "testPredict = model.predict(testX)"
   ]
  },
  {
   "cell_type": "code",
   "execution_count": 15,
   "metadata": {
    "executionInfo": {
     "elapsed": 3,
     "status": "ok",
     "timestamp": 1647215527246,
     "user": {
      "displayName": "John Foxworthy",
      "photoUrl": "https://lh3.googleusercontent.com/a-/AOh14Gjn2D58SbCMnKjb3yLpkAdgVtfzuDgZkA7M3OtH_Q=s64",
      "userId": "06565867259952209038"
     },
     "user_tz": 420
    },
    "id": "vDiFewECGmna"
   },
   "outputs": [],
   "source": [
    "# invert predictions\n",
    "trainPredict = scaler.inverse_transform(trainPredict)\n",
    "trainY = scaler.inverse_transform([trainY])\n",
    "testPredict = scaler.inverse_transform(testPredict)\n",
    "testY = scaler.inverse_transform([testY])"
   ]
  },
  {
   "cell_type": "code",
   "execution_count": 16,
   "metadata": {
    "colab": {
     "base_uri": "https://localhost:8080/"
    },
    "executionInfo": {
     "elapsed": 139,
     "status": "ok",
     "timestamp": 1647215528316,
     "user": {
      "displayName": "John Foxworthy",
      "photoUrl": "https://lh3.googleusercontent.com/a-/AOh14Gjn2D58SbCMnKjb3yLpkAdgVtfzuDgZkA7M3OtH_Q=s64",
      "userId": "06565867259952209038"
     },
     "user_tz": 420
    },
    "id": "MVlq8jGMGopp",
    "outputId": "9b511a1c-249d-4a2b-feb2-9932693971a2"
   },
   "outputs": [
    {
     "name": "stdout",
     "output_type": "stream",
     "text": [
      "Train Score: 2.63 RMSE\n",
      "Test Score: 6.73 RMSE\n"
     ]
    }
   ],
   "source": [
    "# calculate root mean squared error\n",
    "trainScore = math.sqrt(mean_squared_error(trainY[0], trainPredict[:,0]))\n",
    "print('Train Score: %.2f RMSE' % (trainScore))\n",
    "testScore = math.sqrt(mean_squared_error(testY[0], testPredict[:,0]))\n",
    "print('Test Score: %.2f RMSE' % (testScore))"
   ]
  },
  {
   "cell_type": "code",
   "execution_count": 17,
   "metadata": {
    "colab": {
     "base_uri": "https://localhost:8080/",
     "height": 265
    },
    "executionInfo": {
     "elapsed": 231,
     "status": "ok",
     "timestamp": 1647215529912,
     "user": {
      "displayName": "John Foxworthy",
      "photoUrl": "https://lh3.googleusercontent.com/a-/AOh14Gjn2D58SbCMnKjb3yLpkAdgVtfzuDgZkA7M3OtH_Q=s64",
      "userId": "06565867259952209038"
     },
     "user_tz": 420
    },
    "id": "K-Y8pynvGsFu",
    "outputId": "d7fc1d59-66a1-46ca-84f2-416cc5e8fc2a"
   },
   "outputs": [
    {
     "data": {
      "image/png": "[encoded data removed]",
      "text/plain": [
       "<Figure size 432x288 with 1 Axes>"
      ]
     },
     "metadata": {
      "needs_background": "light"
     },
     "output_type": "display_data"
    }
   ],
   "source": [
    "# shift train predictions for plotting\n",
    "trainPredictPlot = numpy.empty_like(dataset)\n",
    "trainPredictPlot[:, :] = numpy.nan\n",
    "trainPredictPlot[look_back:len(trainPredict)+look_back, :] = trainPredict\n",
    "\n",
    "# shift test predictions for plotting\n",
    "testPredictPlot = numpy.empty_like(dataset)\n",
    "testPredictPlot[:, :] = numpy.nan\n",
    "testPredictPlot[len(trainPredict)+(look_back*2)+1:len(dataset)-1, :] = testPredict\n",
    "\n",
    "# plot baseline and predictions\n",
    "plt.plot(scaler.inverse_transform(dataset))\n",
    "plt.plot(trainPredictPlot)\n",
    "plt.plot(testPredictPlot)\n",
    "plt.show()"
   ]
  },
  {
   "cell_type": "markdown",
   "metadata": {
    "id": "HBOWPOrPO1lk"
   },
   "source": [
    "### The above graph overlays the Train and Test Predictions"
   ]
  },
  {
   "cell_type": "code",
   "execution_count": null,
   "metadata": {
    "id": "ieiBfgnvWlzG"
   },
   "outputs": [],
   "source": []
  }
 ],
 "metadata": {
  "accelerator": "TPU",
  "colab": {
   "authorship_tag": "ABX9TyM2V9gBiuuYYND/P44mdcZ9",
   "collapsed_sections": [],
   "machine_shape": "hm",
   "mount_file_id": "1ObxYg2WvzRDI3Jd7zzDPxxSbbdynlIWS",
   "name": "01A04_LosAngeles.ipynb",
   "provenance": [
    {
     "file_id": "1U1QADxc5NJrsj8eYCY5qUH-nYC5u5zQ3",
     "timestamp": 1647197027733
    },
    {
     "file_id": "1PUkV8tOzuRkhHr7OhFzxSj4nj4yTS6xX",
     "timestamp": 1646846549935
    },
    {
     "file_id": "1dY4cAt9xjBgbNY4LHeJAqxpZFI0OLeRK",
     "timestamp": 1646624703762
    },
    {
     "file_id": "1ObxYg2WvzRDI3Jd7zzDPxxSbbdynlIWS",
     "timestamp": 1646603763919
    }
   ]
  },
  "kernelspec": {
   "display_name": "Python 3 (ipykernel)",
   "language": "python",
   "name": "python3"
  },
  "language_info": {
   "codemirror_mode": {
    "name": "ipython",
    "version": 3
   },
   "file_extension": ".py",
   "mimetype": "text/x-python",
   "name": "python",
   "nbconvert_exporter": "python",
   "pygments_lexer": "ipython3",
   "version": "3.7.6"
  }
 },
 "nbformat": 4,
 "nbformat_minor": 4
}
