{
 "cells": [
  {
   "cell_type": "markdown",
   "metadata": {
    "id": "jBBc1b1HD-Tv"
   },
   "source": [
    "# Assignment 04 LSTM Time Series Los Angeles with 2 LSTM cells"
   ]
  },
  {
   "cell_type": "code",
   "execution_count": 1,
   "metadata": {
    "executionInfo": {
     "elapsed": 3413,
     "status": "ok",
     "timestamp": 1647216541621,
     "user": {
      "displayName": "John Foxworthy",
      "photoUrl": "https://lh3.googleusercontent.com/a-/AOh14Gjn2D58SbCMnKjb3yLpkAdgVtfzuDgZkA7M3OtH_Q=s64",
      "userId": "06565867259952209038"
     },
     "user_tz": 420
    },
    "id": "3iYx_Oh4Fl2U"
   },
   "outputs": [],
   "source": [
    "# Data Analysis Libraries\n",
    "import numpy \n",
    "import pandas \n",
    "import math\n",
    "\n",
    "# Data Visualization\n",
    "import matplotlib.pyplot as plt\n",
    "\n",
    "# Data Preprocessing\n",
    "from sklearn.preprocessing import MinMaxScaler\n",
    "\n",
    "# Deep Learning Libraries\n",
    "import tensorflow as tf\n",
    "from keras.models import Sequential\n",
    "from keras.layers import Dense\n",
    "from keras.layers import LSTM\n",
    "\n",
    "# Assessment Libraries\n",
    "from sklearn.metrics import mean_squared_error"
   ]
  },
  {
   "cell_type": "code",
   "execution_count": 2,
   "metadata": {
    "executionInfo": {
     "elapsed": 173,
     "status": "ok",
     "timestamp": 1647216550195,
     "user": {
      "displayName": "John Foxworthy",
      "photoUrl": "https://lh3.googleusercontent.com/a-/AOh14Gjn2D58SbCMnKjb3yLpkAdgVtfzuDgZkA7M3OtH_Q=s64",
      "userId": "06565867259952209038"
     },
     "user_tz": 420
    },
    "id": "RwVHxLqAFnLl"
   },
   "outputs": [],
   "source": [
    "# fix random seed for reproducibility\n",
    "numpy.random.seed(7)"
   ]
  },
  {
   "cell_type": "code",
   "execution_count": 3,
   "metadata": {
    "executionInfo": {
     "elapsed": 195,
     "status": "ok",
     "timestamp": 1647216551255,
     "user": {
      "displayName": "John Foxworthy",
      "photoUrl": "https://lh3.googleusercontent.com/a-/AOh14Gjn2D58SbCMnKjb3yLpkAdgVtfzuDgZkA7M3OtH_Q=s64",
      "userId": "06565867259952209038"
     },
     "user_tz": 420
    },
    "id": "kWHSKSjNFsws"
   },
   "outputs": [],
   "source": [
    "dataframe = pandas.read_csv('/content/sample_data/la.csv', usecols=[1], engine='python')\n",
    "dataset = dataframe.values\n",
    "dataset = dataset.astype('float32')"
   ]
  },
  {
   "cell_type": "code",
   "execution_count": 4,
   "metadata": {
    "colab": {
     "base_uri": "https://localhost:8080/"
    },
    "executionInfo": {
     "elapsed": 2,
     "status": "ok",
     "timestamp": 1647216552103,
     "user": {
      "displayName": "John Foxworthy",
      "photoUrl": "https://lh3.googleusercontent.com/a-/AOh14Gjn2D58SbCMnKjb3yLpkAdgVtfzuDgZkA7M3OtH_Q=s64",
      "userId": "06565867259952209038"
     },
     "user_tz": 420
    },
    "id": "WrbR7CuGOjWG",
    "outputId": "ff6896da-037b-495a-f5b5-adeffef1d460"
   },
   "outputs": [
    {
     "name": "stdout",
     "output_type": "stream",
     "text": [
      "<class 'pandas.core.frame.DataFrame'>\n",
      "RangeIndex: 420 entries, 0 to 419\n",
      "Data columns (total 1 columns):\n",
      " #   Column  Non-Null Count  Dtype  \n",
      "---  ------  --------------  -----  \n",
      " 0   LXXRSA  420 non-null    float64\n",
      "dtypes: float64(1)\n",
      "memory usage: 3.4 KB\n"
     ]
    }
   ],
   "source": [
    "dataframe.info()"
   ]
  },
  {
   "cell_type": "code",
   "execution_count": 5,
   "metadata": {
    "executionInfo": {
     "elapsed": 216,
     "status": "ok",
     "timestamp": 1647216553114,
     "user": {
      "displayName": "John Foxworthy",
      "photoUrl": "https://lh3.googleusercontent.com/a-/AOh14Gjn2D58SbCMnKjb3yLpkAdgVtfzuDgZkA7M3OtH_Q=s64",
      "userId": "06565867259952209038"
     },
     "user_tz": 420
    },
    "id": "1vDfFu5gF8yq"
   },
   "outputs": [],
   "source": [
    "# normalize the dataset\n",
    "scaler = MinMaxScaler(feature_range=(0, 1))\n",
    "dataset = scaler.fit_transform(dataset)"
   ]
  },
  {
   "cell_type": "code",
   "execution_count": 6,
   "metadata": {
    "colab": {
     "base_uri": "https://localhost:8080/"
    },
    "executionInfo": {
     "elapsed": 159,
     "status": "ok",
     "timestamp": 1647216554573,
     "user": {
      "displayName": "John Foxworthy",
      "photoUrl": "https://lh3.googleusercontent.com/a-/AOh14Gjn2D58SbCMnKjb3yLpkAdgVtfzuDgZkA7M3OtH_Q=s64",
      "userId": "06565867259952209038"
     },
     "user_tz": 420
    },
    "id": "XkSnJ_O6GCCZ",
    "outputId": "c35c55a9-b5fa-40c4-a641-1cebe65b9989"
   },
   "outputs": [
    {
     "name": "stdout",
     "output_type": "stream",
     "text": [
      "294 126\n"
     ]
    }
   ],
   "source": [
    "# split into train and test sets\n",
    "train_size = int(len(dataset) * 0.70)\n",
    "test_size = len(dataset) - train_size\n",
    "train, test = dataset[0:train_size,:], dataset[train_size:len(dataset),:]\n",
    "print(len(train), len(test))"
   ]
  },
  {
   "cell_type": "code",
   "execution_count": 7,
   "metadata": {
    "executionInfo": {
     "elapsed": 2,
     "status": "ok",
     "timestamp": 1647216556690,
     "user": {
      "displayName": "John Foxworthy",
      "photoUrl": "https://lh3.googleusercontent.com/a-/AOh14Gjn2D58SbCMnKjb3yLpkAdgVtfzuDgZkA7M3OtH_Q=s64",
      "userId": "06565867259952209038"
     },
     "user_tz": 420
    },
    "id": "gDP0o54XGGBQ"
   },
   "outputs": [],
   "source": [
    "# convert an array of values into a dataset matrix\n",
    "def create_dataset(dataset, look_back=1):\n",
    "\tdataX, dataY = [], []\n",
    "\tfor i in range(len(dataset)-look_back-1):\n",
    "\t\ta = dataset[i:(i+look_back), 0]\n",
    "\t\tdataX.append(a)\n",
    "\t\tdataY.append(dataset[i + look_back, 0])\n",
    "\treturn numpy.array(dataX), numpy.array(dataY)"
   ]
  },
  {
   "cell_type": "code",
   "execution_count": 8,
   "metadata": {
    "executionInfo": {
     "elapsed": 150,
     "status": "ok",
     "timestamp": 1647216558363,
     "user": {
      "displayName": "John Foxworthy",
      "photoUrl": "https://lh3.googleusercontent.com/a-/AOh14Gjn2D58SbCMnKjb3yLpkAdgVtfzuDgZkA7M3OtH_Q=s64",
      "userId": "06565867259952209038"
     },
     "user_tz": 420
    },
    "id": "8013b7shGM97"
   },
   "outputs": [],
   "source": [
    "# reshape into X=t and Y=t+1\n",
    "look_back = 1\n",
    "trainX, trainY = create_dataset(train, look_back)\n",
    "testX, testY = create_dataset(test, look_back)"
   ]
  },
  {
   "cell_type": "code",
   "execution_count": 9,
   "metadata": {
    "executionInfo": {
     "elapsed": 2,
     "status": "ok",
     "timestamp": 1647216559115,
     "user": {
      "displayName": "John Foxworthy",
      "photoUrl": "https://lh3.googleusercontent.com/a-/AOh14Gjn2D58SbCMnKjb3yLpkAdgVtfzuDgZkA7M3OtH_Q=s64",
      "userId": "06565867259952209038"
     },
     "user_tz": 420
    },
    "id": "0rBSFRpgGRA2"
   },
   "outputs": [],
   "source": [
    "# reshape input to be [samples, time steps, features]\n",
    "trainX = numpy.reshape(trainX, (trainX.shape[0], 1, trainX.shape[1]))\n",
    "testX = numpy.reshape(testX, (testX.shape[0], 1, testX.shape[1]))"
   ]
  },
  {
   "cell_type": "code",
   "execution_count": 10,
   "metadata": {
    "colab": {
     "base_uri": "https://localhost:8080/"
    },
    "executionInfo": {
     "elapsed": 38561,
     "status": "ok",
     "timestamp": 1647216598574,
     "user": {
      "displayName": "John Foxworthy",
      "photoUrl": "https://lh3.googleusercontent.com/a-/AOh14Gjn2D58SbCMnKjb3yLpkAdgVtfzuDgZkA7M3OtH_Q=s64",
      "userId": "06565867259952209038"
     },
     "user_tz": 420
    },
    "id": "XpnmQiq4GVDD",
    "outputId": "2a8fec4b-f694-4e24-fb0b-a87c07d0c591"
   },
   "outputs": [
    {
     "name": "stdout",
     "output_type": "stream",
     "text": [
      "Epoch 1/100\n",
      "292/292 - 2s - loss: 0.0613 - 2s/epoch - 7ms/step\n",
      "Epoch 2/100\n",
      "292/292 - 0s - loss: 0.0378 - 366ms/epoch - 1ms/step\n",
      "Epoch 3/100\n",
      "292/292 - 0s - loss: 0.0311 - 372ms/epoch - 1ms/step\n",
      "Epoch 4/100\n",
      "292/292 - 0s - loss: 0.0220 - 372ms/epoch - 1ms/step\n",
      "Epoch 5/100\n",
      "292/292 - 0s - loss: 0.0125 - 374ms/epoch - 1ms/step\n",
      "Epoch 6/100\n",
      "292/292 - 0s - loss: 0.0049 - 375ms/epoch - 1ms/step\n",
      "Epoch 7/100\n",
      "292/292 - 0s - loss: 0.0013 - 369ms/epoch - 1ms/step\n",
      "Epoch 8/100\n",
      "292/292 - 0s - loss: 2.4675e-04 - 372ms/epoch - 1ms/step\n",
      "Epoch 9/100\n",
      "292/292 - 0s - loss: 9.9240e-05 - 369ms/epoch - 1ms/step\n",
      "Epoch 10/100\n",
      "292/292 - 0s - loss: 8.6355e-05 - 377ms/epoch - 1ms/step\n",
      "Epoch 11/100\n",
      "292/292 - 0s - loss: 8.2532e-05 - 366ms/epoch - 1ms/step\n",
      "Epoch 12/100\n",
      "292/292 - 0s - loss: 8.1139e-05 - 356ms/epoch - 1ms/step\n",
      "Epoch 13/100\n",
      "292/292 - 0s - loss: 8.0485e-05 - 373ms/epoch - 1ms/step\n",
      "Epoch 14/100\n",
      "292/292 - 0s - loss: 7.7195e-05 - 364ms/epoch - 1ms/step\n",
      "Epoch 15/100\n",
      "292/292 - 0s - loss: 7.7133e-05 - 365ms/epoch - 1ms/step\n",
      "Epoch 16/100\n",
      "292/292 - 0s - loss: 7.5957e-05 - 362ms/epoch - 1ms/step\n",
      "Epoch 17/100\n",
      "292/292 - 0s - loss: 7.5575e-05 - 361ms/epoch - 1ms/step\n",
      "Epoch 18/100\n",
      "292/292 - 0s - loss: 7.0866e-05 - 371ms/epoch - 1ms/step\n",
      "Epoch 19/100\n",
      "292/292 - 0s - loss: 7.4663e-05 - 368ms/epoch - 1ms/step\n",
      "Epoch 20/100\n",
      "292/292 - 0s - loss: 7.3388e-05 - 357ms/epoch - 1ms/step\n",
      "Epoch 21/100\n",
      "292/292 - 0s - loss: 7.1786e-05 - 364ms/epoch - 1ms/step\n",
      "Epoch 22/100\n",
      "292/292 - 0s - loss: 7.2907e-05 - 358ms/epoch - 1ms/step\n",
      "Epoch 23/100\n",
      "292/292 - 0s - loss: 7.3340e-05 - 343ms/epoch - 1ms/step\n",
      "Epoch 24/100\n",
      "292/292 - 0s - loss: 7.5733e-05 - 360ms/epoch - 1ms/step\n",
      "Epoch 25/100\n",
      "292/292 - 0s - loss: 7.2873e-05 - 366ms/epoch - 1ms/step\n",
      "Epoch 26/100\n",
      "292/292 - 0s - loss: 7.5012e-05 - 374ms/epoch - 1ms/step\n",
      "Epoch 27/100\n",
      "292/292 - 0s - loss: 6.9989e-05 - 369ms/epoch - 1ms/step\n",
      "Epoch 28/100\n",
      "292/292 - 0s - loss: 7.5207e-05 - 367ms/epoch - 1ms/step\n",
      "Epoch 29/100\n",
      "292/292 - 0s - loss: 7.5307e-05 - 361ms/epoch - 1ms/step\n",
      "Epoch 30/100\n",
      "292/292 - 0s - loss: 7.4096e-05 - 353ms/epoch - 1ms/step\n",
      "Epoch 31/100\n",
      "292/292 - 0s - loss: 7.1683e-05 - 360ms/epoch - 1ms/step\n",
      "Epoch 32/100\n",
      "292/292 - 0s - loss: 7.4023e-05 - 364ms/epoch - 1ms/step\n",
      "Epoch 33/100\n",
      "292/292 - 0s - loss: 7.0012e-05 - 365ms/epoch - 1ms/step\n",
      "Epoch 34/100\n",
      "292/292 - 0s - loss: 7.3169e-05 - 363ms/epoch - 1ms/step\n",
      "Epoch 35/100\n",
      "292/292 - 0s - loss: 7.2633e-05 - 357ms/epoch - 1ms/step\n",
      "Epoch 36/100\n",
      "292/292 - 0s - loss: 7.2797e-05 - 346ms/epoch - 1ms/step\n",
      "Epoch 37/100\n",
      "292/292 - 0s - loss: 7.2455e-05 - 353ms/epoch - 1ms/step\n",
      "Epoch 38/100\n",
      "292/292 - 0s - loss: 6.7635e-05 - 364ms/epoch - 1ms/step\n",
      "Epoch 39/100\n",
      "292/292 - 0s - loss: 7.1340e-05 - 362ms/epoch - 1ms/step\n",
      "Epoch 40/100\n",
      "292/292 - 0s - loss: 7.5090e-05 - 355ms/epoch - 1ms/step\n",
      "Epoch 41/100\n",
      "292/292 - 0s - loss: 7.0530e-05 - 363ms/epoch - 1ms/step\n",
      "Epoch 42/100\n",
      "292/292 - 0s - loss: 7.3334e-05 - 360ms/epoch - 1ms/step\n",
      "Epoch 43/100\n",
      "292/292 - 0s - loss: 7.1658e-05 - 366ms/epoch - 1ms/step\n",
      "Epoch 44/100\n",
      "292/292 - 0s - loss: 7.7758e-05 - 352ms/epoch - 1ms/step\n",
      "Epoch 45/100\n",
      "292/292 - 0s - loss: 7.0220e-05 - 344ms/epoch - 1ms/step\n",
      "Epoch 46/100\n",
      "292/292 - 0s - loss: 7.1964e-05 - 365ms/epoch - 1ms/step\n",
      "Epoch 47/100\n",
      "292/292 - 0s - loss: 7.1160e-05 - 350ms/epoch - 1ms/step\n",
      "Epoch 48/100\n",
      "292/292 - 0s - loss: 6.6977e-05 - 338ms/epoch - 1ms/step\n",
      "Epoch 49/100\n",
      "292/292 - 0s - loss: 7.0591e-05 - 355ms/epoch - 1ms/step\n",
      "Epoch 50/100\n",
      "292/292 - 0s - loss: 7.2046e-05 - 359ms/epoch - 1ms/step\n",
      "Epoch 51/100\n",
      "292/292 - 0s - loss: 6.8956e-05 - 359ms/epoch - 1ms/step\n",
      "Epoch 52/100\n",
      "292/292 - 0s - loss: 6.9396e-05 - 362ms/epoch - 1ms/step\n",
      "Epoch 53/100\n",
      "292/292 - 0s - loss: 6.7301e-05 - 364ms/epoch - 1ms/step\n",
      "Epoch 54/100\n",
      "292/292 - 0s - loss: 6.8474e-05 - 364ms/epoch - 1ms/step\n",
      "Epoch 55/100\n",
      "292/292 - 0s - loss: 6.8440e-05 - 351ms/epoch - 1ms/step\n",
      "Epoch 56/100\n",
      "292/292 - 0s - loss: 6.2508e-05 - 359ms/epoch - 1ms/step\n",
      "Epoch 57/100\n",
      "292/292 - 0s - loss: 7.2752e-05 - 358ms/epoch - 1ms/step\n",
      "Epoch 58/100\n",
      "292/292 - 0s - loss: 6.5581e-05 - 368ms/epoch - 1ms/step\n",
      "Epoch 59/100\n",
      "292/292 - 0s - loss: 6.8116e-05 - 348ms/epoch - 1ms/step\n",
      "Epoch 60/100\n",
      "292/292 - 0s - loss: 6.6458e-05 - 357ms/epoch - 1ms/step\n",
      "Epoch 61/100\n",
      "292/292 - 0s - loss: 6.5541e-05 - 350ms/epoch - 1ms/step\n",
      "Epoch 62/100\n",
      "292/292 - 0s - loss: 6.6922e-05 - 348ms/epoch - 1ms/step\n",
      "Epoch 63/100\n",
      "292/292 - 0s - loss: 6.7971e-05 - 350ms/epoch - 1ms/step\n",
      "Epoch 64/100\n",
      "292/292 - 0s - loss: 7.1241e-05 - 350ms/epoch - 1ms/step\n",
      "Epoch 65/100\n",
      "292/292 - 0s - loss: 6.9360e-05 - 344ms/epoch - 1ms/step\n",
      "Epoch 66/100\n",
      "292/292 - 0s - loss: 5.9197e-05 - 345ms/epoch - 1ms/step\n",
      "Epoch 67/100\n",
      "292/292 - 0s - loss: 6.4308e-05 - 344ms/epoch - 1ms/step\n",
      "Epoch 68/100\n",
      "292/292 - 0s - loss: 6.1814e-05 - 350ms/epoch - 1ms/step\n",
      "Epoch 69/100\n",
      "292/292 - 0s - loss: 6.7377e-05 - 355ms/epoch - 1ms/step\n",
      "Epoch 70/100\n",
      "292/292 - 0s - loss: 6.4015e-05 - 341ms/epoch - 1ms/step\n",
      "Epoch 71/100\n",
      "292/292 - 0s - loss: 6.8600e-05 - 349ms/epoch - 1ms/step\n",
      "Epoch 72/100\n",
      "292/292 - 0s - loss: 6.1664e-05 - 342ms/epoch - 1ms/step\n",
      "Epoch 73/100\n",
      "292/292 - 0s - loss: 6.8590e-05 - 347ms/epoch - 1ms/step\n",
      "Epoch 74/100\n",
      "292/292 - 0s - loss: 6.1463e-05 - 352ms/epoch - 1ms/step\n",
      "Epoch 75/100\n",
      "292/292 - 0s - loss: 6.1294e-05 - 352ms/epoch - 1ms/step\n",
      "Epoch 76/100\n",
      "292/292 - 0s - loss: 6.4540e-05 - 354ms/epoch - 1ms/step\n",
      "Epoch 77/100\n",
      "292/292 - 0s - loss: 6.5172e-05 - 356ms/epoch - 1ms/step\n",
      "Epoch 78/100\n",
      "292/292 - 0s - loss: 7.1247e-05 - 349ms/epoch - 1ms/step\n",
      "Epoch 79/100\n",
      "292/292 - 0s - loss: 6.5885e-05 - 341ms/epoch - 1ms/step\n",
      "Epoch 80/100\n",
      "292/292 - 0s - loss: 6.2646e-05 - 351ms/epoch - 1ms/step\n",
      "Epoch 81/100\n",
      "292/292 - 0s - loss: 6.4029e-05 - 350ms/epoch - 1ms/step\n",
      "Epoch 82/100\n",
      "292/292 - 0s - loss: 6.0153e-05 - 356ms/epoch - 1ms/step\n",
      "Epoch 83/100\n",
      "292/292 - 0s - loss: 7.5822e-05 - 366ms/epoch - 1ms/step\n",
      "Epoch 84/100\n",
      "292/292 - 0s - loss: 6.1618e-05 - 361ms/epoch - 1ms/step\n",
      "Epoch 85/100\n",
      "292/292 - 0s - loss: 6.4449e-05 - 362ms/epoch - 1ms/step\n",
      "Epoch 86/100\n",
      "292/292 - 0s - loss: 6.1909e-05 - 373ms/epoch - 1ms/step\n",
      "Epoch 87/100\n",
      "292/292 - 0s - loss: 6.8721e-05 - 366ms/epoch - 1ms/step\n",
      "Epoch 88/100\n",
      "292/292 - 0s - loss: 6.7622e-05 - 375ms/epoch - 1ms/step\n",
      "Epoch 89/100\n",
      "292/292 - 0s - loss: 6.5593e-05 - 388ms/epoch - 1ms/step\n",
      "Epoch 90/100\n",
      "292/292 - 0s - loss: 5.7440e-05 - 354ms/epoch - 1ms/step\n",
      "Epoch 91/100\n",
      "292/292 - 0s - loss: 6.2920e-05 - 370ms/epoch - 1ms/step\n",
      "Epoch 92/100\n",
      "292/292 - 0s - loss: 6.9090e-05 - 356ms/epoch - 1ms/step\n",
      "Epoch 93/100\n",
      "292/292 - 0s - loss: 6.4881e-05 - 345ms/epoch - 1ms/step\n",
      "Epoch 94/100\n",
      "292/292 - 0s - loss: 6.2370e-05 - 352ms/epoch - 1ms/step\n",
      "Epoch 95/100\n",
      "292/292 - 0s - loss: 6.5840e-05 - 360ms/epoch - 1ms/step\n",
      "Epoch 96/100\n",
      "292/292 - 0s - loss: 6.0432e-05 - 343ms/epoch - 1ms/step\n",
      "Epoch 97/100\n",
      "292/292 - 0s - loss: 6.0311e-05 - 360ms/epoch - 1ms/step\n",
      "Epoch 98/100\n",
      "292/292 - 0s - loss: 6.6387e-05 - 365ms/epoch - 1ms/step\n",
      "Epoch 99/100\n",
      "292/292 - 0s - loss: 6.2620e-05 - 379ms/epoch - 1ms/step\n",
      "Epoch 100/100\n",
      "292/292 - 0s - loss: 6.2624e-05 - 384ms/epoch - 1ms/step\n",
      "CPU times: user 55.7 s, sys: 11.7 s, total: 1min 7s\n",
      "Wall time: 38.5 s\n"
     ]
    }
   ],
   "source": [
    "# create and fit the LSTM network\n",
    "%%time\n",
    "model = Sequential()\n",
    "model.add(LSTM(2, input_shape=(1, look_back)))\n",
    "model.add(Dense(1))\n",
    "model.compile(loss='mean_squared_error', optimizer='adam')\n",
    "model.fit(trainX, trainY, epochs=100, batch_size=1, verbose=2)"
   ]
  },
  {
   "cell_type": "code",
   "execution_count": 11,
   "metadata": {
    "colab": {
     "base_uri": "https://localhost:8080/"
    },
    "executionInfo": {
     "elapsed": 151,
     "status": "ok",
     "timestamp": 1647216600088,
     "user": {
      "displayName": "John Foxworthy",
      "photoUrl": "https://lh3.googleusercontent.com/a-/AOh14Gjn2D58SbCMnKjb3yLpkAdgVtfzuDgZkA7M3OtH_Q=s64",
      "userId": "06565867259952209038"
     },
     "user_tz": 420
    },
    "id": "LQITc1jhwSkf",
    "outputId": "66e0fad1-5e6c-4e75-80b2-54924211c1b7"
   },
   "outputs": [
    {
     "name": "stdout",
     "output_type": "stream",
     "text": [
      "Model: \"sequential\"\n",
      "_________________________________________________________________\n",
      " Layer (type)                Output Shape              Param #   \n",
      "=================================================================\n",
      " lstm (LSTM)                 (None, 2)                 32        \n",
      "                                                                 \n",
      " dense (Dense)               (None, 1)                 3         \n",
      "                                                                 \n",
      "=================================================================\n",
      "Total params: 35\n",
      "Trainable params: 35\n",
      "Non-trainable params: 0\n",
      "_________________________________________________________________\n"
     ]
    }
   ],
   "source": [
    "model.summary()"
   ]
  },
  {
   "cell_type": "code",
   "execution_count": 12,
   "metadata": {
    "colab": {
     "base_uri": "https://localhost:8080/",
     "height": 283
    },
    "executionInfo": {
     "elapsed": 933,
     "status": "ok",
     "timestamp": 1647216604021,
     "user": {
      "displayName": "John Foxworthy",
      "photoUrl": "https://lh3.googleusercontent.com/a-/AOh14Gjn2D58SbCMnKjb3yLpkAdgVtfzuDgZkA7M3OtH_Q=s64",
      "userId": "06565867259952209038"
     },
     "user_tz": 420
    },
    "id": "jxIigt1ooyl7",
    "outputId": "7c8ae5f0-1fef-4592-fb8a-29876f58c333"
   },
   "outputs": [
    {
     "name": "stdout",
     "output_type": "stream",
     "text": [
      "R-Squared: 0.972010\n"
     ]
    },
    {
     "data": {
      "image/png": "[encoded data removed]",
      "text/plain": [
       "<Figure size 432x288 with 1 Axes>"
      ]
     },
     "metadata": {
      "needs_background": "light"
     },
     "output_type": "display_data"
    }
   ],
   "source": [
    "from sklearn.metrics import r2_score\n",
    "\n",
    "y_pred = model.predict(testX)\n",
    "plt.plot(testY)\n",
    "plt.plot(y_pred)\n",
    "print('R-Squared: %f'%(r2_score(testY, y_pred)))"
   ]
  },
  {
   "cell_type": "code",
   "execution_count": 13,
   "metadata": {
    "colab": {
     "base_uri": "https://localhost:8080/"
    },
    "executionInfo": {
     "elapsed": 135,
     "status": "ok",
     "timestamp": 1647216606388,
     "user": {
      "displayName": "John Foxworthy",
      "photoUrl": "https://lh3.googleusercontent.com/a-/AOh14Gjn2D58SbCMnKjb3yLpkAdgVtfzuDgZkA7M3OtH_Q=s64",
      "userId": "06565867259952209038"
     },
     "user_tz": 420
    },
    "id": "Wxn-RL-5q41b",
    "outputId": "3b2d301e-938c-472f-bc6b-e0d7313d3eed"
   },
   "outputs": [
    {
     "data": {
      "text/plain": [
       "32.11802"
      ]
     },
     "execution_count": 13,
     "metadata": {},
     "output_type": "execute_result"
    }
   ],
   "source": [
    "mape = tf.keras.losses.MeanAbsolutePercentageError()\n",
    "mape(testY, y_pred).numpy()\n"
   ]
  },
  {
   "cell_type": "code",
   "execution_count": 14,
   "metadata": {
    "executionInfo": {
     "elapsed": 313,
     "status": "ok",
     "timestamp": 1647216608283,
     "user": {
      "displayName": "John Foxworthy",
      "photoUrl": "https://lh3.googleusercontent.com/a-/AOh14Gjn2D58SbCMnKjb3yLpkAdgVtfzuDgZkA7M3OtH_Q=s64",
      "userId": "06565867259952209038"
     },
     "user_tz": 420
    },
    "id": "lVnNZTNEGaJ9"
   },
   "outputs": [],
   "source": [
    "# make predictions\n",
    "trainPredict = model.predict(trainX)\n",
    "testPredict = model.predict(testX)"
   ]
  },
  {
   "cell_type": "code",
   "execution_count": 15,
   "metadata": {
    "executionInfo": {
     "elapsed": 128,
     "status": "ok",
     "timestamp": 1647216609001,
     "user": {
      "displayName": "John Foxworthy",
      "photoUrl": "https://lh3.googleusercontent.com/a-/AOh14Gjn2D58SbCMnKjb3yLpkAdgVtfzuDgZkA7M3OtH_Q=s64",
      "userId": "06565867259952209038"
     },
     "user_tz": 420
    },
    "id": "vDiFewECGmna"
   },
   "outputs": [],
   "source": [
    "# invert predictions\n",
    "trainPredict = scaler.inverse_transform(trainPredict)\n",
    "trainY = scaler.inverse_transform([trainY])\n",
    "testPredict = scaler.inverse_transform(testPredict)\n",
    "testY = scaler.inverse_transform([testY])"
   ]
  },
  {
   "cell_type": "code",
   "execution_count": 16,
   "metadata": {
    "colab": {
     "base_uri": "https://localhost:8080/"
    },
    "executionInfo": {
     "elapsed": 158,
     "status": "ok",
     "timestamp": 1647216610243,
     "user": {
      "displayName": "John Foxworthy",
      "photoUrl": "https://lh3.googleusercontent.com/a-/AOh14Gjn2D58SbCMnKjb3yLpkAdgVtfzuDgZkA7M3OtH_Q=s64",
      "userId": "06565867259952209038"
     },
     "user_tz": 420
    },
    "id": "MVlq8jGMGopp",
    "outputId": "51098313-6d7f-403b-f3db-19b7cc3ee010"
   },
   "outputs": [
    {
     "name": "stdout",
     "output_type": "stream",
     "text": [
      "Train Score: 2.39 RMSE\n",
      "Test Score: 8.68 RMSE\n"
     ]
    }
   ],
   "source": [
    "# calculate root mean squared error\n",
    "trainScore = math.sqrt(mean_squared_error(trainY[0], trainPredict[:,0]))\n",
    "print('Train Score: %.2f RMSE' % (trainScore))\n",
    "testScore = math.sqrt(mean_squared_error(testY[0], testPredict[:,0]))\n",
    "print('Test Score: %.2f RMSE' % (testScore))"
   ]
  },
  {
   "cell_type": "code",
   "execution_count": 17,
   "metadata": {
    "colab": {
     "base_uri": "https://localhost:8080/",
     "height": 265
    },
    "executionInfo": {
     "elapsed": 323,
     "status": "ok",
     "timestamp": 1647216612163,
     "user": {
      "displayName": "John Foxworthy",
      "photoUrl": "https://lh3.googleusercontent.com/a-/AOh14Gjn2D58SbCMnKjb3yLpkAdgVtfzuDgZkA7M3OtH_Q=s64",
      "userId": "06565867259952209038"
     },
     "user_tz": 420
    },
    "id": "K-Y8pynvGsFu",
    "outputId": "36e1b1bb-c442-43ca-910a-4be48cd04eb7"
   },
   "outputs": [
    {
     "data": {
      "image/png": "[encoded data removed]",
      "text/plain": [
       "<Figure size 432x288 with 1 Axes>"
      ]
     },
     "metadata": {
      "needs_background": "light"
     },
     "output_type": "display_data"
    }
   ],
   "source": [
    "# shift train predictions for plotting\n",
    "trainPredictPlot = numpy.empty_like(dataset)\n",
    "trainPredictPlot[:, :] = numpy.nan\n",
    "trainPredictPlot[look_back:len(trainPredict)+look_back, :] = trainPredict\n",
    "\n",
    "# shift test predictions for plotting\n",
    "testPredictPlot = numpy.empty_like(dataset)\n",
    "testPredictPlot[:, :] = numpy.nan\n",
    "testPredictPlot[len(trainPredict)+(look_back*2)+1:len(dataset)-1, :] = testPredict\n",
    "\n",
    "# plot baseline and predictions\n",
    "plt.plot(scaler.inverse_transform(dataset))\n",
    "plt.plot(trainPredictPlot)\n",
    "plt.plot(testPredictPlot)\n",
    "plt.show()"
   ]
  },
  {
   "cell_type": "markdown",
   "metadata": {
    "id": "HBOWPOrPO1lk"
   },
   "source": [
    "### The above graph overlays the Train and Test Predictions"
   ]
  },
  {
   "cell_type": "code",
   "execution_count": null,
   "metadata": {
    "id": "ieiBfgnvWlzG"
   },
   "outputs": [],
   "source": []
  }
 ],
 "metadata": {
  "colab": {
   "authorship_tag": "ABX9TyNbp89eG0zitu7T2T63dKi1",
   "collapsed_sections": [],
   "mount_file_id": "1ObxYg2WvzRDI3Jd7zzDPxxSbbdynlIWS",
   "name": "03A04_LosAngeles.ipynb",
   "provenance": [
    {
     "file_id": "1HGTtkZCyFBEAPw349jJOmvZwtlNeB01w",
     "timestamp": 1647208994409
    },
    {
     "file_id": "1U1QADxc5NJrsj8eYCY5qUH-nYC5u5zQ3",
     "timestamp": 1647197027733
    },
    {
     "file_id": "1PUkV8tOzuRkhHr7OhFzxSj4nj4yTS6xX",
     "timestamp": 1646846549935
    },
    {
     "file_id": "1dY4cAt9xjBgbNY4LHeJAqxpZFI0OLeRK",
     "timestamp": 1646624703762
    },
    {
     "file_id": "1ObxYg2WvzRDI3Jd7zzDPxxSbbdynlIWS",
     "timestamp": 1646603763919
    }
   ]
  },
  "kernelspec": {
   "display_name": "Python 3 (ipykernel)",
   "language": "python",
   "name": "python3"
  },
  "language_info": {
   "codemirror_mode": {
    "name": "ipython",
    "version": 3
   },
   "file_extension": ".py",
   "mimetype": "text/x-python",
   "name": "python",
   "nbconvert_exporter": "python",
   "pygments_lexer": "ipython3",
   "version": "3.7.6"
  }
 },
 "nbformat": 4,
 "nbformat_minor": 4
}
